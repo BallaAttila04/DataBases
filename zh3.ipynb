{
 "cells": [
  {
   "cell_type": "code",
   "execution_count": null,
   "metadata": {},
   "outputs": [],
   "source": [
    "{\"genres.0\": \"Short\", year: {$gte: 1945, $lt:1979}}\n",
    "{title: 1, year: 1, _id: 0}\n",
    "{year: 1, title: 1}"
   ]
  },
  {
   "cell_type": "code",
   "execution_count": null,
   "metadata": {},
   "outputs": [],
   "source": [
    "db.users.find(\n",
    "\n",
    "  {\n",
    "\n",
    "    \"email\": /com/\n",
    "\n",
    "  },\n",
    "\n",
    "  {\n",
    "\n",
    "    \"name\": 1,\n",
    "\n",
    "    \"email\": 1,\n",
    "\n",
    "    \"_id\": 0\n",
    "\n",
    "  }\n",
    "\n",
    ");\n",
    "\n"
   ]
  },
  {
   "cell_type": "code",
   "execution_count": null,
   "metadata": {},
   "outputs": [],
   "source": [
    "use sample_mflix;\n",
    "\n",
    "\n",
    "\n",
    "db.movies.aggregate([\n",
    "\n",
    "  {\n",
    "\n",
    "    $match: { year: { $gt: 1950 } }\n",
    "\n",
    "  },\n",
    "\n",
    "  {\n",
    "\n",
    "    $group: {\n",
    "\n",
    "      _id: \"$rated\",\n",
    "\n",
    "      avg_runtime: { $avg: \"$runtime\" }\n",
    "\n",
    "    }\n",
    "\n",
    "  }\n",
    "\n",
    "]);\n",
    "\n"
   ]
  },
  {
   "cell_type": "code",
   "execution_count": null,
   "metadata": {},
   "outputs": [],
   "source": [
    "MATCH (p:Person)-[:ACTED_IN]->(m:Movie)\n",
    "WHERE m.released > 1960\n",
    "WITH m.title AS `cim`, m.released AS `ev`, p.name AS `szereplo`\n",
    "ORDER BY ev DESC\n",
    "RETURN szereplo, cim, ev\n"
   ]
  },
  {
   "cell_type": "code",
   "execution_count": null,
   "metadata": {},
   "outputs": [],
   "source": [
    "MATCH (p:Person)-[:ACTED_IN]->(m:Movie)\n",
    "WHERE p.born > 1980\n",
    "WITH p.name AS `Actor`, p.born AS `BirthYear`, COUNT(m) AS `NumMoviesActedIn`\n",
    "RETURN Actor, BirthYear, NumMoviesActedIn;"
   ]
  }
 ],
 "metadata": {
  "language_info": {
   "name": "python"
  },
  "orig_nbformat": 4
 },
 "nbformat": 4,
 "nbformat_minor": 2
}
