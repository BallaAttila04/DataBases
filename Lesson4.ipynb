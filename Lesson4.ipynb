{
    "metadata": {
        "kernelspec": {
            "name": "SQL",
            "display_name": "SQL",
            "language": "sql"
        },
        "language_info": {
            "name": "sql",
            "version": ""
        }
    },
    "nbformat_minor": 2,
    "nbformat": 4,
    "cells": [
        {
            "cell_type": "markdown",
            "source": [
                "1. <span style=\"background-color: rgb(255, 255, 255); color: rgb(0, 0, 0); font-family: &quot;Open Sans&quot;, sans-serif; font-size: 14.44px;\">Készítsünk listát arról, hogy ügyfelenként (LOGIN), azon belül szállítási módonként hány megrendelés történt!&nbsp;</span> \n",
                "\n",
                "a. A lista tartalmazza a részösszegeket és a végösszeget is!  \n",
                "b. Használjuk a ROLLUP záradékot!"
            ],
            "metadata": {
                "azdata_cell_guid": "363cd270-6577-449b-9c89-d4b7c7972d52"
            },
            "attachments": {}
        },
        {
            "cell_type": "code",
            "source": [
                "SELECT IIF(GROUPING_ID(login) = 1, 'Végösszeg', login) AS 'Felhasználónév',\n",
                "       CASE \n",
                "         WHEN GROUPING_ID(login, SZALL_MOD) = 1 THEN 'Részösszeg'\n",
                "         WHEN GROUPING_ID(login, SZALL_MOD) = 3 THEN 'Végösszeg'\n",
                "         ELSE SZALL_MOD \n",
                "         END AS 'Szállítási mód',\n",
                "       count(*) AS 'Rendelések száma'\n",
                "FROM Rendeles\n",
                "GROUP BY ROLLUP(login, SZALL_MOD)"
            ],
            "metadata": {
                "azdata_cell_guid": "6ab9f633-a3b5-48c9-a1dc-4fb8235ae85b",
                "language": "sql"
            },
            "outputs": [
                {
                    "output_type": "display_data",
                    "data": {
                        "text/html": "(763 rows affected)"
                    },
                    "metadata": {}
                },
                {
                    "output_type": "display_data",
                    "data": {
                        "text/html": "Total execution time: 00:00:00.195"
                    },
                    "metadata": {}
                },
                {
                    "output_type": "execute_result",
                    "metadata": {},
                    "execution_count": 3,
                    "data": {
                        "application/vnd.dataresource+json": {
                            "schema": {
                                "fields": [
                                    {
                                        "name": "Felhasználónév"
                                    },
                                    {
                                        "name": "Szállítási mód"
                                    },
                                    {
                                        "name": "Ügyfelek száma"
                                    }
                                ]
                            },
                            "data": [
                                {
                                    "Felhasználónév": "adam1",
                                    "Szállítási mód": "GLS",
                                    "Ügyfelek száma": "129"
                                },
                                {
                                    "Felhasználónév": "adam1",
                                    "Szállítási mód": "Posta",
                                    "Ügyfelek száma": "132"
                                },
                                {
                                    "Felhasználónév": "adam1",
                                    "Szállítási mód": "Személyes átvétel",
                                    "Ügyfelek száma": "131"
                                },
                                {
                                    "Felhasználónév": "adam1",
                                    "Szállítási mód": "Részösszeg",
                                    "Ügyfelek száma": "392"
                                },
                                {
                                    "Felhasználónév": "adam3",
                                    "Szállítási mód": "GLS",
                                    "Ügyfelek száma": "10"
                                },
                                {
                                    "Felhasználónév": "adam3",
                                    "Szállítási mód": "Posta",
                                    "Ügyfelek száma": "3"
                                },
                                {
                                    "Felhasználónév": "adam3",
                                    "Szállítási mód": "Személyes átvétel",
                                    "Ügyfelek száma": "2"
                                },
                                {
                                    "Felhasználónév": "adam3",
                                    "Szállítási mód": "Részösszeg",
                                    "Ügyfelek száma": "15"
                                },
                                {
                                    "Felhasználónév": "adam4",
                                    "Szállítási mód": "GLS",
                                    "Ügyfelek száma": "12"
                                },
                                {
                                    "Felhasználónév": "adam4",
                                    "Szállítási mód": "Posta",
                                    "Ügyfelek száma": "6"
                                },
                                {
                                    "Felhasználónév": "adam4",
                                    "Szállítási mód": "Személyes átvétel",
                                    "Ügyfelek száma": "11"
                                },
                                {
                                    "Felhasználónév": "adam4",
                                    "Szállítási mód": "Részösszeg",
                                    "Ügyfelek száma": "29"
                                },
                                {
                                    "Felhasználónév": "agnes",
                                    "Szállítási mód": "GLS",
                                    "Ügyfelek száma": "144"
                                },
                                {
                                    "Felhasználónév": "agnes",
                                    "Szállítási mód": "Posta",
                                    "Ügyfelek száma": "130"
                                },
                                {
                                    "Felhasználónév": "agnes",
                                    "Szállítási mód": "Személyes átvétel",
                                    "Ügyfelek száma": "144"
                                },
                                {
                                    "Felhasználónév": "agnes",
                                    "Szállítási mód": "Részösszeg",
                                    "Ügyfelek száma": "418"
                                },
                                {
                                    "Felhasználónév": "agnes3",
                                    "Szállítási mód": "GLS",
                                    "Ügyfelek száma": "148"
                                },
                                {
                                    "Felhasználónév": "agnes3",
                                    "Szállítási mód": "Posta",
                                    "Ügyfelek száma": "146"
                                },
                                {
                                    "Felhasználónév": "agnes3",
                                    "Szállítási mód": "Személyes átvétel",
                                    "Ügyfelek száma": "136"
                                },
                                {
                                    "Felhasználónév": "agnes3",
                                    "Szállítási mód": "Részösszeg",
                                    "Ügyfelek száma": "430"
                                },
                                {
                                    "Felhasználónév": "AGNESH",
                                    "Szállítási mód": "GLS",
                                    "Ügyfelek száma": "2"
                                },
                                {
                                    "Felhasználónév": "AGNESH",
                                    "Szállítási mód": "Posta",
                                    "Ügyfelek száma": "3"
                                },
                                {
                                    "Felhasználónév": "AGNESH",
                                    "Szállítási mód": "Személyes átvétel",
                                    "Ügyfelek száma": "6"
                                },
                                {
                                    "Felhasználónév": "AGNESH",
                                    "Szállítási mód": "Részösszeg",
                                    "Ügyfelek száma": "11"
                                },
                                {
                                    "Felhasználónév": "AGNESK",
                                    "Szállítási mód": "GLS",
                                    "Ügyfelek száma": "1"
                                },
                                {
                                    "Felhasználónév": "AGNESK",
                                    "Szállítási mód": "Posta",
                                    "Ügyfelek száma": "7"
                                },
                                {
                                    "Felhasználónév": "AGNESK",
                                    "Szállítási mód": "Személyes átvétel",
                                    "Ügyfelek száma": "7"
                                },
                                {
                                    "Felhasználónév": "AGNESK",
                                    "Szállítási mód": "Részösszeg",
                                    "Ügyfelek száma": "15"
                                },
                                {
                                    "Felhasználónév": "akos",
                                    "Szállítási mód": "GLS",
                                    "Ügyfelek száma": "146"
                                },
                                {
                                    "Felhasználónév": "akos",
                                    "Szállítási mód": "Posta",
                                    "Ügyfelek száma": "143"
                                },
                                {
                                    "Felhasználónév": "akos",
                                    "Szállítási mód": "Személyes átvétel",
                                    "Ügyfelek száma": "140"
                                },
                                {
                                    "Felhasználónév": "akos",
                                    "Szállítási mód": "Részösszeg",
                                    "Ügyfelek száma": "429"
                                },
                                {
                                    "Felhasználónév": "aladar",
                                    "Szállítási mód": "GLS",
                                    "Ügyfelek száma": "156"
                                },
                                {
                                    "Felhasználónév": "aladar",
                                    "Szállítási mód": "Posta",
                                    "Ügyfelek száma": "134"
                                },
                                {
                                    "Felhasználónév": "aladar",
                                    "Szállítási mód": "Személyes átvétel",
                                    "Ügyfelek száma": "118"
                                },
                                {
                                    "Felhasználónév": "aladar",
                                    "Szállítási mód": "Részösszeg",
                                    "Ügyfelek száma": "408"
                                },
                                {
                                    "Felhasználónév": "alexandra",
                                    "Szállítási mód": "GLS",
                                    "Ügyfelek száma": "5"
                                },
                                {
                                    "Felhasználónév": "alexandra",
                                    "Szállítási mód": "Posta",
                                    "Ügyfelek száma": "9"
                                },
                                {
                                    "Felhasználónév": "alexandra",
                                    "Szállítási mód": "Személyes átvétel",
                                    "Ügyfelek száma": "5"
                                },
                                {
                                    "Felhasználónév": "alexandra",
                                    "Szállítási mód": "Részösszeg",
                                    "Ügyfelek száma": "19"
                                },
                                {
                                    "Felhasználónév": "andi",
                                    "Szállítási mód": "GLS",
                                    "Ügyfelek száma": "7"
                                },
                                {
                                    "Felhasználónév": "andi",
                                    "Szállítási mód": "Posta",
                                    "Ügyfelek száma": "4"
                                },
                                {
                                    "Felhasználónév": "andi",
                                    "Szállítási mód": "Személyes átvétel",
                                    "Ügyfelek száma": "7"
                                },
                                {
                                    "Felhasználónév": "andi",
                                    "Szállítási mód": "Részösszeg",
                                    "Ügyfelek száma": "18"
                                },
                                {
                                    "Felhasználónév": "andras2",
                                    "Szállítási mód": "GLS",
                                    "Ügyfelek száma": "4"
                                },
                                {
                                    "Felhasználónév": "andras2",
                                    "Szállítási mód": "Posta",
                                    "Ügyfelek száma": "7"
                                },
                                {
                                    "Felhasználónév": "andras2",
                                    "Szállítási mód": "Személyes átvétel",
                                    "Ügyfelek száma": "11"
                                },
                                {
                                    "Felhasználónév": "andras2",
                                    "Szállítási mód": "Részösszeg",
                                    "Ügyfelek száma": "22"
                                },
                                {
                                    "Felhasználónév": "andras21",
                                    "Szállítási mód": "GLS",
                                    "Ügyfelek száma": "140"
                                },
                                {
                                    "Felhasználónév": "andras21",
                                    "Szállítási mód": "Posta",
                                    "Ügyfelek száma": "124"
                                },
                                {
                                    "Felhasználónév": "andras21",
                                    "Szállítási mód": "Személyes átvétel",
                                    "Ügyfelek száma": "126"
                                },
                                {
                                    "Felhasználónév": "andras21",
                                    "Szállítási mód": "Részösszeg",
                                    "Ügyfelek száma": "390"
                                },
                                {
                                    "Felhasználónév": "andras3",
                                    "Szállítási mód": "GLS",
                                    "Ügyfelek száma": "3"
                                },
                                {
                                    "Felhasználónév": "andras3",
                                    "Szállítási mód": "Posta",
                                    "Ügyfelek száma": "1"
                                },
                                {
                                    "Felhasználónév": "andras3",
                                    "Szállítási mód": "Személyes átvétel",
                                    "Ügyfelek száma": "5"
                                },
                                {
                                    "Felhasználónév": "andras3",
                                    "Szállítási mód": "Részösszeg",
                                    "Ügyfelek száma": "9"
                                },
                                {
                                    "Felhasználónév": "andras4",
                                    "Szállítási mód": "GLS",
                                    "Ügyfelek száma": "4"
                                },
                                {
                                    "Felhasználónév": "andras4",
                                    "Szállítási mód": "Posta",
                                    "Ügyfelek száma": "4"
                                },
                                {
                                    "Felhasználónév": "andras4",
                                    "Szállítási mód": "Személyes átvétel",
                                    "Ügyfelek száma": "4"
                                },
                                {
                                    "Felhasználónév": "andras4",
                                    "Szállítási mód": "Részösszeg",
                                    "Ügyfelek száma": "12"
                                },
                                {
                                    "Felhasználónév": "andras41",
                                    "Szállítási mód": "GLS",
                                    "Ügyfelek száma": "149"
                                },
                                {
                                    "Felhasználónév": "andras41",
                                    "Szállítási mód": "Posta",
                                    "Ügyfelek száma": "137"
                                },
                                {
                                    "Felhasználónév": "andras41",
                                    "Szállítási mód": "Személyes átvétel",
                                    "Ügyfelek száma": "133"
                                },
                                {
                                    "Felhasználónév": "andras41",
                                    "Szállítási mód": "Részösszeg",
                                    "Ügyfelek száma": "419"
                                },
                                {
                                    "Felhasználónév": "ANDRASE",
                                    "Szállítási mód": "GLS",
                                    "Ügyfelek száma": "159"
                                },
                                {
                                    "Felhasználónév": "ANDRASE",
                                    "Szállítási mód": "Posta",
                                    "Ügyfelek száma": "141"
                                },
                                {
                                    "Felhasználónév": "ANDRASE",
                                    "Szállítási mód": "Személyes átvétel",
                                    "Ügyfelek száma": "136"
                                },
                                {
                                    "Felhasználónév": "ANDRASE",
                                    "Szállítási mód": "Részösszeg",
                                    "Ügyfelek száma": "436"
                                },
                                {
                                    "Felhasználónév": "ANDRASN",
                                    "Szállítási mód": "GLS",
                                    "Ügyfelek száma": "10"
                                },
                                {
                                    "Felhasználónév": "ANDRASN",
                                    "Szállítási mód": "Posta",
                                    "Ügyfelek száma": "9"
                                },
                                {
                                    "Felhasználónév": "ANDRASN",
                                    "Szállítási mód": "Személyes átvétel",
                                    "Ügyfelek száma": "5"
                                },
                                {
                                    "Felhasználónév": "ANDRASN",
                                    "Szállítási mód": "Részösszeg",
                                    "Ügyfelek száma": "24"
                                },
                                {
                                    "Felhasználónév": "andrea",
                                    "Szállítási mód": "GLS",
                                    "Ügyfelek száma": "12"
                                },
                                {
                                    "Felhasználónév": "andrea",
                                    "Szállítási mód": "Posta",
                                    "Ügyfelek száma": "4"
                                },
                                {
                                    "Felhasználónév": "andrea",
                                    "Szállítási mód": "Személyes átvétel",
                                    "Ügyfelek száma": "8"
                                },
                                {
                                    "Felhasználónév": "andrea",
                                    "Szállítási mód": "Részösszeg",
                                    "Ügyfelek száma": "24"
                                },
                                {
                                    "Felhasználónév": "andrea3",
                                    "Szállítási mód": "GLS",
                                    "Ügyfelek száma": "131"
                                },
                                {
                                    "Felhasználónév": "andrea3",
                                    "Szállítási mód": "Posta",
                                    "Ügyfelek száma": "136"
                                },
                                {
                                    "Felhasználónév": "andrea3",
                                    "Szállítási mód": "Személyes átvétel",
                                    "Ügyfelek száma": "146"
                                },
                                {
                                    "Felhasználónév": "andrea3",
                                    "Szállítási mód": "Részösszeg",
                                    "Ügyfelek száma": "413"
                                },
                                {
                                    "Felhasználónév": "andrea4",
                                    "Szállítási mód": "GLS",
                                    "Ügyfelek száma": "7"
                                },
                                {
                                    "Felhasználónév": "andrea4",
                                    "Szállítási mód": "Posta",
                                    "Ügyfelek száma": "4"
                                },
                                {
                                    "Felhasználónév": "andrea4",
                                    "Szállítási mód": "Személyes átvétel",
                                    "Ügyfelek száma": "7"
                                },
                                {
                                    "Felhasználónév": "andrea4",
                                    "Szállítási mód": "Részösszeg",
                                    "Ügyfelek száma": "18"
                                },
                                {
                                    "Felhasználónév": "ANDREAT",
                                    "Szállítási mód": "GLS",
                                    "Ügyfelek száma": "3"
                                },
                                {
                                    "Felhasználónév": "ANDREAT",
                                    "Szállítási mód": "Posta",
                                    "Ügyfelek száma": "6"
                                },
                                {
                                    "Felhasználónév": "ANDREAT",
                                    "Szállítási mód": "Személyes átvétel",
                                    "Ügyfelek száma": "12"
                                },
                                {
                                    "Felhasználónév": "ANDREAT",
                                    "Szállítási mód": "Részösszeg",
                                    "Ügyfelek száma": "21"
                                },
                                {
                                    "Felhasználónév": "anett3",
                                    "Szállítási mód": "GLS",
                                    "Ügyfelek száma": "3"
                                },
                                {
                                    "Felhasználónév": "anett3",
                                    "Szállítási mód": "Posta",
                                    "Ügyfelek száma": "6"
                                },
                                {
                                    "Felhasználónév": "anett3",
                                    "Szállítási mód": "Személyes átvétel",
                                    "Ügyfelek száma": "9"
                                },
                                {
                                    "Felhasználónév": "anett3",
                                    "Szállítási mód": "Részösszeg",
                                    "Ügyfelek száma": "18"
                                },
                                {
                                    "Felhasználónév": "aniko",
                                    "Szállítási mód": "GLS",
                                    "Ügyfelek száma": "128"
                                },
                                {
                                    "Felhasználónév": "aniko",
                                    "Szállítási mód": "Posta",
                                    "Ügyfelek száma": "137"
                                },
                                {
                                    "Felhasználónév": "aniko",
                                    "Szállítási mód": "Személyes átvétel",
                                    "Ügyfelek száma": "138"
                                },
                                {
                                    "Felhasználónév": "aniko",
                                    "Szállítási mód": "Részösszeg",
                                    "Ügyfelek száma": "403"
                                },
                                {
                                    "Felhasználónév": "aniko4",
                                    "Szállítási mód": "GLS",
                                    "Ügyfelek száma": "6"
                                },
                                {
                                    "Felhasználónév": "aniko4",
                                    "Szállítási mód": "Posta",
                                    "Ügyfelek száma": "6"
                                },
                                {
                                    "Felhasználónév": "aniko4",
                                    "Szállítási mód": "Személyes átvétel",
                                    "Ügyfelek száma": "3"
                                },
                                {
                                    "Felhasználónév": "aniko4",
                                    "Szállítási mód": "Részösszeg",
                                    "Ügyfelek száma": "15"
                                },
                                {
                                    "Felhasználónév": "ANIKOS",
                                    "Szállítási mód": "GLS",
                                    "Ügyfelek száma": "128"
                                },
                                {
                                    "Felhasználónév": "ANIKOS",
                                    "Szállítási mód": "Posta",
                                    "Ügyfelek száma": "126"
                                },
                                {
                                    "Felhasználónév": "ANIKOS",
                                    "Szállítási mód": "Személyes átvétel",
                                    "Ügyfelek száma": "150"
                                },
                                {
                                    "Felhasználónév": "ANIKOS",
                                    "Szállítási mód": "Részösszeg",
                                    "Ügyfelek száma": "404"
                                },
                                {
                                    "Felhasználónév": "anita",
                                    "Szállítási mód": "GLS",
                                    "Ügyfelek száma": "5"
                                },
                                {
                                    "Felhasználónév": "anita",
                                    "Szállítási mód": "Posta",
                                    "Ügyfelek száma": "2"
                                },
                                {
                                    "Felhasználónév": "anita",
                                    "Szállítási mód": "Személyes átvétel",
                                    "Ügyfelek száma": "5"
                                },
                                {
                                    "Felhasználónév": "anita",
                                    "Szállítási mód": "Részösszeg",
                                    "Ügyfelek száma": "12"
                                },
                                {
                                    "Felhasználónév": "annamaria1",
                                    "Szállítási mód": "GLS",
                                    "Ügyfelek száma": "5"
                                },
                                {
                                    "Felhasználónév": "annamaria1",
                                    "Szállítási mód": "Posta",
                                    "Ügyfelek száma": "4"
                                },
                                {
                                    "Felhasználónév": "annamaria1",
                                    "Szállítási mód": "Személyes átvétel",
                                    "Ügyfelek száma": "7"
                                },
                                {
                                    "Felhasználónév": "annamaria1",
                                    "Szállítási mód": "Részösszeg",
                                    "Ügyfelek száma": "16"
                                },
                                {
                                    "Felhasználónév": "ANNAMARIAR",
                                    "Szállítási mód": "GLS",
                                    "Ügyfelek száma": "8"
                                },
                                {
                                    "Felhasználónév": "ANNAMARIAR",
                                    "Szállítási mód": "Posta",
                                    "Ügyfelek száma": "2"
                                },
                                {
                                    "Felhasználónév": "ANNAMARIAR",
                                    "Szállítási mód": "Személyes átvétel",
                                    "Ügyfelek száma": "3"
                                },
                                {
                                    "Felhasználónév": "ANNAMARIAR",
                                    "Szállítási mód": "Részösszeg",
                                    "Ügyfelek száma": "13"
                                },
                                {
                                    "Felhasználónév": "aron2",
                                    "Szállítási mód": "GLS",
                                    "Ügyfelek száma": "132"
                                },
                                {
                                    "Felhasználónév": "aron2",
                                    "Szállítási mód": "Posta",
                                    "Ügyfelek száma": "133"
                                },
                                {
                                    "Felhasználónév": "aron2",
                                    "Szállítási mód": "Személyes átvétel",
                                    "Ügyfelek száma": "144"
                                },
                                {
                                    "Felhasználónév": "aron2",
                                    "Szállítási mód": "Részösszeg",
                                    "Ügyfelek száma": "409"
                                },
                                {
                                    "Felhasználónév": "ARONK",
                                    "Szállítási mód": "GLS",
                                    "Ügyfelek száma": "155"
                                },
                                {
                                    "Felhasználónév": "ARONK",
                                    "Szállítási mód": "Posta",
                                    "Ügyfelek száma": "120"
                                },
                                {
                                    "Felhasználónév": "ARONK",
                                    "Szállítási mód": "Személyes átvétel",
                                    "Ügyfelek száma": "155"
                                },
                                {
                                    "Felhasználónév": "ARONK",
                                    "Szállítási mód": "Részösszeg",
                                    "Ügyfelek száma": "430"
                                },
                                {
                                    "Felhasználónév": "arpad2",
                                    "Szállítási mód": "GLS",
                                    "Ügyfelek száma": "6"
                                },
                                {
                                    "Felhasználónév": "arpad2",
                                    "Szállítási mód": "Posta",
                                    "Ügyfelek száma": "1"
                                },
                                {
                                    "Felhasználónév": "arpad2",
                                    "Szállítási mód": "Személyes átvétel",
                                    "Ügyfelek száma": "10"
                                },
                                {
                                    "Felhasználónév": "arpad2",
                                    "Szállítási mód": "Részösszeg",
                                    "Ügyfelek száma": "17"
                                },
                                {
                                    "Felhasználónév": "ARPADH",
                                    "Szállítási mód": "GLS",
                                    "Ügyfelek száma": "6"
                                },
                                {
                                    "Felhasználónév": "ARPADH",
                                    "Szállítási mód": "Posta",
                                    "Ügyfelek száma": "3"
                                },
                                {
                                    "Felhasználónév": "ARPADH",
                                    "Szállítási mód": "Személyes átvétel",
                                    "Ügyfelek száma": "5"
                                },
                                {
                                    "Felhasználónév": "ARPADH",
                                    "Szállítási mód": "Részösszeg",
                                    "Ügyfelek száma": "14"
                                },
                                {
                                    "Felhasználónév": "ARPADM",
                                    "Szállítási mód": "GLS",
                                    "Ügyfelek száma": "6"
                                },
                                {
                                    "Felhasználónév": "ARPADM",
                                    "Szállítási mód": "Posta",
                                    "Ügyfelek száma": "3"
                                },
                                {
                                    "Felhasználónév": "ARPADM",
                                    "Szállítási mód": "Személyes átvétel",
                                    "Ügyfelek száma": "7"
                                },
                                {
                                    "Felhasználónév": "ARPADM",
                                    "Szállítási mód": "Részösszeg",
                                    "Ügyfelek száma": "16"
                                },
                                {
                                    "Felhasználónév": "attila1",
                                    "Szállítási mód": "GLS",
                                    "Ügyfelek száma": "5"
                                },
                                {
                                    "Felhasználónév": "attila1",
                                    "Szállítási mód": "Posta",
                                    "Ügyfelek száma": "7"
                                },
                                {
                                    "Felhasználónév": "attila1",
                                    "Szállítási mód": "Személyes átvétel",
                                    "Ügyfelek száma": "6"
                                },
                                {
                                    "Felhasználónév": "attila1",
                                    "Szállítási mód": "Részösszeg",
                                    "Ügyfelek száma": "18"
                                },
                                {
                                    "Felhasználónév": "attila4",
                                    "Szállítási mód": "GLS",
                                    "Ügyfelek száma": "135"
                                },
                                {
                                    "Felhasználónév": "attila4",
                                    "Szállítási mód": "Posta",
                                    "Ügyfelek száma": "125"
                                },
                                {
                                    "Felhasználónév": "attila4",
                                    "Szállítási mód": "Személyes átvétel",
                                    "Ügyfelek száma": "141"
                                },
                                {
                                    "Felhasználónév": "attila4",
                                    "Szállítási mód": "Részösszeg",
                                    "Ügyfelek száma": "401"
                                },
                                {
                                    "Felhasználónév": "ATTILAO",
                                    "Szállítási mód": "GLS",
                                    "Ügyfelek száma": "4"
                                },
                                {
                                    "Felhasználónév": "ATTILAO",
                                    "Szállítási mód": "Posta",
                                    "Ügyfelek száma": "4"
                                },
                                {
                                    "Felhasználónév": "ATTILAO",
                                    "Szállítási mód": "Személyes átvétel",
                                    "Ügyfelek száma": "6"
                                },
                                {
                                    "Felhasználónév": "ATTILAO",
                                    "Szállítási mód": "Részösszeg",
                                    "Ügyfelek száma": "14"
                                },
                                {
                                    "Felhasználónév": "balazs1",
                                    "Szállítási mód": "GLS",
                                    "Ügyfelek száma": "128"
                                },
                                {
                                    "Felhasználónév": "balazs1",
                                    "Szállítási mód": "Posta",
                                    "Ügyfelek száma": "136"
                                },
                                {
                                    "Felhasználónév": "balazs1",
                                    "Szállítási mód": "Személyes átvétel",
                                    "Ügyfelek száma": "155"
                                },
                                {
                                    "Felhasználónév": "balazs1",
                                    "Szállítási mód": "Részösszeg",
                                    "Ügyfelek száma": "419"
                                },
                                {
                                    "Felhasználónév": "balazs2",
                                    "Szállítási mód": "GLS",
                                    "Ügyfelek száma": "5"
                                },
                                {
                                    "Felhasználónév": "balazs2",
                                    "Szállítási mód": "Posta",
                                    "Ügyfelek száma": "7"
                                },
                                {
                                    "Felhasználónév": "balazs2",
                                    "Szállítási mód": "Személyes átvétel",
                                    "Ügyfelek száma": "5"
                                },
                                {
                                    "Felhasználónév": "balazs2",
                                    "Szállítási mód": "Részösszeg",
                                    "Ügyfelek száma": "17"
                                },
                                {
                                    "Felhasználónév": "balazs3",
                                    "Szállítási mód": "GLS",
                                    "Ügyfelek száma": "6"
                                },
                                {
                                    "Felhasználónév": "balazs3",
                                    "Szállítási mód": "Posta",
                                    "Ügyfelek száma": "6"
                                },
                                {
                                    "Felhasználónév": "balazs3",
                                    "Szállítási mód": "Személyes átvétel",
                                    "Ügyfelek száma": "3"
                                },
                                {
                                    "Felhasználónév": "balazs3",
                                    "Szállítási mód": "Részösszeg",
                                    "Ügyfelek száma": "15"
                                },
                                {
                                    "Felhasználónév": "balint",
                                    "Szállítási mód": "GLS",
                                    "Ügyfelek száma": "10"
                                },
                                {
                                    "Felhasználónév": "balint",
                                    "Szállítási mód": "Posta",
                                    "Ügyfelek száma": "4"
                                },
                                {
                                    "Felhasználónév": "balint",
                                    "Szállítási mód": "Személyes átvétel",
                                    "Ügyfelek száma": "2"
                                },
                                {
                                    "Felhasználónév": "balint",
                                    "Szállítási mód": "Részösszeg",
                                    "Ügyfelek száma": "16"
                                },
                                {
                                    "Felhasználónév": "balint1",
                                    "Szállítási mód": "GLS",
                                    "Ügyfelek száma": "158"
                                },
                                {
                                    "Felhasználónév": "balint1",
                                    "Szállítási mód": "Posta",
                                    "Ügyfelek száma": "152"
                                },
                                {
                                    "Felhasználónév": "balint1",
                                    "Szállítási mód": "Személyes átvétel",
                                    "Ügyfelek száma": "152"
                                },
                                {
                                    "Felhasználónév": "balint1",
                                    "Szállítási mód": "Részösszeg",
                                    "Ügyfelek száma": "462"
                                },
                                {
                                    "Felhasználónév": "balint2",
                                    "Szállítási mód": "GLS",
                                    "Ügyfelek száma": "8"
                                },
                                {
                                    "Felhasználónév": "balint2",
                                    "Szállítási mód": "Posta",
                                    "Ügyfelek száma": "6"
                                },
                                {
                                    "Felhasználónév": "balint2",
                                    "Szállítási mód": "Személyes átvétel",
                                    "Ügyfelek száma": "3"
                                },
                                {
                                    "Felhasználónév": "balint2",
                                    "Szállítási mód": "Részösszeg",
                                    "Ügyfelek száma": "17"
                                },
                                {
                                    "Felhasználónév": "balu",
                                    "Szállítási mód": "GLS",
                                    "Ügyfelek száma": "127"
                                },
                                {
                                    "Felhasználónév": "balu",
                                    "Szállítási mód": "Posta",
                                    "Ügyfelek száma": "137"
                                },
                                {
                                    "Felhasználónév": "balu",
                                    "Szállítási mód": "Személyes átvétel",
                                    "Ügyfelek száma": "123"
                                },
                                {
                                    "Felhasználónév": "balu",
                                    "Szállítási mód": "Részösszeg",
                                    "Ügyfelek száma": "387"
                                },
                                {
                                    "Felhasználónév": "BEATRIXK",
                                    "Szállítási mód": "GLS",
                                    "Ügyfelek száma": "135"
                                },
                                {
                                    "Felhasználónév": "BEATRIXK",
                                    "Szállítási mód": "Posta",
                                    "Ügyfelek száma": "155"
                                },
                                {
                                    "Felhasználónév": "BEATRIXK",
                                    "Szállítási mód": "Személyes átvétel",
                                    "Ügyfelek száma": "145"
                                },
                                {
                                    "Felhasználónév": "BEATRIXK",
                                    "Szállítási mód": "Részösszeg",
                                    "Ügyfelek száma": "435"
                                },
                                {
                                    "Felhasználónév": "BEATRIXS",
                                    "Szállítási mód": "GLS",
                                    "Ügyfelek száma": "146"
                                },
                                {
                                    "Felhasználónév": "BEATRIXS",
                                    "Szállítási mód": "Posta",
                                    "Ügyfelek száma": "141"
                                },
                                {
                                    "Felhasználónév": "BEATRIXS",
                                    "Szállítási mód": "Személyes átvétel",
                                    "Ügyfelek száma": "133"
                                },
                                {
                                    "Felhasználónév": "BEATRIXS",
                                    "Szállítási mód": "Részösszeg",
                                    "Ügyfelek száma": "420"
                                },
                                {
                                    "Felhasználónév": "BELAF",
                                    "Szállítási mód": "GLS",
                                    "Ügyfelek száma": "11"
                                },
                                {
                                    "Felhasználónév": "BELAF",
                                    "Szállítási mód": "Posta",
                                    "Ügyfelek száma": "2"
                                },
                                {
                                    "Felhasználónév": "BELAF",
                                    "Szállítási mód": "Személyes átvétel",
                                    "Ügyfelek száma": "5"
                                },
                                {
                                    "Felhasználónév": "BELAF",
                                    "Szállítási mód": "Részösszeg",
                                    "Ügyfelek száma": "18"
                                },
                                {
                                    "Felhasználónév": "bence",
                                    "Szállítási mód": "GLS",
                                    "Ügyfelek száma": "4"
                                },
                                {
                                    "Felhasználónév": "bence",
                                    "Szállítási mód": "Posta",
                                    "Ügyfelek száma": "6"
                                },
                                {
                                    "Felhasználónév": "bence",
                                    "Szállítási mód": "Személyes átvétel",
                                    "Ügyfelek száma": "8"
                                },
                                {
                                    "Felhasználónév": "bence",
                                    "Szállítási mód": "Részösszeg",
                                    "Ügyfelek száma": "18"
                                },
                                {
                                    "Felhasználónév": "BENCEB",
                                    "Szállítási mód": "GLS",
                                    "Ügyfelek száma": "5"
                                },
                                {
                                    "Felhasználónév": "BENCEB",
                                    "Szállítási mód": "Posta",
                                    "Ügyfelek száma": "7"
                                },
                                {
                                    "Felhasználónév": "BENCEB",
                                    "Szállítási mód": "Személyes átvétel",
                                    "Ügyfelek száma": "5"
                                },
                                {
                                    "Felhasználónév": "BENCEB",
                                    "Szállítási mód": "Részösszeg",
                                    "Ügyfelek száma": "17"
                                },
                                {
                                    "Felhasználónév": "bernadett1",
                                    "Szállítási mód": "GLS",
                                    "Ügyfelek száma": "10"
                                },
                                {
                                    "Felhasználónév": "bernadett1",
                                    "Szállítási mód": "Posta",
                                    "Ügyfelek száma": "5"
                                },
                                {
                                    "Felhasználónév": "bernadett1",
                                    "Szállítási mód": "Személyes átvétel",
                                    "Ügyfelek száma": "5"
                                },
                                {
                                    "Felhasználónév": "bernadett1",
                                    "Szállítási mód": "Részösszeg",
                                    "Ügyfelek száma": "20"
                                },
                                {
                                    "Felhasználónév": "bernadett2",
                                    "Szállítási mód": "GLS",
                                    "Ügyfelek száma": "6"
                                },
                                {
                                    "Felhasználónév": "bernadett2",
                                    "Szállítási mód": "Posta",
                                    "Ügyfelek száma": "2"
                                },
                                {
                                    "Felhasználónév": "bernadett2",
                                    "Szállítási mód": "Személyes átvétel",
                                    "Ügyfelek száma": "7"
                                },
                                {
                                    "Felhasználónév": "bernadett2",
                                    "Szállítási mód": "Részösszeg",
                                    "Ügyfelek száma": "15"
                                },
                                {
                                    "Felhasználónév": "BERNADETTO",
                                    "Szállítási mód": "GLS",
                                    "Ügyfelek száma": "7"
                                },
                                {
                                    "Felhasználónév": "BERNADETTO",
                                    "Szállítási mód": "Posta",
                                    "Ügyfelek száma": "2"
                                },
                                {
                                    "Felhasználónév": "BERNADETTO",
                                    "Szállítási mód": "Személyes átvétel",
                                    "Ügyfelek száma": "7"
                                },
                                {
                                    "Felhasználónév": "BERNADETTO",
                                    "Szállítási mód": "Részösszeg",
                                    "Ügyfelek száma": "16"
                                },
                                {
                                    "Felhasználónév": "bertalan",
                                    "Szállítási mód": "GLS",
                                    "Ügyfelek száma": "128"
                                },
                                {
                                    "Felhasználónév": "bertalan",
                                    "Szállítási mód": "Posta",
                                    "Ügyfelek száma": "124"
                                },
                                {
                                    "Felhasználónév": "bertalan",
                                    "Szállítási mód": "Személyes átvétel",
                                    "Ügyfelek száma": "101"
                                },
                                {
                                    "Felhasználónév": "bertalan",
                                    "Szállítási mód": "Részösszeg",
                                    "Ügyfelek száma": "353"
                                },
                                {
                                    "Felhasználónév": "brigitta",
                                    "Szállítási mód": "GLS",
                                    "Ügyfelek száma": "137"
                                },
                                {
                                    "Felhasználónév": "brigitta",
                                    "Szállítási mód": "Posta",
                                    "Ügyfelek száma": "137"
                                },
                                {
                                    "Felhasználónév": "brigitta",
                                    "Szállítási mód": "Személyes átvétel",
                                    "Ügyfelek száma": "119"
                                },
                                {
                                    "Felhasználónév": "brigitta",
                                    "Szállítási mód": "Részösszeg",
                                    "Ügyfelek száma": "393"
                                },
                                {
                                    "Felhasználónév": "brigitta3",
                                    "Szállítási mód": "GLS",
                                    "Ügyfelek száma": "144"
                                },
                                {
                                    "Felhasználónév": "brigitta3",
                                    "Szállítási mód": "Posta",
                                    "Ügyfelek száma": "130"
                                },
                                {
                                    "Felhasználónév": "brigitta3",
                                    "Szállítási mód": "Személyes átvétel",
                                    "Ügyfelek száma": "139"
                                },
                                {
                                    "Felhasználónév": "brigitta3",
                                    "Szállítási mód": "Részösszeg",
                                    "Ügyfelek száma": "413"
                                },
                                {
                                    "Felhasználónév": "csongor3",
                                    "Szállítási mód": "GLS",
                                    "Ügyfelek száma": "5"
                                },
                                {
                                    "Felhasználónév": "csongor3",
                                    "Szállítási mód": "Posta",
                                    "Ügyfelek száma": "2"
                                },
                                {
                                    "Felhasználónév": "csongor3",
                                    "Szállítási mód": "Személyes átvétel",
                                    "Ügyfelek száma": "8"
                                },
                                {
                                    "Felhasználónév": "csongor3",
                                    "Szállítási mód": "Részösszeg",
                                    "Ügyfelek száma": "15"
                                },
                                {
                                    "Felhasználónév": "dani",
                                    "Szállítási mód": "GLS",
                                    "Ügyfelek száma": "5"
                                },
                                {
                                    "Felhasználónév": "dani",
                                    "Szállítási mód": "Személyes átvétel",
                                    "Ügyfelek száma": "8"
                                },
                                {
                                    "Felhasználónév": "dani",
                                    "Szállítási mód": "Részösszeg",
                                    "Ügyfelek száma": "13"
                                },
                                {
                                    "Felhasználónév": "daniel",
                                    "Szállítási mód": "GLS",
                                    "Ügyfelek száma": "7"
                                },
                                {
                                    "Felhasználónév": "daniel",
                                    "Szállítási mód": "Posta",
                                    "Ügyfelek száma": "2"
                                },
                                {
                                    "Felhasználónév": "daniel",
                                    "Szállítási mód": "Személyes átvétel",
                                    "Ügyfelek száma": "4"
                                },
                                {
                                    "Felhasználónév": "daniel",
                                    "Szállítási mód": "Részösszeg",
                                    "Ügyfelek száma": "13"
                                },
                                {
                                    "Felhasználónév": "daniel1",
                                    "Szállítási mód": "GLS",
                                    "Ügyfelek száma": "156"
                                },
                                {
                                    "Felhasználónév": "daniel1",
                                    "Szállítási mód": "Posta",
                                    "Ügyfelek száma": "131"
                                },
                                {
                                    "Felhasználónév": "daniel1",
                                    "Szállítási mód": "Személyes átvétel",
                                    "Ügyfelek száma": "132"
                                },
                                {
                                    "Felhasználónév": "daniel1",
                                    "Szállítási mód": "Részösszeg",
                                    "Ügyfelek száma": "419"
                                },
                                {
                                    "Felhasználónév": "david",
                                    "Szállítási mód": "GLS",
                                    "Ügyfelek száma": "161"
                                },
                                {
                                    "Felhasználónév": "david",
                                    "Szállítási mód": "Posta",
                                    "Ügyfelek száma": "144"
                                },
                                {
                                    "Felhasználónév": "david",
                                    "Szállítási mód": "Személyes átvétel",
                                    "Ügyfelek száma": "146"
                                },
                                {
                                    "Felhasználónév": "david",
                                    "Szállítási mód": "Részösszeg",
                                    "Ügyfelek száma": "451"
                                },
                                {
                                    "Felhasználónév": "david1",
                                    "Szállítási mód": "GLS",
                                    "Ügyfelek száma": "8"
                                },
                                {
                                    "Felhasználónév": "david1",
                                    "Szállítási mód": "Posta",
                                    "Ügyfelek száma": "1"
                                },
                                {
                                    "Felhasználónév": "david1",
                                    "Szállítási mód": "Személyes átvétel",
                                    "Ügyfelek száma": "8"
                                },
                                {
                                    "Felhasználónév": "david1",
                                    "Szállítási mód": "Részösszeg",
                                    "Ügyfelek száma": "17"
                                },
                                {
                                    "Felhasználónév": "david4",
                                    "Szállítási mód": "GLS",
                                    "Ügyfelek száma": "3"
                                },
                                {
                                    "Felhasználónév": "david4",
                                    "Szállítási mód": "Posta",
                                    "Ügyfelek száma": "8"
                                },
                                {
                                    "Felhasználónév": "david4",
                                    "Szállítási mód": "Személyes átvétel",
                                    "Ügyfelek száma": "10"
                                },
                                {
                                    "Felhasználónév": "david4",
                                    "Szállítási mód": "Részösszeg",
                                    "Ügyfelek száma": "21"
                                },
                                {
                                    "Felhasználónév": "debora",
                                    "Szállítási mód": "GLS",
                                    "Ügyfelek száma": "7"
                                },
                                {
                                    "Felhasználónév": "debora",
                                    "Szállítási mód": "Posta",
                                    "Ügyfelek száma": "6"
                                },
                                {
                                    "Felhasználónév": "debora",
                                    "Szállítási mód": "Személyes átvétel",
                                    "Ügyfelek száma": "3"
                                },
                                {
                                    "Felhasználónév": "debora",
                                    "Szállítási mód": "Részösszeg",
                                    "Ügyfelek száma": "16"
                                },
                                {
                                    "Felhasználónév": "denes",
                                    "Szállítási mód": "GLS",
                                    "Ügyfelek száma": "3"
                                },
                                {
                                    "Felhasználónév": "denes",
                                    "Szállítási mód": "Posta",
                                    "Ügyfelek száma": "2"
                                },
                                {
                                    "Felhasználónév": "denes",
                                    "Szállítási mód": "Személyes átvétel",
                                    "Ügyfelek száma": "4"
                                },
                                {
                                    "Felhasználónév": "denes",
                                    "Szállítási mód": "Részösszeg",
                                    "Ügyfelek száma": "9"
                                },
                                {
                                    "Felhasználónév": "dora3",
                                    "Szállítási mód": "GLS",
                                    "Ügyfelek száma": "144"
                                },
                                {
                                    "Felhasználónév": "dora3",
                                    "Szállítási mód": "Posta",
                                    "Ügyfelek száma": "124"
                                },
                                {
                                    "Felhasználónév": "dora3",
                                    "Szállítási mód": "Személyes átvétel",
                                    "Ügyfelek száma": "164"
                                },
                                {
                                    "Felhasználónév": "dora3",
                                    "Szállítási mód": "Részösszeg",
                                    "Ügyfelek száma": "432"
                                },
                                {
                                    "Felhasználónév": "edit",
                                    "Szállítási mód": "GLS",
                                    "Ügyfelek száma": "7"
                                },
                                {
                                    "Felhasználónév": "edit",
                                    "Szállítási mód": "Posta",
                                    "Ügyfelek száma": "2"
                                },
                                {
                                    "Felhasználónév": "edit",
                                    "Szállítási mód": "Személyes átvétel",
                                    "Ügyfelek száma": "4"
                                },
                                {
                                    "Felhasználónév": "edit",
                                    "Szállítási mód": "Részösszeg",
                                    "Ügyfelek száma": "13"
                                },
                                {
                                    "Felhasználónév": "emese",
                                    "Szállítási mód": "GLS",
                                    "Ügyfelek száma": "128"
                                },
                                {
                                    "Felhasználónév": "emese",
                                    "Szállítási mód": "Posta",
                                    "Ügyfelek száma": "136"
                                },
                                {
                                    "Felhasználónév": "emese",
                                    "Szállítási mód": "Személyes átvétel",
                                    "Ügyfelek száma": "142"
                                },
                                {
                                    "Felhasználónév": "emese",
                                    "Szállítási mód": "Részösszeg",
                                    "Ügyfelek száma": "406"
                                },
                                {
                                    "Felhasználónév": "eszter2",
                                    "Szállítási mód": "GLS",
                                    "Ügyfelek száma": "127"
                                },
                                {
                                    "Felhasználónév": "eszter2",
                                    "Szállítási mód": "Posta",
                                    "Ügyfelek száma": "136"
                                },
                                {
                                    "Felhasználónév": "eszter2",
                                    "Szállítási mód": "Személyes átvétel",
                                    "Ügyfelek száma": "152"
                                },
                                {
                                    "Felhasználónév": "eszter2",
                                    "Szállítási mód": "Részösszeg",
                                    "Ügyfelek száma": "415"
                                },
                                {
                                    "Felhasználónév": "eszter4",
                                    "Szállítási mód": "GLS",
                                    "Ügyfelek száma": "141"
                                },
                                {
                                    "Felhasználónév": "eszter4",
                                    "Szállítási mód": "Posta",
                                    "Ügyfelek száma": "134"
                                },
                                {
                                    "Felhasználónév": "eszter4",
                                    "Szállítási mód": "Személyes átvétel",
                                    "Ügyfelek száma": "149"
                                },
                                {
                                    "Felhasználónév": "eszter4",
                                    "Szállítási mód": "Részösszeg",
                                    "Ügyfelek száma": "424"
                                },
                                {
                                    "Felhasználónév": "ESZTERE",
                                    "Szállítási mód": "GLS",
                                    "Ügyfelek száma": "6"
                                },
                                {
                                    "Felhasználónév": "ESZTERE",
                                    "Szállítási mód": "Posta",
                                    "Ügyfelek száma": "9"
                                },
                                {
                                    "Felhasználónév": "ESZTERE",
                                    "Szállítási mód": "Személyes átvétel",
                                    "Ügyfelek száma": "7"
                                },
                                {
                                    "Felhasználónév": "ESZTERE",
                                    "Szállítási mód": "Részösszeg",
                                    "Ügyfelek száma": "22"
                                },
                                {
                                    "Felhasználónév": "eva",
                                    "Szállítási mód": "GLS",
                                    "Ügyfelek száma": "125"
                                },
                                {
                                    "Felhasználónév": "eva",
                                    "Szállítási mód": "Posta",
                                    "Ügyfelek száma": "140"
                                },
                                {
                                    "Felhasználónév": "eva",
                                    "Szállítási mód": "Személyes átvétel",
                                    "Ügyfelek száma": "139"
                                },
                                {
                                    "Felhasználónév": "eva",
                                    "Szállítási mód": "Részösszeg",
                                    "Ügyfelek száma": "404"
                                },
                                {
                                    "Felhasználónév": "eva2",
                                    "Szállítási mód": "GLS",
                                    "Ügyfelek száma": "154"
                                },
                                {
                                    "Felhasználónév": "eva2",
                                    "Szállítási mód": "Posta",
                                    "Ügyfelek száma": "138"
                                },
                                {
                                    "Felhasználónév": "eva2",
                                    "Szállítási mód": "Személyes átvétel",
                                    "Ügyfelek száma": "170"
                                },
                                {
                                    "Felhasználónév": "eva2",
                                    "Szállítási mód": "Részösszeg",
                                    "Ügyfelek száma": "462"
                                },
                                {
                                    "Felhasználónév": "EVAV",
                                    "Szállítási mód": "GLS",
                                    "Ügyfelek száma": "2"
                                },
                                {
                                    "Felhasználónév": "EVAV",
                                    "Szállítási mód": "Posta",
                                    "Ügyfelek száma": "1"
                                },
                                {
                                    "Felhasználónév": "EVAV",
                                    "Szállítási mód": "Személyes átvétel",
                                    "Ügyfelek száma": "4"
                                },
                                {
                                    "Felhasználónév": "EVAV",
                                    "Szállítási mód": "Részösszeg",
                                    "Ügyfelek száma": "7"
                                },
                                {
                                    "Felhasználónév": "ferenc1",
                                    "Szállítási mód": "GLS",
                                    "Ügyfelek száma": "144"
                                },
                                {
                                    "Felhasználónév": "ferenc1",
                                    "Szállítási mód": "Posta",
                                    "Ügyfelek száma": "158"
                                },
                                {
                                    "Felhasználónév": "ferenc1",
                                    "Szállítási mód": "Személyes átvétel",
                                    "Ügyfelek száma": "135"
                                },
                                {
                                    "Felhasználónév": "ferenc1",
                                    "Szállítási mód": "Részösszeg",
                                    "Ügyfelek száma": "437"
                                },
                                {
                                    "Felhasználónév": "fruzsina4",
                                    "Szállítási mód": "GLS",
                                    "Ügyfelek száma": "8"
                                },
                                {
                                    "Felhasználónév": "fruzsina4",
                                    "Szállítási mód": "Posta",
                                    "Ügyfelek száma": "3"
                                },
                                {
                                    "Felhasználónév": "fruzsina4",
                                    "Szállítási mód": "Személyes átvétel",
                                    "Ügyfelek száma": "7"
                                },
                                {
                                    "Felhasználónév": "fruzsina4",
                                    "Szállítási mód": "Részösszeg",
                                    "Ügyfelek száma": "18"
                                },
                                {
                                    "Felhasználónév": "gabor1",
                                    "Szállítási mód": "GLS",
                                    "Ügyfelek száma": "9"
                                },
                                {
                                    "Felhasználónév": "gabor1",
                                    "Szállítási mód": "Posta",
                                    "Ügyfelek száma": "5"
                                },
                                {
                                    "Felhasználónév": "gabor1",
                                    "Szállítási mód": "Személyes átvétel",
                                    "Ügyfelek száma": "5"
                                },
                                {
                                    "Felhasználónév": "gabor1",
                                    "Szállítási mód": "Részösszeg",
                                    "Ügyfelek száma": "19"
                                },
                                {
                                    "Felhasználónév": "gabor4",
                                    "Szállítási mód": "GLS",
                                    "Ügyfelek száma": "7"
                                },
                                {
                                    "Felhasználónév": "gabor4",
                                    "Szállítási mód": "Posta",
                                    "Ügyfelek száma": "9"
                                },
                                {
                                    "Felhasználónév": "gabor4",
                                    "Szállítási mód": "Személyes átvétel",
                                    "Ügyfelek száma": "4"
                                },
                                {
                                    "Felhasználónév": "gabor4",
                                    "Szállítási mód": "Részösszeg",
                                    "Ügyfelek száma": "20"
                                },
                                {
                                    "Felhasználónév": "GABORS",
                                    "Szállítási mód": "GLS",
                                    "Ügyfelek száma": "5"
                                },
                                {
                                    "Felhasználónév": "GABORS",
                                    "Szállítási mód": "Posta",
                                    "Ügyfelek száma": "6"
                                },
                                {
                                    "Felhasználónév": "GABORS",
                                    "Szállítási mód": "Személyes átvétel",
                                    "Ügyfelek száma": "4"
                                },
                                {
                                    "Felhasználónév": "GABORS",
                                    "Szállítási mód": "Részösszeg",
                                    "Ügyfelek száma": "15"
                                },
                                {
                                    "Felhasználónév": "gabriella1",
                                    "Szállítási mód": "GLS",
                                    "Ügyfelek száma": "5"
                                },
                                {
                                    "Felhasználónév": "gabriella1",
                                    "Szállítási mód": "Posta",
                                    "Ügyfelek száma": "4"
                                },
                                {
                                    "Felhasználónév": "gabriella1",
                                    "Szállítási mód": "Személyes átvétel",
                                    "Ügyfelek száma": "5"
                                },
                                {
                                    "Felhasználónév": "gabriella1",
                                    "Szállítási mód": "Részösszeg",
                                    "Ügyfelek száma": "14"
                                },
                                {
                                    "Felhasználónév": "gabriella10",
                                    "Szállítási mód": "GLS",
                                    "Ügyfelek száma": "4"
                                },
                                {
                                    "Felhasználónév": "gabriella10",
                                    "Szállítási mód": "Posta",
                                    "Ügyfelek száma": "5"
                                },
                                {
                                    "Felhasználónév": "gabriella10",
                                    "Szállítási mód": "Személyes átvétel",
                                    "Ügyfelek száma": "7"
                                },
                                {
                                    "Felhasználónév": "gabriella10",
                                    "Szállítási mód": "Részösszeg",
                                    "Ügyfelek száma": "16"
                                },
                                {
                                    "Felhasználónév": "georgij",
                                    "Szállítási mód": "GLS",
                                    "Ügyfelek száma": "9"
                                },
                                {
                                    "Felhasználónév": "georgij",
                                    "Szállítási mód": "Posta",
                                    "Ügyfelek száma": "2"
                                },
                                {
                                    "Felhasználónév": "georgij",
                                    "Szállítási mód": "Személyes átvétel",
                                    "Ügyfelek száma": "10"
                                },
                                {
                                    "Felhasználónév": "georgij",
                                    "Szállítási mód": "Részösszeg",
                                    "Ügyfelek száma": "21"
                                },
                                {
                                    "Felhasználónév": "gusztav",
                                    "Szállítási mód": "GLS",
                                    "Ügyfelek száma": "5"
                                },
                                {
                                    "Felhasználónév": "gusztav",
                                    "Szállítási mód": "Posta",
                                    "Ügyfelek száma": "4"
                                },
                                {
                                    "Felhasználónév": "gusztav",
                                    "Szállítási mód": "Személyes átvétel",
                                    "Ügyfelek száma": "5"
                                },
                                {
                                    "Felhasználónév": "gusztav",
                                    "Szállítási mód": "Részösszeg",
                                    "Ügyfelek száma": "14"
                                },
                                {
                                    "Felhasználónév": "GYONGYIK",
                                    "Szállítási mód": "GLS",
                                    "Ügyfelek száma": "6"
                                },
                                {
                                    "Felhasználónév": "GYONGYIK",
                                    "Szállítási mód": "Posta",
                                    "Ügyfelek száma": "6"
                                },
                                {
                                    "Felhasználónév": "GYONGYIK",
                                    "Szállítási mód": "Személyes átvétel",
                                    "Ügyfelek száma": "3"
                                },
                                {
                                    "Felhasználónév": "GYONGYIK",
                                    "Szállítási mód": "Részösszeg",
                                    "Ügyfelek száma": "15"
                                },
                                {
                                    "Felhasználónév": "GYORGYO",
                                    "Szállítási mód": "GLS",
                                    "Ügyfelek száma": "7"
                                },
                                {
                                    "Felhasználónév": "GYORGYO",
                                    "Szállítási mód": "Posta",
                                    "Ügyfelek száma": "4"
                                },
                                {
                                    "Felhasználónév": "GYORGYO",
                                    "Szállítási mód": "Személyes átvétel",
                                    "Ügyfelek száma": "5"
                                },
                                {
                                    "Felhasználónév": "GYORGYO",
                                    "Szállítási mód": "Részösszeg",
                                    "Ügyfelek száma": "16"
                                },
                                {
                                    "Felhasználónév": "henrik3",
                                    "Szállítási mód": "GLS",
                                    "Ügyfelek száma": "7"
                                },
                                {
                                    "Felhasználónév": "henrik3",
                                    "Szállítási mód": "Posta",
                                    "Ügyfelek száma": "4"
                                },
                                {
                                    "Felhasználónév": "henrik3",
                                    "Szállítási mód": "Személyes átvétel",
                                    "Ügyfelek száma": "5"
                                },
                                {
                                    "Felhasználónév": "henrik3",
                                    "Szállítási mód": "Részösszeg",
                                    "Ügyfelek száma": "16"
                                },
                                {
                                    "Felhasználónév": "IBOLYAA",
                                    "Szállítási mód": "GLS",
                                    "Ügyfelek száma": "140"
                                },
                                {
                                    "Felhasználónév": "IBOLYAA",
                                    "Szállítási mód": "Posta",
                                    "Ügyfelek száma": "125"
                                },
                                {
                                    "Felhasználónév": "IBOLYAA",
                                    "Szállítási mód": "Személyes átvétel",
                                    "Ügyfelek száma": "157"
                                },
                                {
                                    "Felhasználónév": "IBOLYAA",
                                    "Szállítási mód": "Részösszeg",
                                    "Ügyfelek száma": "422"
                                },
                                {
                                    "Felhasználónév": "ilona3",
                                    "Szállítási mód": "GLS",
                                    "Ügyfelek száma": "9"
                                },
                                {
                                    "Felhasználónév": "ilona3",
                                    "Szállítási mód": "Posta",
                                    "Ügyfelek száma": "2"
                                },
                                {
                                    "Felhasználónév": "ilona3",
                                    "Szállítási mód": "Személyes átvétel",
                                    "Ügyfelek száma": "7"
                                },
                                {
                                    "Felhasználónév": "ilona3",
                                    "Szállítási mód": "Részösszeg",
                                    "Ügyfelek száma": "18"
                                },
                                {
                                    "Felhasználónév": "imre",
                                    "Szállítási mód": "GLS",
                                    "Ügyfelek száma": "5"
                                },
                                {
                                    "Felhasználónév": "imre",
                                    "Szállítási mód": "Posta",
                                    "Ügyfelek száma": "4"
                                },
                                {
                                    "Felhasználónév": "imre",
                                    "Szállítási mód": "Személyes átvétel",
                                    "Ügyfelek száma": "6"
                                },
                                {
                                    "Felhasználónév": "imre",
                                    "Szállítási mód": "Részösszeg",
                                    "Ügyfelek száma": "15"
                                },
                                {
                                    "Felhasználónév": "imre1",
                                    "Szállítási mód": "GLS",
                                    "Ügyfelek száma": "8"
                                },
                                {
                                    "Felhasználónév": "imre1",
                                    "Szállítási mód": "Posta",
                                    "Ügyfelek száma": "4"
                                },
                                {
                                    "Felhasználónév": "imre1",
                                    "Szállítási mód": "Személyes átvétel",
                                    "Ügyfelek száma": "3"
                                },
                                {
                                    "Felhasználónév": "imre1",
                                    "Szállítási mód": "Részösszeg",
                                    "Ügyfelek száma": "15"
                                },
                                {
                                    "Felhasználónév": "istvan",
                                    "Szállítási mód": "GLS",
                                    "Ügyfelek száma": "3"
                                },
                                {
                                    "Felhasználónév": "istvan",
                                    "Szállítási mód": "Posta",
                                    "Ügyfelek száma": "4"
                                },
                                {
                                    "Felhasználónév": "istvan",
                                    "Szállítási mód": "Személyes átvétel",
                                    "Ügyfelek száma": "4"
                                },
                                {
                                    "Felhasználónév": "istvan",
                                    "Szállítási mód": "Részösszeg",
                                    "Ügyfelek száma": "11"
                                },
                                {
                                    "Felhasználónév": "istvan1",
                                    "Szállítási mód": "GLS",
                                    "Ügyfelek száma": "8"
                                },
                                {
                                    "Felhasználónév": "istvan1",
                                    "Szállítási mód": "Posta",
                                    "Ügyfelek száma": "4"
                                },
                                {
                                    "Felhasználónév": "istvan1",
                                    "Szállítási mód": "Személyes átvétel",
                                    "Ügyfelek száma": "7"
                                },
                                {
                                    "Felhasználónév": "istvan1",
                                    "Szállítási mód": "Részösszeg",
                                    "Ügyfelek száma": "19"
                                },
                                {
                                    "Felhasználónév": "ISTVANV",
                                    "Szállítási mód": "GLS",
                                    "Ügyfelek száma": "4"
                                },
                                {
                                    "Felhasználónév": "ISTVANV",
                                    "Szállítási mód": "Posta",
                                    "Ügyfelek száma": "9"
                                },
                                {
                                    "Felhasználónév": "ISTVANV",
                                    "Szállítási mód": "Személyes átvétel",
                                    "Ügyfelek száma": "8"
                                },
                                {
                                    "Felhasználónév": "ISTVANV",
                                    "Szállítási mód": "Részösszeg",
                                    "Ügyfelek száma": "21"
                                },
                                {
                                    "Felhasználónév": "janos3",
                                    "Szállítási mód": "GLS",
                                    "Ügyfelek száma": "5"
                                },
                                {
                                    "Felhasználónév": "janos3",
                                    "Szállítási mód": "Posta",
                                    "Ügyfelek száma": "2"
                                },
                                {
                                    "Felhasználónév": "janos3",
                                    "Szállítási mód": "Személyes átvétel",
                                    "Ügyfelek száma": "6"
                                },
                                {
                                    "Felhasználónév": "janos3",
                                    "Szállítási mód": "Részösszeg",
                                    "Ügyfelek száma": "13"
                                },
                                {
                                    "Felhasználónév": "JANOSG",
                                    "Szállítási mód": "GLS",
                                    "Ügyfelek száma": "3"
                                },
                                {
                                    "Felhasználónév": "JANOSG",
                                    "Szállítási mód": "Posta",
                                    "Ügyfelek száma": "3"
                                },
                                {
                                    "Felhasználónév": "JANOSG",
                                    "Szállítási mód": "Személyes átvétel",
                                    "Ügyfelek száma": "4"
                                },
                                {
                                    "Felhasználónév": "JANOSG",
                                    "Szállítási mód": "Részösszeg",
                                    "Ügyfelek száma": "10"
                                },
                                {
                                    "Felhasználónév": "JANOSP",
                                    "Szállítási mód": "GLS",
                                    "Ügyfelek száma": "7"
                                },
                                {
                                    "Felhasználónév": "JANOSP",
                                    "Szállítási mód": "Posta",
                                    "Ügyfelek száma": "7"
                                },
                                {
                                    "Felhasználónév": "JANOSP",
                                    "Szállítási mód": "Személyes átvétel",
                                    "Ügyfelek száma": "3"
                                },
                                {
                                    "Felhasználónév": "JANOSP",
                                    "Szállítási mód": "Részösszeg",
                                    "Ügyfelek száma": "17"
                                },
                                {
                                    "Felhasználónév": "jozsef",
                                    "Szállítási mód": "GLS",
                                    "Ügyfelek száma": "116"
                                },
                                {
                                    "Felhasználónév": "jozsef",
                                    "Szállítási mód": "Posta",
                                    "Ügyfelek száma": "132"
                                },
                                {
                                    "Felhasználónév": "jozsef",
                                    "Szállítási mód": "Személyes átvétel",
                                    "Ügyfelek száma": "134"
                                },
                                {
                                    "Felhasználónév": "jozsef",
                                    "Szállítási mód": "Részösszeg",
                                    "Ügyfelek száma": "382"
                                },
                                {
                                    "Felhasználónév": "jozsef2",
                                    "Szállítási mód": "GLS",
                                    "Ügyfelek száma": "7"
                                },
                                {
                                    "Felhasználónév": "jozsef2",
                                    "Szállítási mód": "Posta",
                                    "Ügyfelek száma": "2"
                                },
                                {
                                    "Felhasználónév": "jozsef2",
                                    "Szállítási mód": "Személyes átvétel",
                                    "Ügyfelek száma": "4"
                                },
                                {
                                    "Felhasználónév": "jozsef2",
                                    "Szállítási mód": "Részösszeg",
                                    "Ügyfelek száma": "13"
                                },
                                {
                                    "Felhasználónév": "JOZSEFG",
                                    "Szállítási mód": "GLS",
                                    "Ügyfelek száma": "11"
                                },
                                {
                                    "Felhasználónév": "JOZSEFG",
                                    "Szállítási mód": "Posta",
                                    "Ügyfelek száma": "1"
                                },
                                {
                                    "Felhasználónév": "JOZSEFG",
                                    "Szállítási mód": "Személyes átvétel",
                                    "Ügyfelek száma": "9"
                                },
                                {
                                    "Felhasználónév": "JOZSEFG",
                                    "Szállítási mód": "Részösszeg",
                                    "Ügyfelek száma": "21"
                                },
                                {
                                    "Felhasználónév": "JUDITH",
                                    "Szállítási mód": "GLS",
                                    "Ügyfelek száma": "170"
                                },
                                {
                                    "Felhasználónév": "JUDITH",
                                    "Szállítási mód": "Posta",
                                    "Ügyfelek száma": "130"
                                },
                                {
                                    "Felhasználónév": "JUDITH",
                                    "Szállítási mód": "Személyes átvétel",
                                    "Ügyfelek száma": "150"
                                },
                                {
                                    "Felhasználónév": "JUDITH",
                                    "Szállítási mód": "Részösszeg",
                                    "Ügyfelek száma": "450"
                                },
                                {
                                    "Felhasználónév": "julia",
                                    "Szállítási mód": "GLS",
                                    "Ügyfelek száma": "137"
                                },
                                {
                                    "Felhasználónév": "julia",
                                    "Szállítási mód": "Posta",
                                    "Ügyfelek száma": "160"
                                },
                                {
                                    "Felhasználónév": "julia",
                                    "Szállítási mód": "Személyes átvétel",
                                    "Ügyfelek száma": "138"
                                },
                                {
                                    "Felhasználónév": "julia",
                                    "Szállítási mód": "Részösszeg",
                                    "Ügyfelek száma": "435"
                                },
                                {
                                    "Felhasználónév": "julia4",
                                    "Szállítási mód": "GLS",
                                    "Ügyfelek száma": "2"
                                },
                                {
                                    "Felhasználónév": "julia4",
                                    "Szállítási mód": "Posta",
                                    "Ügyfelek száma": "4"
                                },
                                {
                                    "Felhasználónév": "julia4",
                                    "Szállítási mód": "Személyes átvétel",
                                    "Ügyfelek száma": "8"
                                },
                                {
                                    "Felhasználónév": "julia4",
                                    "Szállítási mód": "Részösszeg",
                                    "Ügyfelek száma": "14"
                                },
                                {
                                    "Felhasználónév": "julianna4",
                                    "Szállítási mód": "GLS",
                                    "Ügyfelek száma": "8"
                                },
                                {
                                    "Felhasználónév": "julianna4",
                                    "Szállítási mód": "Posta",
                                    "Ügyfelek száma": "12"
                                },
                                {
                                    "Felhasználónév": "julianna4",
                                    "Szállítási mód": "Személyes átvétel",
                                    "Ügyfelek száma": "7"
                                },
                                {
                                    "Felhasználónév": "julianna4",
                                    "Szállítási mód": "Részösszeg",
                                    "Ügyfelek száma": "27"
                                },
                                {
                                    "Felhasználónév": "kata",
                                    "Szállítási mód": "GLS",
                                    "Ügyfelek száma": "5"
                                },
                                {
                                    "Felhasználónév": "kata",
                                    "Szállítási mód": "Posta",
                                    "Ügyfelek száma": "4"
                                },
                                {
                                    "Felhasználónév": "kata",
                                    "Szállítási mód": "Személyes átvétel",
                                    "Ügyfelek száma": "3"
                                },
                                {
                                    "Felhasználónév": "kata",
                                    "Szállítási mód": "Részösszeg",
                                    "Ügyfelek száma": "12"
                                },
                                {
                                    "Felhasználónév": "katalin",
                                    "Szállítási mód": "GLS",
                                    "Ügyfelek száma": "7"
                                },
                                {
                                    "Felhasználónév": "katalin",
                                    "Szállítási mód": "Posta",
                                    "Ügyfelek száma": "7"
                                },
                                {
                                    "Felhasználónév": "katalin",
                                    "Szállítási mód": "Személyes átvétel",
                                    "Ügyfelek száma": "5"
                                },
                                {
                                    "Felhasználónév": "katalin",
                                    "Szállítási mód": "Részösszeg",
                                    "Ügyfelek száma": "19"
                                },
                                {
                                    "Felhasználónév": "katalin4",
                                    "Szállítási mód": "GLS",
                                    "Ügyfelek száma": "7"
                                },
                                {
                                    "Felhasználónév": "katalin4",
                                    "Szállítási mód": "Posta",
                                    "Ügyfelek száma": "5"
                                },
                                {
                                    "Felhasználónév": "katalin4",
                                    "Szállítási mód": "Személyes átvétel",
                                    "Ügyfelek száma": "11"
                                },
                                {
                                    "Felhasználónév": "katalin4",
                                    "Szállítási mód": "Részösszeg",
                                    "Ügyfelek száma": "23"
                                },
                                {
                                    "Felhasználónév": "kati",
                                    "Szállítási mód": "GLS",
                                    "Ügyfelek száma": "4"
                                },
                                {
                                    "Felhasználónév": "kati",
                                    "Szállítási mód": "Posta",
                                    "Ügyfelek száma": "5"
                                },
                                {
                                    "Felhasználónév": "kati",
                                    "Szállítási mód": "Személyes átvétel",
                                    "Ügyfelek száma": "4"
                                },
                                {
                                    "Felhasználónév": "kati",
                                    "Szállítási mód": "Részösszeg",
                                    "Ügyfelek száma": "13"
                                },
                                {
                                    "Felhasználónév": "katka",
                                    "Szállítási mód": "GLS",
                                    "Ügyfelek száma": "6"
                                },
                                {
                                    "Felhasználónév": "katka",
                                    "Szállítási mód": "Posta",
                                    "Ügyfelek száma": "6"
                                },
                                {
                                    "Felhasználónév": "katka",
                                    "Szállítási mód": "Személyes átvétel",
                                    "Ügyfelek száma": "10"
                                },
                                {
                                    "Felhasználónév": "katka",
                                    "Szállítási mód": "Részösszeg",
                                    "Ügyfelek száma": "22"
                                },
                                {
                                    "Felhasználónév": "klaudia2",
                                    "Szállítási mód": "GLS",
                                    "Ügyfelek száma": "3"
                                },
                                {
                                    "Felhasználónév": "klaudia2",
                                    "Szállítási mód": "Posta",
                                    "Ügyfelek száma": "9"
                                },
                                {
                                    "Felhasználónév": "klaudia2",
                                    "Szállítási mód": "Személyes átvétel",
                                    "Ügyfelek száma": "5"
                                },
                                {
                                    "Felhasználónév": "klaudia2",
                                    "Szállítási mód": "Részösszeg",
                                    "Ügyfelek száma": "17"
                                },
                                {
                                    "Felhasználónév": "kornel4",
                                    "Szállítási mód": "GLS",
                                    "Ügyfelek száma": "3"
                                },
                                {
                                    "Felhasználónév": "kornel4",
                                    "Szállítási mód": "Posta",
                                    "Ügyfelek száma": "1"
                                },
                                {
                                    "Felhasználónév": "kornel4",
                                    "Szállítási mód": "Személyes átvétel",
                                    "Ügyfelek száma": "7"
                                },
                                {
                                    "Felhasználónév": "kornel4",
                                    "Szállítási mód": "Részösszeg",
                                    "Ügyfelek száma": "11"
                                },
                                {
                                    "Felhasználónév": "kristof4",
                                    "Szállítási mód": "GLS",
                                    "Ügyfelek száma": "9"
                                },
                                {
                                    "Felhasználónév": "kristof4",
                                    "Szállítási mód": "Posta",
                                    "Ügyfelek száma": "4"
                                },
                                {
                                    "Felhasználónév": "kristof4",
                                    "Szállítási mód": "Személyes átvétel",
                                    "Ügyfelek száma": "8"
                                },
                                {
                                    "Felhasználónév": "kristof4",
                                    "Szállítási mód": "Részösszeg",
                                    "Ügyfelek száma": "21"
                                },
                                {
                                    "Felhasználónév": "kriszti",
                                    "Szállítási mód": "GLS",
                                    "Ügyfelek száma": "3"
                                },
                                {
                                    "Felhasználónév": "kriszti",
                                    "Szállítási mód": "Posta",
                                    "Ügyfelek száma": "5"
                                },
                                {
                                    "Felhasználónév": "kriszti",
                                    "Szállítási mód": "Személyes átvétel",
                                    "Ügyfelek száma": "5"
                                },
                                {
                                    "Felhasználónév": "kriszti",
                                    "Szállítási mód": "Részösszeg",
                                    "Ügyfelek száma": "13"
                                },
                                {
                                    "Felhasználónév": "krisztian4",
                                    "Szállítási mód": "GLS",
                                    "Ügyfelek száma": "5"
                                },
                                {
                                    "Felhasználónév": "krisztian4",
                                    "Szállítási mód": "Posta",
                                    "Ügyfelek száma": "6"
                                },
                                {
                                    "Felhasználónév": "krisztian4",
                                    "Szállítási mód": "Személyes átvétel",
                                    "Ügyfelek száma": "6"
                                },
                                {
                                    "Felhasználónév": "krisztian4",
                                    "Szállítási mód": "Részösszeg",
                                    "Ügyfelek száma": "17"
                                },
                                {
                                    "Felhasználónév": "KRISZTIANM",
                                    "Szállítási mód": "GLS",
                                    "Ügyfelek száma": "118"
                                },
                                {
                                    "Felhasználónév": "KRISZTIANM",
                                    "Szállítási mód": "Posta",
                                    "Ügyfelek száma": "136"
                                },
                                {
                                    "Felhasználónév": "KRISZTIANM",
                                    "Szállítási mód": "Személyes átvétel",
                                    "Ügyfelek száma": "130"
                                },
                                {
                                    "Felhasználónév": "KRISZTIANM",
                                    "Szállítási mód": "Részösszeg",
                                    "Ügyfelek száma": "384"
                                },
                                {
                                    "Felhasználónév": "krisztina",
                                    "Szállítási mód": "GLS",
                                    "Ügyfelek száma": "149"
                                },
                                {
                                    "Felhasználónév": "krisztina",
                                    "Szállítási mód": "Posta",
                                    "Ügyfelek száma": "150"
                                },
                                {
                                    "Felhasználónév": "krisztina",
                                    "Szállítási mód": "Személyes átvétel",
                                    "Ügyfelek száma": "157"
                                },
                                {
                                    "Felhasználónév": "krisztina",
                                    "Szállítási mód": "Részösszeg",
                                    "Ügyfelek száma": "456"
                                },
                                {
                                    "Felhasználónév": "krisztina1",
                                    "Szállítási mód": "GLS",
                                    "Ügyfelek száma": "10"
                                },
                                {
                                    "Felhasználónév": "krisztina1",
                                    "Szállítási mód": "Posta",
                                    "Ügyfelek száma": "4"
                                },
                                {
                                    "Felhasználónév": "krisztina1",
                                    "Szállítási mód": "Személyes átvétel",
                                    "Ügyfelek száma": "8"
                                },
                                {
                                    "Felhasználónév": "krisztina1",
                                    "Szállítási mód": "Részösszeg",
                                    "Ügyfelek száma": "22"
                                },
                                {
                                    "Felhasználónév": "KRISZTINAG",
                                    "Szállítási mód": "GLS",
                                    "Ügyfelek száma": "6"
                                },
                                {
                                    "Felhasználónév": "KRISZTINAG",
                                    "Szállítási mód": "Posta",
                                    "Ügyfelek száma": "6"
                                },
                                {
                                    "Felhasználónév": "KRISZTINAG",
                                    "Szállítási mód": "Személyes átvétel",
                                    "Ügyfelek száma": "10"
                                },
                                {
                                    "Felhasználónév": "KRISZTINAG",
                                    "Szállítási mód": "Részösszeg",
                                    "Ügyfelek száma": "22"
                                },
                                {
                                    "Felhasználónév": "lajos",
                                    "Szállítási mód": "GLS",
                                    "Ügyfelek száma": "5"
                                },
                                {
                                    "Felhasználónév": "lajos",
                                    "Szállítási mód": "Posta",
                                    "Ügyfelek száma": "2"
                                },
                                {
                                    "Felhasználónév": "lajos",
                                    "Szállítási mód": "Személyes átvétel",
                                    "Ügyfelek száma": "9"
                                },
                                {
                                    "Felhasználónév": "lajos",
                                    "Szállítási mód": "Részösszeg",
                                    "Ügyfelek száma": "16"
                                },
                                {
                                    "Felhasználónév": "lala",
                                    "Szállítási mód": "GLS",
                                    "Ügyfelek száma": "5"
                                },
                                {
                                    "Felhasználónév": "lala",
                                    "Szállítási mód": "Posta",
                                    "Ügyfelek száma": "3"
                                },
                                {
                                    "Felhasználónév": "lala",
                                    "Szállítási mód": "Személyes átvétel",
                                    "Ügyfelek száma": "9"
                                },
                                {
                                    "Felhasználónév": "lala",
                                    "Szállítási mód": "Részösszeg",
                                    "Ügyfelek száma": "17"
                                },
                                {
                                    "Felhasználónév": "laszlo1",
                                    "Szállítási mód": "GLS",
                                    "Ügyfelek száma": "130"
                                },
                                {
                                    "Felhasználónév": "laszlo1",
                                    "Szállítási mód": "Posta",
                                    "Ügyfelek száma": "129"
                                },
                                {
                                    "Felhasználónév": "laszlo1",
                                    "Szállítási mód": "Személyes átvétel",
                                    "Ügyfelek száma": "135"
                                },
                                {
                                    "Felhasználónév": "laszlo1",
                                    "Szállítási mód": "Részösszeg",
                                    "Ügyfelek száma": "394"
                                },
                                {
                                    "Felhasználónév": "laszlo2",
                                    "Szállítási mód": "GLS",
                                    "Ügyfelek száma": "12"
                                },
                                {
                                    "Felhasználónév": "laszlo2",
                                    "Szállítási mód": "Posta",
                                    "Ügyfelek száma": "6"
                                },
                                {
                                    "Felhasználónév": "laszlo2",
                                    "Szállítási mód": "Személyes átvétel",
                                    "Ügyfelek száma": "7"
                                },
                                {
                                    "Felhasználónév": "laszlo2",
                                    "Szállítási mód": "Részösszeg",
                                    "Ügyfelek száma": "25"
                                },
                                {
                                    "Felhasználónév": "LASZLOA",
                                    "Szállítási mód": "GLS",
                                    "Ügyfelek száma": "156"
                                },
                                {
                                    "Felhasználónév": "LASZLOA",
                                    "Szállítási mód": "Posta",
                                    "Ügyfelek száma": "136"
                                },
                                {
                                    "Felhasználónév": "LASZLOA",
                                    "Szállítási mód": "Személyes átvétel",
                                    "Ügyfelek száma": "154"
                                },
                                {
                                    "Felhasználónév": "LASZLOA",
                                    "Szállítási mód": "Részösszeg",
                                    "Ügyfelek száma": "446"
                                },
                                {
                                    "Felhasználónév": "LASZLON",
                                    "Szállítási mód": "GLS",
                                    "Ügyfelek száma": "126"
                                },
                                {
                                    "Felhasználónév": "LASZLON",
                                    "Szállítási mód": "Posta",
                                    "Ügyfelek száma": "131"
                                },
                                {
                                    "Felhasználónév": "LASZLON",
                                    "Szállítási mód": "Személyes átvétel",
                                    "Ügyfelek száma": "143"
                                },
                                {
                                    "Felhasználónév": "LASZLON",
                                    "Szállítási mód": "Részösszeg",
                                    "Ügyfelek száma": "400"
                                },
                                {
                                    "Felhasználónév": "maria1",
                                    "Szállítási mód": "GLS",
                                    "Ügyfelek száma": "4"
                                },
                                {
                                    "Felhasználónév": "maria1",
                                    "Szállítási mód": "Posta",
                                    "Ügyfelek száma": "5"
                                },
                                {
                                    "Felhasználónév": "maria1",
                                    "Szállítási mód": "Személyes átvétel",
                                    "Ügyfelek száma": "1"
                                },
                                {
                                    "Felhasználónév": "maria1",
                                    "Szállítási mód": "Részösszeg",
                                    "Ügyfelek száma": "10"
                                },
                                {
                                    "Felhasználónév": "MARKH",
                                    "Szállítási mód": "GLS",
                                    "Ügyfelek száma": "128"
                                },
                                {
                                    "Felhasználónév": "MARKH",
                                    "Szállítási mód": "Posta",
                                    "Ügyfelek száma": "142"
                                },
                                {
                                    "Felhasználónév": "MARKH",
                                    "Szállítási mód": "Személyes átvétel",
                                    "Ügyfelek száma": "142"
                                },
                                {
                                    "Felhasználónév": "MARKH",
                                    "Szállítási mód": "Részösszeg",
                                    "Ügyfelek száma": "412"
                                },
                                {
                                    "Felhasználónév": "marton",
                                    "Szállítási mód": "GLS",
                                    "Ügyfelek száma": "5"
                                },
                                {
                                    "Felhasználónév": "marton",
                                    "Szállítási mód": "Posta",
                                    "Ügyfelek száma": "4"
                                },
                                {
                                    "Felhasználónév": "marton",
                                    "Szállítási mód": "Személyes átvétel",
                                    "Ügyfelek száma": "5"
                                },
                                {
                                    "Felhasználónév": "marton",
                                    "Szállítási mód": "Részösszeg",
                                    "Ügyfelek száma": "14"
                                },
                                {
                                    "Felhasználónév": "MATEK",
                                    "Szállítási mód": "GLS",
                                    "Ügyfelek száma": "6"
                                },
                                {
                                    "Felhasználónév": "MATEK",
                                    "Szállítási mód": "Posta",
                                    "Ügyfelek száma": "10"
                                },
                                {
                                    "Felhasználónév": "MATEK",
                                    "Szállítási mód": "Személyes átvétel",
                                    "Ügyfelek száma": "9"
                                },
                                {
                                    "Felhasználónév": "MATEK",
                                    "Szállítási mód": "Részösszeg",
                                    "Ügyfelek száma": "25"
                                },
                                {
                                    "Felhasználónév": "matyas2",
                                    "Szállítási mód": "GLS",
                                    "Ügyfelek száma": "138"
                                },
                                {
                                    "Felhasználónév": "matyas2",
                                    "Szállítási mód": "Posta",
                                    "Ügyfelek száma": "131"
                                },
                                {
                                    "Felhasználónév": "matyas2",
                                    "Szállítási mód": "Személyes átvétel",
                                    "Ügyfelek száma": "164"
                                },
                                {
                                    "Felhasználónév": "matyas2",
                                    "Szállítási mód": "Részösszeg",
                                    "Ügyfelek száma": "433"
                                },
                                {
                                    "Felhasználónév": "MATYASS",
                                    "Szállítási mód": "GLS",
                                    "Ügyfelek száma": "4"
                                },
                                {
                                    "Felhasználónév": "MATYASS",
                                    "Szállítási mód": "Posta",
                                    "Ügyfelek száma": "5"
                                },
                                {
                                    "Felhasználónév": "MATYASS",
                                    "Szállítási mód": "Személyes átvétel",
                                    "Ügyfelek száma": "3"
                                },
                                {
                                    "Felhasználónév": "MATYASS",
                                    "Szállítási mód": "Részösszeg",
                                    "Ügyfelek száma": "12"
                                },
                                {
                                    "Felhasználónév": "MIHALYJ",
                                    "Szállítási mód": "GLS",
                                    "Ügyfelek száma": "3"
                                },
                                {
                                    "Felhasználónév": "MIHALYJ",
                                    "Szállítási mód": "Posta",
                                    "Ügyfelek száma": "4"
                                },
                                {
                                    "Felhasználónév": "MIHALYJ",
                                    "Szállítási mód": "Személyes átvétel",
                                    "Ügyfelek száma": "6"
                                },
                                {
                                    "Felhasználónév": "MIHALYJ",
                                    "Szállítási mód": "Részösszeg",
                                    "Ügyfelek száma": "13"
                                },
                                {
                                    "Felhasználónév": "miklos2",
                                    "Szállítási mód": "GLS",
                                    "Ügyfelek száma": "7"
                                },
                                {
                                    "Felhasználónév": "miklos2",
                                    "Szállítási mód": "Posta",
                                    "Ügyfelek száma": "4"
                                },
                                {
                                    "Felhasználónév": "miklos2",
                                    "Szállítási mód": "Személyes átvétel",
                                    "Ügyfelek száma": "2"
                                },
                                {
                                    "Felhasználónév": "miklos2",
                                    "Szállítási mód": "Részösszeg",
                                    "Ügyfelek száma": "13"
                                },
                                {
                                    "Felhasználónév": "MIKLOSB",
                                    "Szállítási mód": "GLS",
                                    "Ügyfelek száma": "6"
                                },
                                {
                                    "Felhasználónév": "MIKLOSB",
                                    "Szállítási mód": "Posta",
                                    "Ügyfelek száma": "1"
                                },
                                {
                                    "Felhasználónév": "MIKLOSB",
                                    "Szállítási mód": "Személyes átvétel",
                                    "Ügyfelek száma": "8"
                                },
                                {
                                    "Felhasználónév": "MIKLOSB",
                                    "Szállítási mód": "Részösszeg",
                                    "Ügyfelek száma": "15"
                                },
                                {
                                    "Felhasználónév": "MONIKAM",
                                    "Szállítási mód": "GLS",
                                    "Ügyfelek száma": "133"
                                },
                                {
                                    "Felhasználónév": "MONIKAM",
                                    "Szállítási mód": "Posta",
                                    "Ügyfelek száma": "151"
                                },
                                {
                                    "Felhasználónév": "MONIKAM",
                                    "Szállítási mód": "Személyes átvétel",
                                    "Ügyfelek száma": "123"
                                },
                                {
                                    "Felhasználónév": "MONIKAM",
                                    "Szállítási mód": "Részösszeg",
                                    "Ügyfelek száma": "407"
                                },
                                {
                                    "Felhasználónév": "NANDORF",
                                    "Szállítási mód": "GLS",
                                    "Ügyfelek száma": "147"
                                },
                                {
                                    "Felhasználónév": "NANDORF",
                                    "Szállítási mód": "Posta",
                                    "Ügyfelek száma": "139"
                                },
                                {
                                    "Felhasználónév": "NANDORF",
                                    "Szállítási mód": "Személyes átvétel",
                                    "Ügyfelek száma": "134"
                                },
                                {
                                    "Felhasználónév": "NANDORF",
                                    "Szállítási mód": "Részösszeg",
                                    "Ügyfelek száma": "420"
                                },
                                {
                                    "Felhasználónév": "nikolett3",
                                    "Szállítási mód": "GLS",
                                    "Ügyfelek száma": "4"
                                },
                                {
                                    "Felhasználónév": "nikolett3",
                                    "Szállítási mód": "Posta",
                                    "Ügyfelek száma": "3"
                                },
                                {
                                    "Felhasználónév": "nikolett3",
                                    "Szállítási mód": "Személyes átvétel",
                                    "Ügyfelek száma": "10"
                                },
                                {
                                    "Felhasználónév": "nikolett3",
                                    "Szállítási mód": "Részösszeg",
                                    "Ügyfelek száma": "17"
                                },
                                {
                                    "Felhasználónév": "nikoletta4",
                                    "Szállítási mód": "GLS",
                                    "Ügyfelek száma": "137"
                                },
                                {
                                    "Felhasználónév": "nikoletta4",
                                    "Szállítási mód": "Posta",
                                    "Ügyfelek száma": "158"
                                },
                                {
                                    "Felhasználónév": "nikoletta4",
                                    "Szállítási mód": "Személyes átvétel",
                                    "Ügyfelek száma": "119"
                                },
                                {
                                    "Felhasználónév": "nikoletta4",
                                    "Szállítási mód": "Részösszeg",
                                    "Ügyfelek száma": "414"
                                },
                                {
                                    "Felhasználónév": "NIKOLETTAT",
                                    "Szállítási mód": "GLS",
                                    "Ügyfelek száma": "13"
                                },
                                {
                                    "Felhasználónév": "NIKOLETTAT",
                                    "Szállítási mód": "Posta",
                                    "Ügyfelek száma": "7"
                                },
                                {
                                    "Felhasználónév": "NIKOLETTAT",
                                    "Szállítási mód": "Személyes átvétel",
                                    "Ügyfelek száma": "5"
                                },
                                {
                                    "Felhasználónév": "NIKOLETTAT",
                                    "Szállítási mód": "Részösszeg",
                                    "Ügyfelek száma": "25"
                                },
                                {
                                    "Felhasználónév": "norbert2",
                                    "Szállítási mód": "GLS",
                                    "Ügyfelek száma": "7"
                                },
                                {
                                    "Felhasználónév": "norbert2",
                                    "Szállítási mód": "Posta",
                                    "Ügyfelek száma": "4"
                                },
                                {
                                    "Felhasználónév": "norbert2",
                                    "Szállítási mód": "Részösszeg",
                                    "Ügyfelek száma": "11"
                                },
                                {
                                    "Felhasználónév": "norbert4",
                                    "Szállítási mód": "GLS",
                                    "Ügyfelek száma": "1"
                                },
                                {
                                    "Felhasználónév": "norbert4",
                                    "Szállítási mód": "Posta",
                                    "Ügyfelek száma": "3"
                                },
                                {
                                    "Felhasználónév": "norbert4",
                                    "Szállítási mód": "Személyes átvétel",
                                    "Ügyfelek száma": "9"
                                },
                                {
                                    "Felhasználónév": "norbert4",
                                    "Szállítási mód": "Részösszeg",
                                    "Ügyfelek száma": "13"
                                },
                                {
                                    "Felhasználónév": "norbert5",
                                    "Szállítási mód": "GLS",
                                    "Ügyfelek száma": "1"
                                },
                                {
                                    "Felhasználónév": "norbert5",
                                    "Szállítási mód": "Posta",
                                    "Ügyfelek száma": "6"
                                },
                                {
                                    "Felhasználónév": "norbert5",
                                    "Szállítási mód": "Személyes átvétel",
                                    "Ügyfelek száma": "9"
                                },
                                {
                                    "Felhasználónév": "norbert5",
                                    "Szállítási mód": "Részösszeg",
                                    "Ügyfelek száma": "16"
                                },
                                {
                                    "Felhasználónév": "pal",
                                    "Szállítási mód": "GLS",
                                    "Ügyfelek száma": "152"
                                },
                                {
                                    "Felhasználónév": "pal",
                                    "Szállítási mód": "Posta",
                                    "Ügyfelek száma": "132"
                                },
                                {
                                    "Felhasználónév": "pal",
                                    "Szállítási mód": "Személyes átvétel",
                                    "Ügyfelek száma": "154"
                                },
                                {
                                    "Felhasználónév": "pal",
                                    "Szállítási mód": "Részösszeg",
                                    "Ügyfelek száma": "438"
                                },
                                {
                                    "Felhasználónév": "peter1",
                                    "Szállítási mód": "GLS",
                                    "Ügyfelek száma": "151"
                                },
                                {
                                    "Felhasználónév": "peter1",
                                    "Szállítási mód": "Posta",
                                    "Ügyfelek száma": "135"
                                },
                                {
                                    "Felhasználónév": "peter1",
                                    "Szállítási mód": "Személyes átvétel",
                                    "Ügyfelek száma": "126"
                                },
                                {
                                    "Felhasználónév": "peter1",
                                    "Szállítási mód": "Részösszeg",
                                    "Ügyfelek száma": "412"
                                },
                                {
                                    "Felhasználónév": "peter2",
                                    "Szállítási mód": "GLS",
                                    "Ügyfelek száma": "7"
                                },
                                {
                                    "Felhasználónév": "peter2",
                                    "Szállítási mód": "Posta",
                                    "Ügyfelek száma": "4"
                                },
                                {
                                    "Felhasználónév": "peter2",
                                    "Szállítási mód": "Személyes átvétel",
                                    "Ügyfelek száma": "7"
                                },
                                {
                                    "Felhasználónév": "peter2",
                                    "Szállítási mód": "Részösszeg",
                                    "Ügyfelek száma": "18"
                                },
                                {
                                    "Felhasználónév": "peter3",
                                    "Szállítási mód": "GLS",
                                    "Ügyfelek száma": "8"
                                },
                                {
                                    "Felhasználónév": "peter3",
                                    "Szállítási mód": "Posta",
                                    "Ügyfelek száma": "7"
                                },
                                {
                                    "Felhasználónév": "peter3",
                                    "Szállítási mód": "Személyes átvétel",
                                    "Ügyfelek száma": "10"
                                },
                                {
                                    "Felhasználónév": "peter3",
                                    "Szállítási mód": "Részösszeg",
                                    "Ügyfelek száma": "25"
                                },
                                {
                                    "Felhasználónév": "peter4",
                                    "Szállítási mód": "GLS",
                                    "Ügyfelek száma": "266"
                                },
                                {
                                    "Felhasználónév": "peter4",
                                    "Szállítási mód": "Posta",
                                    "Ügyfelek száma": "293"
                                },
                                {
                                    "Felhasználónév": "peter4",
                                    "Szállítási mód": "Személyes átvétel",
                                    "Ügyfelek száma": "293"
                                },
                                {
                                    "Felhasználónév": "peter4",
                                    "Szállítási mód": "Részösszeg",
                                    "Ügyfelek száma": "852"
                                },
                                {
                                    "Felhasználónév": "PETERB",
                                    "Szállítási mód": "GLS",
                                    "Ügyfelek száma": "2"
                                },
                                {
                                    "Felhasználónév": "PETERB",
                                    "Szállítási mód": "Posta",
                                    "Ügyfelek száma": "4"
                                },
                                {
                                    "Felhasználónév": "PETERB",
                                    "Szállítási mód": "Személyes átvétel",
                                    "Ügyfelek száma": "9"
                                },
                                {
                                    "Felhasználónév": "PETERB",
                                    "Szállítási mód": "Részösszeg",
                                    "Ügyfelek száma": "15"
                                },
                                {
                                    "Felhasználónév": "polla",
                                    "Szállítási mód": "GLS",
                                    "Ügyfelek száma": "9"
                                },
                                {
                                    "Felhasználónév": "polla",
                                    "Szállítási mód": "Posta",
                                    "Ügyfelek száma": "6"
                                },
                                {
                                    "Felhasználónév": "polla",
                                    "Szállítási mód": "Személyes átvétel",
                                    "Ügyfelek száma": "7"
                                },
                                {
                                    "Felhasználónév": "polla",
                                    "Szállítási mód": "Részösszeg",
                                    "Ügyfelek száma": "22"
                                },
                                {
                                    "Felhasználónév": "rajmond4",
                                    "Szállítási mód": "GLS",
                                    "Ügyfelek száma": "6"
                                },
                                {
                                    "Felhasználónév": "rajmond4",
                                    "Szállítási mód": "Posta",
                                    "Ügyfelek száma": "5"
                                },
                                {
                                    "Felhasználónév": "rajmond4",
                                    "Szállítási mód": "Személyes átvétel",
                                    "Ügyfelek száma": "6"
                                },
                                {
                                    "Felhasználónév": "rajmond4",
                                    "Szállítási mód": "Részösszeg",
                                    "Ügyfelek száma": "17"
                                },
                                {
                                    "Felhasználónév": "reka4",
                                    "Szállítási mód": "GLS",
                                    "Ügyfelek száma": "5"
                                },
                                {
                                    "Felhasználónév": "reka4",
                                    "Szállítási mód": "Posta",
                                    "Ügyfelek száma": "4"
                                },
                                {
                                    "Felhasználónév": "reka4",
                                    "Szállítási mód": "Személyes átvétel",
                                    "Ügyfelek száma": "11"
                                },
                                {
                                    "Felhasználónév": "reka4",
                                    "Szállítási mód": "Részösszeg",
                                    "Ügyfelek száma": "20"
                                },
                                {
                                    "Felhasználónév": "RENATAK",
                                    "Szállítási mód": "GLS",
                                    "Ügyfelek száma": "135"
                                },
                                {
                                    "Felhasználónév": "RENATAK",
                                    "Szállítási mód": "Posta",
                                    "Ügyfelek száma": "140"
                                },
                                {
                                    "Felhasználónév": "RENATAK",
                                    "Szállítási mód": "Személyes átvétel",
                                    "Ügyfelek száma": "147"
                                },
                                {
                                    "Felhasználónév": "RENATAK",
                                    "Szállítási mód": "Részösszeg",
                                    "Ügyfelek száma": "422"
                                },
                                {
                                    "Felhasználónév": "RENATAS",
                                    "Szállítási mód": "GLS",
                                    "Ügyfelek száma": "6"
                                },
                                {
                                    "Felhasználónév": "RENATAS",
                                    "Szállítási mód": "Posta",
                                    "Ügyfelek száma": "5"
                                },
                                {
                                    "Felhasználónév": "RENATAS",
                                    "Szállítási mód": "Személyes átvétel",
                                    "Ügyfelek száma": "5"
                                },
                                {
                                    "Felhasználónév": "RENATAS",
                                    "Szállítási mód": "Részösszeg",
                                    "Ügyfelek száma": "16"
                                },
                                {
                                    "Felhasználónév": "robert2",
                                    "Szállítási mód": "GLS",
                                    "Ügyfelek száma": "5"
                                },
                                {
                                    "Felhasználónév": "robert2",
                                    "Szállítási mód": "Posta",
                                    "Ügyfelek száma": "1"
                                },
                                {
                                    "Felhasználónév": "robert2",
                                    "Szállítási mód": "Személyes átvétel",
                                    "Ügyfelek száma": "7"
                                },
                                {
                                    "Felhasználónév": "robert2",
                                    "Szállítási mód": "Részösszeg",
                                    "Ügyfelek száma": "13"
                                },
                                {
                                    "Felhasználónév": "ROBERTI",
                                    "Szállítási mód": "GLS",
                                    "Ügyfelek száma": "5"
                                },
                                {
                                    "Felhasználónév": "ROBERTI",
                                    "Szállítási mód": "Posta",
                                    "Ügyfelek száma": "3"
                                },
                                {
                                    "Felhasználónév": "ROBERTI",
                                    "Szállítási mód": "Személyes átvétel",
                                    "Ügyfelek száma": "5"
                                },
                                {
                                    "Felhasználónév": "ROBERTI",
                                    "Szállítási mód": "Részösszeg",
                                    "Ügyfelek száma": "13"
                                },
                                {
                                    "Felhasználónév": "ROBERTP",
                                    "Szállítási mód": "GLS",
                                    "Ügyfelek száma": "8"
                                },
                                {
                                    "Felhasználónév": "ROBERTP",
                                    "Szállítási mód": "Posta",
                                    "Ügyfelek száma": "8"
                                },
                                {
                                    "Felhasználónév": "ROBERTP",
                                    "Szállítási mód": "Személyes átvétel",
                                    "Ügyfelek száma": "10"
                                },
                                {
                                    "Felhasználónév": "ROBERTP",
                                    "Szállítási mód": "Részösszeg",
                                    "Ügyfelek száma": "26"
                                },
                                {
                                    "Felhasználónév": "roland",
                                    "Szállítási mód": "GLS",
                                    "Ügyfelek száma": "132"
                                },
                                {
                                    "Felhasználónév": "roland",
                                    "Szállítási mód": "Posta",
                                    "Ügyfelek száma": "157"
                                },
                                {
                                    "Felhasználónév": "roland",
                                    "Szállítási mód": "Személyes átvétel",
                                    "Ügyfelek száma": "125"
                                },
                                {
                                    "Felhasználónév": "roland",
                                    "Szállítási mód": "Részösszeg",
                                    "Ügyfelek száma": "414"
                                },
                                {
                                    "Felhasználónév": "roland1",
                                    "Szállítási mód": "GLS",
                                    "Ügyfelek száma": "142"
                                },
                                {
                                    "Felhasználónév": "roland1",
                                    "Szállítási mód": "Posta",
                                    "Ügyfelek száma": "155"
                                },
                                {
                                    "Felhasználónév": "roland1",
                                    "Szállítási mód": "Személyes átvétel",
                                    "Ügyfelek száma": "135"
                                },
                                {
                                    "Felhasználónév": "roland1",
                                    "Szállítási mód": "Részösszeg",
                                    "Ügyfelek száma": "432"
                                },
                                {
                                    "Felhasználónév": "roza2",
                                    "Szállítási mód": "GLS",
                                    "Ügyfelek száma": "3"
                                },
                                {
                                    "Felhasználónév": "roza2",
                                    "Szállítási mód": "Posta",
                                    "Ügyfelek száma": "2"
                                },
                                {
                                    "Felhasználónév": "roza2",
                                    "Szállítási mód": "Személyes átvétel",
                                    "Ügyfelek száma": "3"
                                },
                                {
                                    "Felhasználónév": "roza2",
                                    "Szállítási mód": "Részösszeg",
                                    "Ügyfelek száma": "8"
                                },
                                {
                                    "Felhasználónév": "sandor",
                                    "Szállítási mód": "GLS",
                                    "Ügyfelek száma": "4"
                                },
                                {
                                    "Felhasználónév": "sandor",
                                    "Szállítási mód": "Posta",
                                    "Ügyfelek száma": "6"
                                },
                                {
                                    "Felhasználónév": "sandor",
                                    "Szállítási mód": "Személyes átvétel",
                                    "Ügyfelek száma": "7"
                                },
                                {
                                    "Felhasználónév": "sandor",
                                    "Szállítási mód": "Részösszeg",
                                    "Ügyfelek száma": "17"
                                },
                                {
                                    "Felhasználónév": "sandor3",
                                    "Szállítási mód": "GLS",
                                    "Ügyfelek száma": "4"
                                },
                                {
                                    "Felhasználónév": "sandor3",
                                    "Szállítási mód": "Posta",
                                    "Ügyfelek száma": "4"
                                },
                                {
                                    "Felhasználónév": "sandor3",
                                    "Szállítási mód": "Személyes átvétel",
                                    "Ügyfelek száma": "6"
                                },
                                {
                                    "Felhasználónév": "sandor3",
                                    "Szállítási mód": "Részösszeg",
                                    "Ügyfelek száma": "14"
                                },
                                {
                                    "Felhasználónév": "sandor4",
                                    "Szállítási mód": "GLS",
                                    "Ügyfelek száma": "4"
                                },
                                {
                                    "Felhasználónév": "sandor4",
                                    "Szállítási mód": "Posta",
                                    "Ügyfelek száma": "2"
                                },
                                {
                                    "Felhasználónév": "sandor4",
                                    "Szállítási mód": "Személyes átvétel",
                                    "Ügyfelek száma": "5"
                                },
                                {
                                    "Felhasználónév": "sandor4",
                                    "Szállítási mód": "Részösszeg",
                                    "Ügyfelek száma": "11"
                                },
                                {
                                    "Felhasználónév": "sara",
                                    "Szállítási mód": "GLS",
                                    "Ügyfelek száma": "4"
                                },
                                {
                                    "Felhasználónév": "sara",
                                    "Szállítási mód": "Posta",
                                    "Ügyfelek száma": "7"
                                },
                                {
                                    "Felhasználónév": "sara",
                                    "Szállítási mód": "Személyes átvétel",
                                    "Ügyfelek száma": "9"
                                },
                                {
                                    "Felhasználónév": "sara",
                                    "Szállítási mód": "Részösszeg",
                                    "Ügyfelek száma": "20"
                                },
                                {
                                    "Felhasználónév": "SEBASTIANF",
                                    "Szállítási mód": "GLS",
                                    "Ügyfelek száma": "6"
                                },
                                {
                                    "Felhasználónév": "SEBASTIANF",
                                    "Szállítási mód": "Posta",
                                    "Ügyfelek száma": "3"
                                },
                                {
                                    "Felhasználónév": "SEBASTIANF",
                                    "Szállítási mód": "Személyes átvétel",
                                    "Ügyfelek száma": "6"
                                },
                                {
                                    "Felhasználónév": "SEBASTIANF",
                                    "Szállítási mód": "Részösszeg",
                                    "Ügyfelek száma": "15"
                                },
                                {
                                    "Felhasználónév": "sebestyen",
                                    "Szállítási mód": "GLS",
                                    "Ügyfelek száma": "4"
                                },
                                {
                                    "Felhasználónév": "sebestyen",
                                    "Szállítási mód": "Posta",
                                    "Ügyfelek száma": "6"
                                },
                                {
                                    "Felhasználónév": "sebestyen",
                                    "Szállítási mód": "Személyes átvétel",
                                    "Ügyfelek száma": "6"
                                },
                                {
                                    "Felhasználónév": "sebestyen",
                                    "Szállítási mód": "Részösszeg",
                                    "Ügyfelek száma": "16"
                                },
                                {
                                    "Felhasználónév": "szabolcs",
                                    "Szállítási mód": "GLS",
                                    "Ügyfelek száma": "145"
                                },
                                {
                                    "Felhasználónév": "szabolcs",
                                    "Szállítási mód": "Posta",
                                    "Ügyfelek száma": "157"
                                },
                                {
                                    "Felhasználónév": "szabolcs",
                                    "Szállítási mód": "Személyes átvétel",
                                    "Ügyfelek száma": "169"
                                },
                                {
                                    "Felhasználónév": "szabolcs",
                                    "Szállítási mód": "Részösszeg",
                                    "Ügyfelek száma": "471"
                                },
                                {
                                    "Felhasználónév": "SZABOLCSM",
                                    "Szállítási mód": "GLS",
                                    "Ügyfelek száma": "126"
                                },
                                {
                                    "Felhasználónév": "SZABOLCSM",
                                    "Szállítási mód": "Posta",
                                    "Ügyfelek száma": "153"
                                },
                                {
                                    "Felhasználónév": "SZABOLCSM",
                                    "Szállítási mód": "Személyes átvétel",
                                    "Ügyfelek száma": "129"
                                },
                                {
                                    "Felhasználónév": "SZABOLCSM",
                                    "Szállítási mód": "Részösszeg",
                                    "Ügyfelek száma": "408"
                                },
                                {
                                    "Felhasználónév": "SZILARDS",
                                    "Szállítási mód": "GLS",
                                    "Ügyfelek száma": "144"
                                },
                                {
                                    "Felhasználónév": "SZILARDS",
                                    "Szállítási mód": "Posta",
                                    "Ügyfelek száma": "131"
                                },
                                {
                                    "Felhasználónév": "SZILARDS",
                                    "Szállítási mód": "Személyes átvétel",
                                    "Ügyfelek száma": "111"
                                },
                                {
                                    "Felhasználónév": "SZILARDS",
                                    "Szállítási mód": "Részösszeg",
                                    "Ügyfelek száma": "386"
                                },
                                {
                                    "Felhasználónév": "szilvia1",
                                    "Szállítási mód": "GLS",
                                    "Ügyfelek száma": "156"
                                },
                                {
                                    "Felhasználónév": "szilvia1",
                                    "Szállítási mód": "Posta",
                                    "Ügyfelek száma": "151"
                                },
                                {
                                    "Felhasználónév": "szilvia1",
                                    "Szállítási mód": "Személyes átvétel",
                                    "Ügyfelek száma": "138"
                                },
                                {
                                    "Felhasználónév": "szilvia1",
                                    "Szállítási mód": "Részösszeg",
                                    "Ügyfelek száma": "445"
                                },
                                {
                                    "Felhasználónév": "tamara2",
                                    "Szállítási mód": "GLS",
                                    "Ügyfelek száma": "6"
                                },
                                {
                                    "Felhasználónév": "tamara2",
                                    "Szállítási mód": "Posta",
                                    "Ügyfelek száma": "4"
                                },
                                {
                                    "Felhasználónév": "tamara2",
                                    "Szállítási mód": "Személyes átvétel",
                                    "Ügyfelek száma": "3"
                                },
                                {
                                    "Felhasználónév": "tamara2",
                                    "Szállítási mód": "Részösszeg",
                                    "Ügyfelek száma": "13"
                                },
                                {
                                    "Felhasználónév": "tamas",
                                    "Szállítási mód": "GLS",
                                    "Ügyfelek száma": "143"
                                },
                                {
                                    "Felhasználónév": "tamas",
                                    "Szállítási mód": "Posta",
                                    "Ügyfelek száma": "156"
                                },
                                {
                                    "Felhasználónév": "tamas",
                                    "Szállítási mód": "Személyes átvétel",
                                    "Ügyfelek száma": "122"
                                },
                                {
                                    "Felhasználónév": "tamas",
                                    "Szállítási mód": "Részösszeg",
                                    "Ügyfelek száma": "421"
                                },
                                {
                                    "Felhasználónév": "TAMASF",
                                    "Szállítási mód": "GLS",
                                    "Ügyfelek száma": "159"
                                },
                                {
                                    "Felhasználónév": "TAMASF",
                                    "Szállítási mód": "Posta",
                                    "Ügyfelek száma": "145"
                                },
                                {
                                    "Felhasználónév": "TAMASF",
                                    "Szállítási mód": "Személyes átvétel",
                                    "Ügyfelek száma": "129"
                                },
                                {
                                    "Felhasználónév": "TAMASF",
                                    "Szállítási mód": "Részösszeg",
                                    "Ügyfelek száma": "433"
                                },
                                {
                                    "Felhasználónév": "tibor",
                                    "Szállítási mód": "GLS",
                                    "Ügyfelek száma": "115"
                                },
                                {
                                    "Felhasználónév": "tibor",
                                    "Szállítási mód": "Posta",
                                    "Ügyfelek száma": "129"
                                },
                                {
                                    "Felhasználónév": "tibor",
                                    "Szállítási mód": "Személyes átvétel",
                                    "Ügyfelek száma": "130"
                                },
                                {
                                    "Felhasználónév": "tibor",
                                    "Szállítási mód": "Részösszeg",
                                    "Ügyfelek száma": "374"
                                },
                                {
                                    "Felhasználónév": "tibor2",
                                    "Szállítási mód": "GLS",
                                    "Ügyfelek száma": "7"
                                },
                                {
                                    "Felhasználónév": "tibor2",
                                    "Szállítási mód": "Posta",
                                    "Ügyfelek száma": "7"
                                },
                                {
                                    "Felhasználónév": "tibor2",
                                    "Szállítási mód": "Személyes átvétel",
                                    "Ügyfelek száma": "11"
                                },
                                {
                                    "Felhasználónév": "tibor2",
                                    "Szállítási mód": "Részösszeg",
                                    "Ügyfelek száma": "25"
                                },
                                {
                                    "Felhasználónév": "tihamer",
                                    "Szállítási mód": "GLS",
                                    "Ügyfelek száma": "9"
                                },
                                {
                                    "Felhasználónév": "tihamer",
                                    "Szállítási mód": "Posta",
                                    "Ügyfelek száma": "6"
                                },
                                {
                                    "Felhasználónév": "tihamer",
                                    "Szállítási mód": "Személyes átvétel",
                                    "Ügyfelek száma": "5"
                                },
                                {
                                    "Felhasználónév": "tihamer",
                                    "Szállítási mód": "Részösszeg",
                                    "Ügyfelek száma": "20"
                                },
                                {
                                    "Felhasználónév": "timea",
                                    "Szállítási mód": "GLS",
                                    "Ügyfelek száma": "14"
                                },
                                {
                                    "Felhasználónév": "timea",
                                    "Szállítási mód": "Posta",
                                    "Ügyfelek száma": "23"
                                },
                                {
                                    "Felhasználónév": "timea",
                                    "Szállítási mód": "Személyes átvétel",
                                    "Ügyfelek száma": "18"
                                },
                                {
                                    "Felhasználónév": "timea",
                                    "Szállítási mód": "Részösszeg",
                                    "Ügyfelek száma": "55"
                                },
                                {
                                    "Felhasználónév": "timea2",
                                    "Szállítási mód": "GLS",
                                    "Ügyfelek száma": "1"
                                },
                                {
                                    "Felhasználónév": "timea2",
                                    "Szállítási mód": "Posta",
                                    "Ügyfelek száma": "5"
                                },
                                {
                                    "Felhasználónév": "timea2",
                                    "Szállítási mód": "Személyes átvétel",
                                    "Ügyfelek száma": "10"
                                },
                                {
                                    "Felhasználónév": "timea2",
                                    "Szállítási mód": "Részösszeg",
                                    "Ügyfelek száma": "16"
                                },
                                {
                                    "Felhasználónév": "tunde",
                                    "Szállítási mód": "GLS",
                                    "Ügyfelek száma": "6"
                                },
                                {
                                    "Felhasználónév": "tunde",
                                    "Szállítási mód": "Posta",
                                    "Ügyfelek száma": "6"
                                },
                                {
                                    "Felhasználónév": "tunde",
                                    "Szállítási mód": "Személyes átvétel",
                                    "Ügyfelek száma": "4"
                                },
                                {
                                    "Felhasználónév": "tunde",
                                    "Szállítási mód": "Részösszeg",
                                    "Ügyfelek száma": "16"
                                },
                                {
                                    "Felhasználónév": "valentin",
                                    "Szállítási mód": "GLS",
                                    "Ügyfelek száma": "5"
                                },
                                {
                                    "Felhasználónév": "valentin",
                                    "Szállítási mód": "Posta",
                                    "Ügyfelek száma": "5"
                                },
                                {
                                    "Felhasználónév": "valentin",
                                    "Szállítási mód": "Személyes átvétel",
                                    "Ügyfelek száma": "3"
                                },
                                {
                                    "Felhasználónév": "valentin",
                                    "Szállítási mód": "Részösszeg",
                                    "Ügyfelek száma": "13"
                                },
                                {
                                    "Felhasználónév": "veronika4",
                                    "Szállítási mód": "GLS",
                                    "Ügyfelek száma": "5"
                                },
                                {
                                    "Felhasználónév": "veronika4",
                                    "Szállítási mód": "Posta",
                                    "Ügyfelek száma": "6"
                                },
                                {
                                    "Felhasználónév": "veronika4",
                                    "Szállítási mód": "Személyes átvétel",
                                    "Ügyfelek száma": "7"
                                },
                                {
                                    "Felhasználónév": "veronika4",
                                    "Szállítási mód": "Részösszeg",
                                    "Ügyfelek száma": "18"
                                },
                                {
                                    "Felhasználónév": "VIKTORIAU",
                                    "Szállítási mód": "GLS",
                                    "Ügyfelek száma": "5"
                                },
                                {
                                    "Felhasználónév": "VIKTORIAU",
                                    "Szállítási mód": "Posta",
                                    "Ügyfelek száma": "4"
                                },
                                {
                                    "Felhasználónév": "VIKTORIAU",
                                    "Szállítási mód": "Személyes átvétel",
                                    "Ügyfelek száma": "5"
                                },
                                {
                                    "Felhasználónév": "VIKTORIAU",
                                    "Szállítási mód": "Részösszeg",
                                    "Ügyfelek száma": "14"
                                },
                                {
                                    "Felhasználónév": "VIKTORK",
                                    "Szállítási mód": "GLS",
                                    "Ügyfelek száma": "8"
                                },
                                {
                                    "Felhasználónév": "VIKTORK",
                                    "Szállítási mód": "Posta",
                                    "Ügyfelek száma": "6"
                                },
                                {
                                    "Felhasználónév": "VIKTORK",
                                    "Szállítási mód": "Személyes átvétel",
                                    "Ügyfelek száma": "6"
                                },
                                {
                                    "Felhasználónév": "VIKTORK",
                                    "Szállítási mód": "Részösszeg",
                                    "Ügyfelek száma": "20"
                                },
                                {
                                    "Felhasználónév": "vivien3",
                                    "Szállítási mód": "GLS",
                                    "Ügyfelek száma": "9"
                                },
                                {
                                    "Felhasználónév": "vivien3",
                                    "Szállítási mód": "Posta",
                                    "Ügyfelek száma": "6"
                                },
                                {
                                    "Felhasználónév": "vivien3",
                                    "Szállítási mód": "Személyes átvétel",
                                    "Ügyfelek száma": "7"
                                },
                                {
                                    "Felhasználónév": "vivien3",
                                    "Szállítási mód": "Részösszeg",
                                    "Ügyfelek száma": "22"
                                },
                                {
                                    "Felhasználónév": "zoltan",
                                    "Szállítási mód": "GLS",
                                    "Ügyfelek száma": "5"
                                },
                                {
                                    "Felhasználónév": "zoltan",
                                    "Szállítási mód": "Posta",
                                    "Ügyfelek száma": "3"
                                },
                                {
                                    "Felhasználónév": "zoltan",
                                    "Szállítási mód": "Személyes átvétel",
                                    "Ügyfelek száma": "7"
                                },
                                {
                                    "Felhasználónév": "zoltan",
                                    "Szállítási mód": "Részösszeg",
                                    "Ügyfelek száma": "15"
                                },
                                {
                                    "Felhasználónév": "zoltan4",
                                    "Szállítási mód": "GLS",
                                    "Ügyfelek száma": "129"
                                },
                                {
                                    "Felhasználónév": "zoltan4",
                                    "Szállítási mód": "Posta",
                                    "Ügyfelek száma": "124"
                                },
                                {
                                    "Felhasználónév": "zoltan4",
                                    "Szállítási mód": "Személyes átvétel",
                                    "Ügyfelek száma": "171"
                                },
                                {
                                    "Felhasználónév": "zoltan4",
                                    "Szállítási mód": "Részösszeg",
                                    "Ügyfelek száma": "424"
                                },
                                {
                                    "Felhasználónév": "ZOLTANP",
                                    "Szállítási mód": "GLS",
                                    "Ügyfelek száma": "6"
                                },
                                {
                                    "Felhasználónév": "ZOLTANP",
                                    "Szállítási mód": "Posta",
                                    "Ügyfelek száma": "3"
                                },
                                {
                                    "Felhasználónév": "ZOLTANP",
                                    "Szállítási mód": "Személyes átvétel",
                                    "Ügyfelek száma": "4"
                                },
                                {
                                    "Felhasználónév": "ZOLTANP",
                                    "Szállítási mód": "Részösszeg",
                                    "Ügyfelek száma": "13"
                                },
                                {
                                    "Felhasználónév": "ZOLTANT",
                                    "Szállítási mód": "GLS",
                                    "Ügyfelek száma": "127"
                                },
                                {
                                    "Felhasználónév": "ZOLTANT",
                                    "Szállítási mód": "Posta",
                                    "Ügyfelek száma": "107"
                                },
                                {
                                    "Felhasználónév": "ZOLTANT",
                                    "Szállítási mód": "Személyes átvétel",
                                    "Ügyfelek száma": "123"
                                },
                                {
                                    "Felhasználónév": "ZOLTANT",
                                    "Szállítási mód": "Részösszeg",
                                    "Ügyfelek száma": "357"
                                },
                                {
                                    "Felhasználónév": "zsofi1",
                                    "Szállítási mód": "GLS",
                                    "Ügyfelek száma": "7"
                                },
                                {
                                    "Felhasználónév": "zsofi1",
                                    "Szállítási mód": "Posta",
                                    "Ügyfelek száma": "6"
                                },
                                {
                                    "Felhasználónév": "zsofi1",
                                    "Szállítási mód": "Személyes átvétel",
                                    "Ügyfelek száma": "6"
                                },
                                {
                                    "Felhasználónév": "zsofi1",
                                    "Szállítási mód": "Részösszeg",
                                    "Ügyfelek száma": "19"
                                },
                                {
                                    "Felhasználónév": "zsolt1",
                                    "Szállítási mód": "GLS",
                                    "Ügyfelek száma": "11"
                                },
                                {
                                    "Felhasználónév": "zsolt1",
                                    "Szállítási mód": "Posta",
                                    "Ügyfelek száma": "6"
                                },
                                {
                                    "Felhasználónév": "zsolt1",
                                    "Szállítási mód": "Személyes átvétel",
                                    "Ügyfelek száma": "3"
                                },
                                {
                                    "Felhasználónév": "zsolt1",
                                    "Szállítási mód": "Részösszeg",
                                    "Ügyfelek száma": "20"
                                },
                                {
                                    "Felhasználónév": "ZSOLTJ",
                                    "Szállítási mód": "GLS",
                                    "Ügyfelek száma": "1"
                                },
                                {
                                    "Felhasználónév": "ZSOLTJ",
                                    "Szállítási mód": "Posta",
                                    "Ügyfelek száma": "8"
                                },
                                {
                                    "Felhasználónév": "ZSOLTJ",
                                    "Szállítási mód": "Személyes átvétel",
                                    "Ügyfelek száma": "9"
                                },
                                {
                                    "Felhasználónév": "ZSOLTJ",
                                    "Szállítási mód": "Részösszeg",
                                    "Ügyfelek száma": "18"
                                },
                                {
                                    "Felhasználónév": "zsuzsa",
                                    "Szállítási mód": "GLS",
                                    "Ügyfelek száma": "8"
                                },
                                {
                                    "Felhasználónév": "zsuzsa",
                                    "Szállítási mód": "Posta",
                                    "Ügyfelek száma": "5"
                                },
                                {
                                    "Felhasználónév": "zsuzsa",
                                    "Szállítási mód": "Személyes átvétel",
                                    "Ügyfelek száma": "3"
                                },
                                {
                                    "Felhasználónév": "zsuzsa",
                                    "Szállítási mód": "Részösszeg",
                                    "Ügyfelek száma": "16"
                                },
                                {
                                    "Felhasználónév": "zsuzsa3",
                                    "Szállítási mód": "GLS",
                                    "Ügyfelek száma": "5"
                                },
                                {
                                    "Felhasználónév": "zsuzsa3",
                                    "Szállítási mód": "Posta",
                                    "Ügyfelek száma": "5"
                                },
                                {
                                    "Felhasználónév": "zsuzsa3",
                                    "Szállítási mód": "Személyes átvétel",
                                    "Ügyfelek száma": "6"
                                },
                                {
                                    "Felhasználónév": "zsuzsa3",
                                    "Szállítási mód": "Részösszeg",
                                    "Ügyfelek száma": "16"
                                },
                                {
                                    "Felhasználónév": "zsuzsanna",
                                    "Szállítási mód": "GLS",
                                    "Ügyfelek száma": "7"
                                },
                                {
                                    "Felhasználónév": "zsuzsanna",
                                    "Szállítási mód": "Posta",
                                    "Ügyfelek száma": "5"
                                },
                                {
                                    "Felhasználónév": "zsuzsanna",
                                    "Szállítási mód": "Személyes átvétel",
                                    "Ügyfelek száma": "3"
                                },
                                {
                                    "Felhasználónév": "zsuzsanna",
                                    "Szállítási mód": "Részösszeg",
                                    "Ügyfelek száma": "15"
                                },
                                {
                                    "Felhasználónév": "ZSUZSAV",
                                    "Szállítási mód": "GLS",
                                    "Ügyfelek száma": "139"
                                },
                                {
                                    "Felhasználónév": "ZSUZSAV",
                                    "Szállítási mód": "Posta",
                                    "Ügyfelek száma": "139"
                                },
                                {
                                    "Felhasználónév": "ZSUZSAV",
                                    "Szállítási mód": "Személyes átvétel",
                                    "Ügyfelek száma": "142"
                                },
                                {
                                    "Felhasználónév": "ZSUZSAV",
                                    "Szállítási mód": "Részösszeg",
                                    "Ügyfelek száma": "420"
                                },
                                {
                                    "Felhasználónév": "Végösszeg",
                                    "Szállítási mód": "Végösszeg",
                                    "Ügyfelek száma": "28085"
                                }
                            ]
                        },
                        "text/html": [
                            "<table>",
                            "<tr><th>Felhasználónév</th><th>Szállítási mód</th><th>Ügyfelek száma</th></tr>",
                            "<tr><td>adam1</td><td>GLS</td><td>129</td></tr>",
                            "<tr><td>adam1</td><td>Posta</td><td>132</td></tr>",
                            "<tr><td>adam1</td><td>Személyes átvétel</td><td>131</td></tr>",
                            "<tr><td>adam1</td><td>Részösszeg</td><td>392</td></tr>",
                            "<tr><td>adam3</td><td>GLS</td><td>10</td></tr>",
                            "<tr><td>adam3</td><td>Posta</td><td>3</td></tr>",
                            "<tr><td>adam3</td><td>Személyes átvétel</td><td>2</td></tr>",
                            "<tr><td>adam3</td><td>Részösszeg</td><td>15</td></tr>",
                            "<tr><td>adam4</td><td>GLS</td><td>12</td></tr>",
                            "<tr><td>adam4</td><td>Posta</td><td>6</td></tr>",
                            "<tr><td>adam4</td><td>Személyes átvétel</td><td>11</td></tr>",
                            "<tr><td>adam4</td><td>Részösszeg</td><td>29</td></tr>",
                            "<tr><td>agnes</td><td>GLS</td><td>144</td></tr>",
                            "<tr><td>agnes</td><td>Posta</td><td>130</td></tr>",
                            "<tr><td>agnes</td><td>Személyes átvétel</td><td>144</td></tr>",
                            "<tr><td>agnes</td><td>Részösszeg</td><td>418</td></tr>",
                            "<tr><td>agnes3</td><td>GLS</td><td>148</td></tr>",
                            "<tr><td>agnes3</td><td>Posta</td><td>146</td></tr>",
                            "<tr><td>agnes3</td><td>Személyes átvétel</td><td>136</td></tr>",
                            "<tr><td>agnes3</td><td>Részösszeg</td><td>430</td></tr>",
                            "<tr><td>AGNESH</td><td>GLS</td><td>2</td></tr>",
                            "<tr><td>AGNESH</td><td>Posta</td><td>3</td></tr>",
                            "<tr><td>AGNESH</td><td>Személyes átvétel</td><td>6</td></tr>",
                            "<tr><td>AGNESH</td><td>Részösszeg</td><td>11</td></tr>",
                            "<tr><td>AGNESK</td><td>GLS</td><td>1</td></tr>",
                            "<tr><td>AGNESK</td><td>Posta</td><td>7</td></tr>",
                            "<tr><td>AGNESK</td><td>Személyes átvétel</td><td>7</td></tr>",
                            "<tr><td>AGNESK</td><td>Részösszeg</td><td>15</td></tr>",
                            "<tr><td>akos</td><td>GLS</td><td>146</td></tr>",
                            "<tr><td>akos</td><td>Posta</td><td>143</td></tr>",
                            "<tr><td>akos</td><td>Személyes átvétel</td><td>140</td></tr>",
                            "<tr><td>akos</td><td>Részösszeg</td><td>429</td></tr>",
                            "<tr><td>aladar</td><td>GLS</td><td>156</td></tr>",
                            "<tr><td>aladar</td><td>Posta</td><td>134</td></tr>",
                            "<tr><td>aladar</td><td>Személyes átvétel</td><td>118</td></tr>",
                            "<tr><td>aladar</td><td>Részösszeg</td><td>408</td></tr>",
                            "<tr><td>alexandra</td><td>GLS</td><td>5</td></tr>",
                            "<tr><td>alexandra</td><td>Posta</td><td>9</td></tr>",
                            "<tr><td>alexandra</td><td>Személyes átvétel</td><td>5</td></tr>",
                            "<tr><td>alexandra</td><td>Részösszeg</td><td>19</td></tr>",
                            "<tr><td>andi</td><td>GLS</td><td>7</td></tr>",
                            "<tr><td>andi</td><td>Posta</td><td>4</td></tr>",
                            "<tr><td>andi</td><td>Személyes átvétel</td><td>7</td></tr>",
                            "<tr><td>andi</td><td>Részösszeg</td><td>18</td></tr>",
                            "<tr><td>andras2</td><td>GLS</td><td>4</td></tr>",
                            "<tr><td>andras2</td><td>Posta</td><td>7</td></tr>",
                            "<tr><td>andras2</td><td>Személyes átvétel</td><td>11</td></tr>",
                            "<tr><td>andras2</td><td>Részösszeg</td><td>22</td></tr>",
                            "<tr><td>andras21</td><td>GLS</td><td>140</td></tr>",
                            "<tr><td>andras21</td><td>Posta</td><td>124</td></tr>",
                            "<tr><td>andras21</td><td>Személyes átvétel</td><td>126</td></tr>",
                            "<tr><td>andras21</td><td>Részösszeg</td><td>390</td></tr>",
                            "<tr><td>andras3</td><td>GLS</td><td>3</td></tr>",
                            "<tr><td>andras3</td><td>Posta</td><td>1</td></tr>",
                            "<tr><td>andras3</td><td>Személyes átvétel</td><td>5</td></tr>",
                            "<tr><td>andras3</td><td>Részösszeg</td><td>9</td></tr>",
                            "<tr><td>andras4</td><td>GLS</td><td>4</td></tr>",
                            "<tr><td>andras4</td><td>Posta</td><td>4</td></tr>",
                            "<tr><td>andras4</td><td>Személyes átvétel</td><td>4</td></tr>",
                            "<tr><td>andras4</td><td>Részösszeg</td><td>12</td></tr>",
                            "<tr><td>andras41</td><td>GLS</td><td>149</td></tr>",
                            "<tr><td>andras41</td><td>Posta</td><td>137</td></tr>",
                            "<tr><td>andras41</td><td>Személyes átvétel</td><td>133</td></tr>",
                            "<tr><td>andras41</td><td>Részösszeg</td><td>419</td></tr>",
                            "<tr><td>ANDRASE</td><td>GLS</td><td>159</td></tr>",
                            "<tr><td>ANDRASE</td><td>Posta</td><td>141</td></tr>",
                            "<tr><td>ANDRASE</td><td>Személyes átvétel</td><td>136</td></tr>",
                            "<tr><td>ANDRASE</td><td>Részösszeg</td><td>436</td></tr>",
                            "<tr><td>ANDRASN</td><td>GLS</td><td>10</td></tr>",
                            "<tr><td>ANDRASN</td><td>Posta</td><td>9</td></tr>",
                            "<tr><td>ANDRASN</td><td>Személyes átvétel</td><td>5</td></tr>",
                            "<tr><td>ANDRASN</td><td>Részösszeg</td><td>24</td></tr>",
                            "<tr><td>andrea</td><td>GLS</td><td>12</td></tr>",
                            "<tr><td>andrea</td><td>Posta</td><td>4</td></tr>",
                            "<tr><td>andrea</td><td>Személyes átvétel</td><td>8</td></tr>",
                            "<tr><td>andrea</td><td>Részösszeg</td><td>24</td></tr>",
                            "<tr><td>andrea3</td><td>GLS</td><td>131</td></tr>",
                            "<tr><td>andrea3</td><td>Posta</td><td>136</td></tr>",
                            "<tr><td>andrea3</td><td>Személyes átvétel</td><td>146</td></tr>",
                            "<tr><td>andrea3</td><td>Részösszeg</td><td>413</td></tr>",
                            "<tr><td>andrea4</td><td>GLS</td><td>7</td></tr>",
                            "<tr><td>andrea4</td><td>Posta</td><td>4</td></tr>",
                            "<tr><td>andrea4</td><td>Személyes átvétel</td><td>7</td></tr>",
                            "<tr><td>andrea4</td><td>Részösszeg</td><td>18</td></tr>",
                            "<tr><td>ANDREAT</td><td>GLS</td><td>3</td></tr>",
                            "<tr><td>ANDREAT</td><td>Posta</td><td>6</td></tr>",
                            "<tr><td>ANDREAT</td><td>Személyes átvétel</td><td>12</td></tr>",
                            "<tr><td>ANDREAT</td><td>Részösszeg</td><td>21</td></tr>",
                            "<tr><td>anett3</td><td>GLS</td><td>3</td></tr>",
                            "<tr><td>anett3</td><td>Posta</td><td>6</td></tr>",
                            "<tr><td>anett3</td><td>Személyes átvétel</td><td>9</td></tr>",
                            "<tr><td>anett3</td><td>Részösszeg</td><td>18</td></tr>",
                            "<tr><td>aniko</td><td>GLS</td><td>128</td></tr>",
                            "<tr><td>aniko</td><td>Posta</td><td>137</td></tr>",
                            "<tr><td>aniko</td><td>Személyes átvétel</td><td>138</td></tr>",
                            "<tr><td>aniko</td><td>Részösszeg</td><td>403</td></tr>",
                            "<tr><td>aniko4</td><td>GLS</td><td>6</td></tr>",
                            "<tr><td>aniko4</td><td>Posta</td><td>6</td></tr>",
                            "<tr><td>aniko4</td><td>Személyes átvétel</td><td>3</td></tr>",
                            "<tr><td>aniko4</td><td>Részösszeg</td><td>15</td></tr>",
                            "<tr><td>ANIKOS</td><td>GLS</td><td>128</td></tr>",
                            "<tr><td>ANIKOS</td><td>Posta</td><td>126</td></tr>",
                            "<tr><td>ANIKOS</td><td>Személyes átvétel</td><td>150</td></tr>",
                            "<tr><td>ANIKOS</td><td>Részösszeg</td><td>404</td></tr>",
                            "<tr><td>anita</td><td>GLS</td><td>5</td></tr>",
                            "<tr><td>anita</td><td>Posta</td><td>2</td></tr>",
                            "<tr><td>anita</td><td>Személyes átvétel</td><td>5</td></tr>",
                            "<tr><td>anita</td><td>Részösszeg</td><td>12</td></tr>",
                            "<tr><td>annamaria1</td><td>GLS</td><td>5</td></tr>",
                            "<tr><td>annamaria1</td><td>Posta</td><td>4</td></tr>",
                            "<tr><td>annamaria1</td><td>Személyes átvétel</td><td>7</td></tr>",
                            "<tr><td>annamaria1</td><td>Részösszeg</td><td>16</td></tr>",
                            "<tr><td>ANNAMARIAR</td><td>GLS</td><td>8</td></tr>",
                            "<tr><td>ANNAMARIAR</td><td>Posta</td><td>2</td></tr>",
                            "<tr><td>ANNAMARIAR</td><td>Személyes átvétel</td><td>3</td></tr>",
                            "<tr><td>ANNAMARIAR</td><td>Részösszeg</td><td>13</td></tr>",
                            "<tr><td>aron2</td><td>GLS</td><td>132</td></tr>",
                            "<tr><td>aron2</td><td>Posta</td><td>133</td></tr>",
                            "<tr><td>aron2</td><td>Személyes átvétel</td><td>144</td></tr>",
                            "<tr><td>aron2</td><td>Részösszeg</td><td>409</td></tr>",
                            "<tr><td>ARONK</td><td>GLS</td><td>155</td></tr>",
                            "<tr><td>ARONK</td><td>Posta</td><td>120</td></tr>",
                            "<tr><td>ARONK</td><td>Személyes átvétel</td><td>155</td></tr>",
                            "<tr><td>ARONK</td><td>Részösszeg</td><td>430</td></tr>",
                            "<tr><td>arpad2</td><td>GLS</td><td>6</td></tr>",
                            "<tr><td>arpad2</td><td>Posta</td><td>1</td></tr>",
                            "<tr><td>arpad2</td><td>Személyes átvétel</td><td>10</td></tr>",
                            "<tr><td>arpad2</td><td>Részösszeg</td><td>17</td></tr>",
                            "<tr><td>ARPADH</td><td>GLS</td><td>6</td></tr>",
                            "<tr><td>ARPADH</td><td>Posta</td><td>3</td></tr>",
                            "<tr><td>ARPADH</td><td>Személyes átvétel</td><td>5</td></tr>",
                            "<tr><td>ARPADH</td><td>Részösszeg</td><td>14</td></tr>",
                            "<tr><td>ARPADM</td><td>GLS</td><td>6</td></tr>",
                            "<tr><td>ARPADM</td><td>Posta</td><td>3</td></tr>",
                            "<tr><td>ARPADM</td><td>Személyes átvétel</td><td>7</td></tr>",
                            "<tr><td>ARPADM</td><td>Részösszeg</td><td>16</td></tr>",
                            "<tr><td>attila1</td><td>GLS</td><td>5</td></tr>",
                            "<tr><td>attila1</td><td>Posta</td><td>7</td></tr>",
                            "<tr><td>attila1</td><td>Személyes átvétel</td><td>6</td></tr>",
                            "<tr><td>attila1</td><td>Részösszeg</td><td>18</td></tr>",
                            "<tr><td>attila4</td><td>GLS</td><td>135</td></tr>",
                            "<tr><td>attila4</td><td>Posta</td><td>125</td></tr>",
                            "<tr><td>attila4</td><td>Személyes átvétel</td><td>141</td></tr>",
                            "<tr><td>attila4</td><td>Részösszeg</td><td>401</td></tr>",
                            "<tr><td>ATTILAO</td><td>GLS</td><td>4</td></tr>",
                            "<tr><td>ATTILAO</td><td>Posta</td><td>4</td></tr>",
                            "<tr><td>ATTILAO</td><td>Személyes átvétel</td><td>6</td></tr>",
                            "<tr><td>ATTILAO</td><td>Részösszeg</td><td>14</td></tr>",
                            "<tr><td>balazs1</td><td>GLS</td><td>128</td></tr>",
                            "<tr><td>balazs1</td><td>Posta</td><td>136</td></tr>",
                            "<tr><td>balazs1</td><td>Személyes átvétel</td><td>155</td></tr>",
                            "<tr><td>balazs1</td><td>Részösszeg</td><td>419</td></tr>",
                            "<tr><td>balazs2</td><td>GLS</td><td>5</td></tr>",
                            "<tr><td>balazs2</td><td>Posta</td><td>7</td></tr>",
                            "<tr><td>balazs2</td><td>Személyes átvétel</td><td>5</td></tr>",
                            "<tr><td>balazs2</td><td>Részösszeg</td><td>17</td></tr>",
                            "<tr><td>balazs3</td><td>GLS</td><td>6</td></tr>",
                            "<tr><td>balazs3</td><td>Posta</td><td>6</td></tr>",
                            "<tr><td>balazs3</td><td>Személyes átvétel</td><td>3</td></tr>",
                            "<tr><td>balazs3</td><td>Részösszeg</td><td>15</td></tr>",
                            "<tr><td>balint</td><td>GLS</td><td>10</td></tr>",
                            "<tr><td>balint</td><td>Posta</td><td>4</td></tr>",
                            "<tr><td>balint</td><td>Személyes átvétel</td><td>2</td></tr>",
                            "<tr><td>balint</td><td>Részösszeg</td><td>16</td></tr>",
                            "<tr><td>balint1</td><td>GLS</td><td>158</td></tr>",
                            "<tr><td>balint1</td><td>Posta</td><td>152</td></tr>",
                            "<tr><td>balint1</td><td>Személyes átvétel</td><td>152</td></tr>",
                            "<tr><td>balint1</td><td>Részösszeg</td><td>462</td></tr>",
                            "<tr><td>balint2</td><td>GLS</td><td>8</td></tr>",
                            "<tr><td>balint2</td><td>Posta</td><td>6</td></tr>",
                            "<tr><td>balint2</td><td>Személyes átvétel</td><td>3</td></tr>",
                            "<tr><td>balint2</td><td>Részösszeg</td><td>17</td></tr>",
                            "<tr><td>balu</td><td>GLS</td><td>127</td></tr>",
                            "<tr><td>balu</td><td>Posta</td><td>137</td></tr>",
                            "<tr><td>balu</td><td>Személyes átvétel</td><td>123</td></tr>",
                            "<tr><td>balu</td><td>Részösszeg</td><td>387</td></tr>",
                            "<tr><td>BEATRIXK</td><td>GLS</td><td>135</td></tr>",
                            "<tr><td>BEATRIXK</td><td>Posta</td><td>155</td></tr>",
                            "<tr><td>BEATRIXK</td><td>Személyes átvétel</td><td>145</td></tr>",
                            "<tr><td>BEATRIXK</td><td>Részösszeg</td><td>435</td></tr>",
                            "<tr><td>BEATRIXS</td><td>GLS</td><td>146</td></tr>",
                            "<tr><td>BEATRIXS</td><td>Posta</td><td>141</td></tr>",
                            "<tr><td>BEATRIXS</td><td>Személyes átvétel</td><td>133</td></tr>",
                            "<tr><td>BEATRIXS</td><td>Részösszeg</td><td>420</td></tr>",
                            "<tr><td>BELAF</td><td>GLS</td><td>11</td></tr>",
                            "<tr><td>BELAF</td><td>Posta</td><td>2</td></tr>",
                            "<tr><td>BELAF</td><td>Személyes átvétel</td><td>5</td></tr>",
                            "<tr><td>BELAF</td><td>Részösszeg</td><td>18</td></tr>",
                            "<tr><td>bence</td><td>GLS</td><td>4</td></tr>",
                            "<tr><td>bence</td><td>Posta</td><td>6</td></tr>",
                            "<tr><td>bence</td><td>Személyes átvétel</td><td>8</td></tr>",
                            "<tr><td>bence</td><td>Részösszeg</td><td>18</td></tr>",
                            "<tr><td>BENCEB</td><td>GLS</td><td>5</td></tr>",
                            "<tr><td>BENCEB</td><td>Posta</td><td>7</td></tr>",
                            "<tr><td>BENCEB</td><td>Személyes átvétel</td><td>5</td></tr>",
                            "<tr><td>BENCEB</td><td>Részösszeg</td><td>17</td></tr>",
                            "<tr><td>bernadett1</td><td>GLS</td><td>10</td></tr>",
                            "<tr><td>bernadett1</td><td>Posta</td><td>5</td></tr>",
                            "<tr><td>bernadett1</td><td>Személyes átvétel</td><td>5</td></tr>",
                            "<tr><td>bernadett1</td><td>Részösszeg</td><td>20</td></tr>",
                            "<tr><td>bernadett2</td><td>GLS</td><td>6</td></tr>",
                            "<tr><td>bernadett2</td><td>Posta</td><td>2</td></tr>",
                            "<tr><td>bernadett2</td><td>Személyes átvétel</td><td>7</td></tr>",
                            "<tr><td>bernadett2</td><td>Részösszeg</td><td>15</td></tr>",
                            "<tr><td>BERNADETTO</td><td>GLS</td><td>7</td></tr>",
                            "<tr><td>BERNADETTO</td><td>Posta</td><td>2</td></tr>",
                            "<tr><td>BERNADETTO</td><td>Személyes átvétel</td><td>7</td></tr>",
                            "<tr><td>BERNADETTO</td><td>Részösszeg</td><td>16</td></tr>",
                            "<tr><td>bertalan</td><td>GLS</td><td>128</td></tr>",
                            "<tr><td>bertalan</td><td>Posta</td><td>124</td></tr>",
                            "<tr><td>bertalan</td><td>Személyes átvétel</td><td>101</td></tr>",
                            "<tr><td>bertalan</td><td>Részösszeg</td><td>353</td></tr>",
                            "<tr><td>brigitta</td><td>GLS</td><td>137</td></tr>",
                            "<tr><td>brigitta</td><td>Posta</td><td>137</td></tr>",
                            "<tr><td>brigitta</td><td>Személyes átvétel</td><td>119</td></tr>",
                            "<tr><td>brigitta</td><td>Részösszeg</td><td>393</td></tr>",
                            "<tr><td>brigitta3</td><td>GLS</td><td>144</td></tr>",
                            "<tr><td>brigitta3</td><td>Posta</td><td>130</td></tr>",
                            "<tr><td>brigitta3</td><td>Személyes átvétel</td><td>139</td></tr>",
                            "<tr><td>brigitta3</td><td>Részösszeg</td><td>413</td></tr>",
                            "<tr><td>csongor3</td><td>GLS</td><td>5</td></tr>",
                            "<tr><td>csongor3</td><td>Posta</td><td>2</td></tr>",
                            "<tr><td>csongor3</td><td>Személyes átvétel</td><td>8</td></tr>",
                            "<tr><td>csongor3</td><td>Részösszeg</td><td>15</td></tr>",
                            "<tr><td>dani</td><td>GLS</td><td>5</td></tr>",
                            "<tr><td>dani</td><td>Személyes átvétel</td><td>8</td></tr>",
                            "<tr><td>dani</td><td>Részösszeg</td><td>13</td></tr>",
                            "<tr><td>daniel</td><td>GLS</td><td>7</td></tr>",
                            "<tr><td>daniel</td><td>Posta</td><td>2</td></tr>",
                            "<tr><td>daniel</td><td>Személyes átvétel</td><td>4</td></tr>",
                            "<tr><td>daniel</td><td>Részösszeg</td><td>13</td></tr>",
                            "<tr><td>daniel1</td><td>GLS</td><td>156</td></tr>",
                            "<tr><td>daniel1</td><td>Posta</td><td>131</td></tr>",
                            "<tr><td>daniel1</td><td>Személyes átvétel</td><td>132</td></tr>",
                            "<tr><td>daniel1</td><td>Részösszeg</td><td>419</td></tr>",
                            "<tr><td>david</td><td>GLS</td><td>161</td></tr>",
                            "<tr><td>david</td><td>Posta</td><td>144</td></tr>",
                            "<tr><td>david</td><td>Személyes átvétel</td><td>146</td></tr>",
                            "<tr><td>david</td><td>Részösszeg</td><td>451</td></tr>",
                            "<tr><td>david1</td><td>GLS</td><td>8</td></tr>",
                            "<tr><td>david1</td><td>Posta</td><td>1</td></tr>",
                            "<tr><td>david1</td><td>Személyes átvétel</td><td>8</td></tr>",
                            "<tr><td>david1</td><td>Részösszeg</td><td>17</td></tr>",
                            "<tr><td>david4</td><td>GLS</td><td>3</td></tr>",
                            "<tr><td>david4</td><td>Posta</td><td>8</td></tr>",
                            "<tr><td>david4</td><td>Személyes átvétel</td><td>10</td></tr>",
                            "<tr><td>david4</td><td>Részösszeg</td><td>21</td></tr>",
                            "<tr><td>debora</td><td>GLS</td><td>7</td></tr>",
                            "<tr><td>debora</td><td>Posta</td><td>6</td></tr>",
                            "<tr><td>debora</td><td>Személyes átvétel</td><td>3</td></tr>",
                            "<tr><td>debora</td><td>Részösszeg</td><td>16</td></tr>",
                            "<tr><td>denes</td><td>GLS</td><td>3</td></tr>",
                            "<tr><td>denes</td><td>Posta</td><td>2</td></tr>",
                            "<tr><td>denes</td><td>Személyes átvétel</td><td>4</td></tr>",
                            "<tr><td>denes</td><td>Részösszeg</td><td>9</td></tr>",
                            "<tr><td>dora3</td><td>GLS</td><td>144</td></tr>",
                            "<tr><td>dora3</td><td>Posta</td><td>124</td></tr>",
                            "<tr><td>dora3</td><td>Személyes átvétel</td><td>164</td></tr>",
                            "<tr><td>dora3</td><td>Részösszeg</td><td>432</td></tr>",
                            "<tr><td>edit</td><td>GLS</td><td>7</td></tr>",
                            "<tr><td>edit</td><td>Posta</td><td>2</td></tr>",
                            "<tr><td>edit</td><td>Személyes átvétel</td><td>4</td></tr>",
                            "<tr><td>edit</td><td>Részösszeg</td><td>13</td></tr>",
                            "<tr><td>emese</td><td>GLS</td><td>128</td></tr>",
                            "<tr><td>emese</td><td>Posta</td><td>136</td></tr>",
                            "<tr><td>emese</td><td>Személyes átvétel</td><td>142</td></tr>",
                            "<tr><td>emese</td><td>Részösszeg</td><td>406</td></tr>",
                            "<tr><td>eszter2</td><td>GLS</td><td>127</td></tr>",
                            "<tr><td>eszter2</td><td>Posta</td><td>136</td></tr>",
                            "<tr><td>eszter2</td><td>Személyes átvétel</td><td>152</td></tr>",
                            "<tr><td>eszter2</td><td>Részösszeg</td><td>415</td></tr>",
                            "<tr><td>eszter4</td><td>GLS</td><td>141</td></tr>",
                            "<tr><td>eszter4</td><td>Posta</td><td>134</td></tr>",
                            "<tr><td>eszter4</td><td>Személyes átvétel</td><td>149</td></tr>",
                            "<tr><td>eszter4</td><td>Részösszeg</td><td>424</td></tr>",
                            "<tr><td>ESZTERE</td><td>GLS</td><td>6</td></tr>",
                            "<tr><td>ESZTERE</td><td>Posta</td><td>9</td></tr>",
                            "<tr><td>ESZTERE</td><td>Személyes átvétel</td><td>7</td></tr>",
                            "<tr><td>ESZTERE</td><td>Részösszeg</td><td>22</td></tr>",
                            "<tr><td>eva</td><td>GLS</td><td>125</td></tr>",
                            "<tr><td>eva</td><td>Posta</td><td>140</td></tr>",
                            "<tr><td>eva</td><td>Személyes átvétel</td><td>139</td></tr>",
                            "<tr><td>eva</td><td>Részösszeg</td><td>404</td></tr>",
                            "<tr><td>eva2</td><td>GLS</td><td>154</td></tr>",
                            "<tr><td>eva2</td><td>Posta</td><td>138</td></tr>",
                            "<tr><td>eva2</td><td>Személyes átvétel</td><td>170</td></tr>",
                            "<tr><td>eva2</td><td>Részösszeg</td><td>462</td></tr>",
                            "<tr><td>EVAV</td><td>GLS</td><td>2</td></tr>",
                            "<tr><td>EVAV</td><td>Posta</td><td>1</td></tr>",
                            "<tr><td>EVAV</td><td>Személyes átvétel</td><td>4</td></tr>",
                            "<tr><td>EVAV</td><td>Részösszeg</td><td>7</td></tr>",
                            "<tr><td>ferenc1</td><td>GLS</td><td>144</td></tr>",
                            "<tr><td>ferenc1</td><td>Posta</td><td>158</td></tr>",
                            "<tr><td>ferenc1</td><td>Személyes átvétel</td><td>135</td></tr>",
                            "<tr><td>ferenc1</td><td>Részösszeg</td><td>437</td></tr>",
                            "<tr><td>fruzsina4</td><td>GLS</td><td>8</td></tr>",
                            "<tr><td>fruzsina4</td><td>Posta</td><td>3</td></tr>",
                            "<tr><td>fruzsina4</td><td>Személyes átvétel</td><td>7</td></tr>",
                            "<tr><td>fruzsina4</td><td>Részösszeg</td><td>18</td></tr>",
                            "<tr><td>gabor1</td><td>GLS</td><td>9</td></tr>",
                            "<tr><td>gabor1</td><td>Posta</td><td>5</td></tr>",
                            "<tr><td>gabor1</td><td>Személyes átvétel</td><td>5</td></tr>",
                            "<tr><td>gabor1</td><td>Részösszeg</td><td>19</td></tr>",
                            "<tr><td>gabor4</td><td>GLS</td><td>7</td></tr>",
                            "<tr><td>gabor4</td><td>Posta</td><td>9</td></tr>",
                            "<tr><td>gabor4</td><td>Személyes átvétel</td><td>4</td></tr>",
                            "<tr><td>gabor4</td><td>Részösszeg</td><td>20</td></tr>",
                            "<tr><td>GABORS</td><td>GLS</td><td>5</td></tr>",
                            "<tr><td>GABORS</td><td>Posta</td><td>6</td></tr>",
                            "<tr><td>GABORS</td><td>Személyes átvétel</td><td>4</td></tr>",
                            "<tr><td>GABORS</td><td>Részösszeg</td><td>15</td></tr>",
                            "<tr><td>gabriella1</td><td>GLS</td><td>5</td></tr>",
                            "<tr><td>gabriella1</td><td>Posta</td><td>4</td></tr>",
                            "<tr><td>gabriella1</td><td>Személyes átvétel</td><td>5</td></tr>",
                            "<tr><td>gabriella1</td><td>Részösszeg</td><td>14</td></tr>",
                            "<tr><td>gabriella10</td><td>GLS</td><td>4</td></tr>",
                            "<tr><td>gabriella10</td><td>Posta</td><td>5</td></tr>",
                            "<tr><td>gabriella10</td><td>Személyes átvétel</td><td>7</td></tr>",
                            "<tr><td>gabriella10</td><td>Részösszeg</td><td>16</td></tr>",
                            "<tr><td>georgij</td><td>GLS</td><td>9</td></tr>",
                            "<tr><td>georgij</td><td>Posta</td><td>2</td></tr>",
                            "<tr><td>georgij</td><td>Személyes átvétel</td><td>10</td></tr>",
                            "<tr><td>georgij</td><td>Részösszeg</td><td>21</td></tr>",
                            "<tr><td>gusztav</td><td>GLS</td><td>5</td></tr>",
                            "<tr><td>gusztav</td><td>Posta</td><td>4</td></tr>",
                            "<tr><td>gusztav</td><td>Személyes átvétel</td><td>5</td></tr>",
                            "<tr><td>gusztav</td><td>Részösszeg</td><td>14</td></tr>",
                            "<tr><td>GYONGYIK</td><td>GLS</td><td>6</td></tr>",
                            "<tr><td>GYONGYIK</td><td>Posta</td><td>6</td></tr>",
                            "<tr><td>GYONGYIK</td><td>Személyes átvétel</td><td>3</td></tr>",
                            "<tr><td>GYONGYIK</td><td>Részösszeg</td><td>15</td></tr>",
                            "<tr><td>GYORGYO</td><td>GLS</td><td>7</td></tr>",
                            "<tr><td>GYORGYO</td><td>Posta</td><td>4</td></tr>",
                            "<tr><td>GYORGYO</td><td>Személyes átvétel</td><td>5</td></tr>",
                            "<tr><td>GYORGYO</td><td>Részösszeg</td><td>16</td></tr>",
                            "<tr><td>henrik3</td><td>GLS</td><td>7</td></tr>",
                            "<tr><td>henrik3</td><td>Posta</td><td>4</td></tr>",
                            "<tr><td>henrik3</td><td>Személyes átvétel</td><td>5</td></tr>",
                            "<tr><td>henrik3</td><td>Részösszeg</td><td>16</td></tr>",
                            "<tr><td>IBOLYAA</td><td>GLS</td><td>140</td></tr>",
                            "<tr><td>IBOLYAA</td><td>Posta</td><td>125</td></tr>",
                            "<tr><td>IBOLYAA</td><td>Személyes átvétel</td><td>157</td></tr>",
                            "<tr><td>IBOLYAA</td><td>Részösszeg</td><td>422</td></tr>",
                            "<tr><td>ilona3</td><td>GLS</td><td>9</td></tr>",
                            "<tr><td>ilona3</td><td>Posta</td><td>2</td></tr>",
                            "<tr><td>ilona3</td><td>Személyes átvétel</td><td>7</td></tr>",
                            "<tr><td>ilona3</td><td>Részösszeg</td><td>18</td></tr>",
                            "<tr><td>imre</td><td>GLS</td><td>5</td></tr>",
                            "<tr><td>imre</td><td>Posta</td><td>4</td></tr>",
                            "<tr><td>imre</td><td>Személyes átvétel</td><td>6</td></tr>",
                            "<tr><td>imre</td><td>Részösszeg</td><td>15</td></tr>",
                            "<tr><td>imre1</td><td>GLS</td><td>8</td></tr>",
                            "<tr><td>imre1</td><td>Posta</td><td>4</td></tr>",
                            "<tr><td>imre1</td><td>Személyes átvétel</td><td>3</td></tr>",
                            "<tr><td>imre1</td><td>Részösszeg</td><td>15</td></tr>",
                            "<tr><td>istvan</td><td>GLS</td><td>3</td></tr>",
                            "<tr><td>istvan</td><td>Posta</td><td>4</td></tr>",
                            "<tr><td>istvan</td><td>Személyes átvétel</td><td>4</td></tr>",
                            "<tr><td>istvan</td><td>Részösszeg</td><td>11</td></tr>",
                            "<tr><td>istvan1</td><td>GLS</td><td>8</td></tr>",
                            "<tr><td>istvan1</td><td>Posta</td><td>4</td></tr>",
                            "<tr><td>istvan1</td><td>Személyes átvétel</td><td>7</td></tr>",
                            "<tr><td>istvan1</td><td>Részösszeg</td><td>19</td></tr>",
                            "<tr><td>ISTVANV</td><td>GLS</td><td>4</td></tr>",
                            "<tr><td>ISTVANV</td><td>Posta</td><td>9</td></tr>",
                            "<tr><td>ISTVANV</td><td>Személyes átvétel</td><td>8</td></tr>",
                            "<tr><td>ISTVANV</td><td>Részösszeg</td><td>21</td></tr>",
                            "<tr><td>janos3</td><td>GLS</td><td>5</td></tr>",
                            "<tr><td>janos3</td><td>Posta</td><td>2</td></tr>",
                            "<tr><td>janos3</td><td>Személyes átvétel</td><td>6</td></tr>",
                            "<tr><td>janos3</td><td>Részösszeg</td><td>13</td></tr>",
                            "<tr><td>JANOSG</td><td>GLS</td><td>3</td></tr>",
                            "<tr><td>JANOSG</td><td>Posta</td><td>3</td></tr>",
                            "<tr><td>JANOSG</td><td>Személyes átvétel</td><td>4</td></tr>",
                            "<tr><td>JANOSG</td><td>Részösszeg</td><td>10</td></tr>",
                            "<tr><td>JANOSP</td><td>GLS</td><td>7</td></tr>",
                            "<tr><td>JANOSP</td><td>Posta</td><td>7</td></tr>",
                            "<tr><td>JANOSP</td><td>Személyes átvétel</td><td>3</td></tr>",
                            "<tr><td>JANOSP</td><td>Részösszeg</td><td>17</td></tr>",
                            "<tr><td>jozsef</td><td>GLS</td><td>116</td></tr>",
                            "<tr><td>jozsef</td><td>Posta</td><td>132</td></tr>",
                            "<tr><td>jozsef</td><td>Személyes átvétel</td><td>134</td></tr>",
                            "<tr><td>jozsef</td><td>Részösszeg</td><td>382</td></tr>",
                            "<tr><td>jozsef2</td><td>GLS</td><td>7</td></tr>",
                            "<tr><td>jozsef2</td><td>Posta</td><td>2</td></tr>",
                            "<tr><td>jozsef2</td><td>Személyes átvétel</td><td>4</td></tr>",
                            "<tr><td>jozsef2</td><td>Részösszeg</td><td>13</td></tr>",
                            "<tr><td>JOZSEFG</td><td>GLS</td><td>11</td></tr>",
                            "<tr><td>JOZSEFG</td><td>Posta</td><td>1</td></tr>",
                            "<tr><td>JOZSEFG</td><td>Személyes átvétel</td><td>9</td></tr>",
                            "<tr><td>JOZSEFG</td><td>Részösszeg</td><td>21</td></tr>",
                            "<tr><td>JUDITH</td><td>GLS</td><td>170</td></tr>",
                            "<tr><td>JUDITH</td><td>Posta</td><td>130</td></tr>",
                            "<tr><td>JUDITH</td><td>Személyes átvétel</td><td>150</td></tr>",
                            "<tr><td>JUDITH</td><td>Részösszeg</td><td>450</td></tr>",
                            "<tr><td>julia</td><td>GLS</td><td>137</td></tr>",
                            "<tr><td>julia</td><td>Posta</td><td>160</td></tr>",
                            "<tr><td>julia</td><td>Személyes átvétel</td><td>138</td></tr>",
                            "<tr><td>julia</td><td>Részösszeg</td><td>435</td></tr>",
                            "<tr><td>julia4</td><td>GLS</td><td>2</td></tr>",
                            "<tr><td>julia4</td><td>Posta</td><td>4</td></tr>",
                            "<tr><td>julia4</td><td>Személyes átvétel</td><td>8</td></tr>",
                            "<tr><td>julia4</td><td>Részösszeg</td><td>14</td></tr>",
                            "<tr><td>julianna4</td><td>GLS</td><td>8</td></tr>",
                            "<tr><td>julianna4</td><td>Posta</td><td>12</td></tr>",
                            "<tr><td>julianna4</td><td>Személyes átvétel</td><td>7</td></tr>",
                            "<tr><td>julianna4</td><td>Részösszeg</td><td>27</td></tr>",
                            "<tr><td>kata</td><td>GLS</td><td>5</td></tr>",
                            "<tr><td>kata</td><td>Posta</td><td>4</td></tr>",
                            "<tr><td>kata</td><td>Személyes átvétel</td><td>3</td></tr>",
                            "<tr><td>kata</td><td>Részösszeg</td><td>12</td></tr>",
                            "<tr><td>katalin</td><td>GLS</td><td>7</td></tr>",
                            "<tr><td>katalin</td><td>Posta</td><td>7</td></tr>",
                            "<tr><td>katalin</td><td>Személyes átvétel</td><td>5</td></tr>",
                            "<tr><td>katalin</td><td>Részösszeg</td><td>19</td></tr>",
                            "<tr><td>katalin4</td><td>GLS</td><td>7</td></tr>",
                            "<tr><td>katalin4</td><td>Posta</td><td>5</td></tr>",
                            "<tr><td>katalin4</td><td>Személyes átvétel</td><td>11</td></tr>",
                            "<tr><td>katalin4</td><td>Részösszeg</td><td>23</td></tr>",
                            "<tr><td>kati</td><td>GLS</td><td>4</td></tr>",
                            "<tr><td>kati</td><td>Posta</td><td>5</td></tr>",
                            "<tr><td>kati</td><td>Személyes átvétel</td><td>4</td></tr>",
                            "<tr><td>kati</td><td>Részösszeg</td><td>13</td></tr>",
                            "<tr><td>katka</td><td>GLS</td><td>6</td></tr>",
                            "<tr><td>katka</td><td>Posta</td><td>6</td></tr>",
                            "<tr><td>katka</td><td>Személyes átvétel</td><td>10</td></tr>",
                            "<tr><td>katka</td><td>Részösszeg</td><td>22</td></tr>",
                            "<tr><td>klaudia2</td><td>GLS</td><td>3</td></tr>",
                            "<tr><td>klaudia2</td><td>Posta</td><td>9</td></tr>",
                            "<tr><td>klaudia2</td><td>Személyes átvétel</td><td>5</td></tr>",
                            "<tr><td>klaudia2</td><td>Részösszeg</td><td>17</td></tr>",
                            "<tr><td>kornel4</td><td>GLS</td><td>3</td></tr>",
                            "<tr><td>kornel4</td><td>Posta</td><td>1</td></tr>",
                            "<tr><td>kornel4</td><td>Személyes átvétel</td><td>7</td></tr>",
                            "<tr><td>kornel4</td><td>Részösszeg</td><td>11</td></tr>",
                            "<tr><td>kristof4</td><td>GLS</td><td>9</td></tr>",
                            "<tr><td>kristof4</td><td>Posta</td><td>4</td></tr>",
                            "<tr><td>kristof4</td><td>Személyes átvétel</td><td>8</td></tr>",
                            "<tr><td>kristof4</td><td>Részösszeg</td><td>21</td></tr>",
                            "<tr><td>kriszti</td><td>GLS</td><td>3</td></tr>",
                            "<tr><td>kriszti</td><td>Posta</td><td>5</td></tr>",
                            "<tr><td>kriszti</td><td>Személyes átvétel</td><td>5</td></tr>",
                            "<tr><td>kriszti</td><td>Részösszeg</td><td>13</td></tr>",
                            "<tr><td>krisztian4</td><td>GLS</td><td>5</td></tr>",
                            "<tr><td>krisztian4</td><td>Posta</td><td>6</td></tr>",
                            "<tr><td>krisztian4</td><td>Személyes átvétel</td><td>6</td></tr>",
                            "<tr><td>krisztian4</td><td>Részösszeg</td><td>17</td></tr>",
                            "<tr><td>KRISZTIANM</td><td>GLS</td><td>118</td></tr>",
                            "<tr><td>KRISZTIANM</td><td>Posta</td><td>136</td></tr>",
                            "<tr><td>KRISZTIANM</td><td>Személyes átvétel</td><td>130</td></tr>",
                            "<tr><td>KRISZTIANM</td><td>Részösszeg</td><td>384</td></tr>",
                            "<tr><td>krisztina</td><td>GLS</td><td>149</td></tr>",
                            "<tr><td>krisztina</td><td>Posta</td><td>150</td></tr>",
                            "<tr><td>krisztina</td><td>Személyes átvétel</td><td>157</td></tr>",
                            "<tr><td>krisztina</td><td>Részösszeg</td><td>456</td></tr>",
                            "<tr><td>krisztina1</td><td>GLS</td><td>10</td></tr>",
                            "<tr><td>krisztina1</td><td>Posta</td><td>4</td></tr>",
                            "<tr><td>krisztina1</td><td>Személyes átvétel</td><td>8</td></tr>",
                            "<tr><td>krisztina1</td><td>Részösszeg</td><td>22</td></tr>",
                            "<tr><td>KRISZTINAG</td><td>GLS</td><td>6</td></tr>",
                            "<tr><td>KRISZTINAG</td><td>Posta</td><td>6</td></tr>",
                            "<tr><td>KRISZTINAG</td><td>Személyes átvétel</td><td>10</td></tr>",
                            "<tr><td>KRISZTINAG</td><td>Részösszeg</td><td>22</td></tr>",
                            "<tr><td>lajos</td><td>GLS</td><td>5</td></tr>",
                            "<tr><td>lajos</td><td>Posta</td><td>2</td></tr>",
                            "<tr><td>lajos</td><td>Személyes átvétel</td><td>9</td></tr>",
                            "<tr><td>lajos</td><td>Részösszeg</td><td>16</td></tr>",
                            "<tr><td>lala</td><td>GLS</td><td>5</td></tr>",
                            "<tr><td>lala</td><td>Posta</td><td>3</td></tr>",
                            "<tr><td>lala</td><td>Személyes átvétel</td><td>9</td></tr>",
                            "<tr><td>lala</td><td>Részösszeg</td><td>17</td></tr>",
                            "<tr><td>laszlo1</td><td>GLS</td><td>130</td></tr>",
                            "<tr><td>laszlo1</td><td>Posta</td><td>129</td></tr>",
                            "<tr><td>laszlo1</td><td>Személyes átvétel</td><td>135</td></tr>",
                            "<tr><td>laszlo1</td><td>Részösszeg</td><td>394</td></tr>",
                            "<tr><td>laszlo2</td><td>GLS</td><td>12</td></tr>",
                            "<tr><td>laszlo2</td><td>Posta</td><td>6</td></tr>",
                            "<tr><td>laszlo2</td><td>Személyes átvétel</td><td>7</td></tr>",
                            "<tr><td>laszlo2</td><td>Részösszeg</td><td>25</td></tr>",
                            "<tr><td>LASZLOA</td><td>GLS</td><td>156</td></tr>",
                            "<tr><td>LASZLOA</td><td>Posta</td><td>136</td></tr>",
                            "<tr><td>LASZLOA</td><td>Személyes átvétel</td><td>154</td></tr>",
                            "<tr><td>LASZLOA</td><td>Részösszeg</td><td>446</td></tr>",
                            "<tr><td>LASZLON</td><td>GLS</td><td>126</td></tr>",
                            "<tr><td>LASZLON</td><td>Posta</td><td>131</td></tr>",
                            "<tr><td>LASZLON</td><td>Személyes átvétel</td><td>143</td></tr>",
                            "<tr><td>LASZLON</td><td>Részösszeg</td><td>400</td></tr>",
                            "<tr><td>maria1</td><td>GLS</td><td>4</td></tr>",
                            "<tr><td>maria1</td><td>Posta</td><td>5</td></tr>",
                            "<tr><td>maria1</td><td>Személyes átvétel</td><td>1</td></tr>",
                            "<tr><td>maria1</td><td>Részösszeg</td><td>10</td></tr>",
                            "<tr><td>MARKH</td><td>GLS</td><td>128</td></tr>",
                            "<tr><td>MARKH</td><td>Posta</td><td>142</td></tr>",
                            "<tr><td>MARKH</td><td>Személyes átvétel</td><td>142</td></tr>",
                            "<tr><td>MARKH</td><td>Részösszeg</td><td>412</td></tr>",
                            "<tr><td>marton</td><td>GLS</td><td>5</td></tr>",
                            "<tr><td>marton</td><td>Posta</td><td>4</td></tr>",
                            "<tr><td>marton</td><td>Személyes átvétel</td><td>5</td></tr>",
                            "<tr><td>marton</td><td>Részösszeg</td><td>14</td></tr>",
                            "<tr><td>MATEK</td><td>GLS</td><td>6</td></tr>",
                            "<tr><td>MATEK</td><td>Posta</td><td>10</td></tr>",
                            "<tr><td>MATEK</td><td>Személyes átvétel</td><td>9</td></tr>",
                            "<tr><td>MATEK</td><td>Részösszeg</td><td>25</td></tr>",
                            "<tr><td>matyas2</td><td>GLS</td><td>138</td></tr>",
                            "<tr><td>matyas2</td><td>Posta</td><td>131</td></tr>",
                            "<tr><td>matyas2</td><td>Személyes átvétel</td><td>164</td></tr>",
                            "<tr><td>matyas2</td><td>Részösszeg</td><td>433</td></tr>",
                            "<tr><td>MATYASS</td><td>GLS</td><td>4</td></tr>",
                            "<tr><td>MATYASS</td><td>Posta</td><td>5</td></tr>",
                            "<tr><td>MATYASS</td><td>Személyes átvétel</td><td>3</td></tr>",
                            "<tr><td>MATYASS</td><td>Részösszeg</td><td>12</td></tr>",
                            "<tr><td>MIHALYJ</td><td>GLS</td><td>3</td></tr>",
                            "<tr><td>MIHALYJ</td><td>Posta</td><td>4</td></tr>",
                            "<tr><td>MIHALYJ</td><td>Személyes átvétel</td><td>6</td></tr>",
                            "<tr><td>MIHALYJ</td><td>Részösszeg</td><td>13</td></tr>",
                            "<tr><td>miklos2</td><td>GLS</td><td>7</td></tr>",
                            "<tr><td>miklos2</td><td>Posta</td><td>4</td></tr>",
                            "<tr><td>miklos2</td><td>Személyes átvétel</td><td>2</td></tr>",
                            "<tr><td>miklos2</td><td>Részösszeg</td><td>13</td></tr>",
                            "<tr><td>MIKLOSB</td><td>GLS</td><td>6</td></tr>",
                            "<tr><td>MIKLOSB</td><td>Posta</td><td>1</td></tr>",
                            "<tr><td>MIKLOSB</td><td>Személyes átvétel</td><td>8</td></tr>",
                            "<tr><td>MIKLOSB</td><td>Részösszeg</td><td>15</td></tr>",
                            "<tr><td>MONIKAM</td><td>GLS</td><td>133</td></tr>",
                            "<tr><td>MONIKAM</td><td>Posta</td><td>151</td></tr>",
                            "<tr><td>MONIKAM</td><td>Személyes átvétel</td><td>123</td></tr>",
                            "<tr><td>MONIKAM</td><td>Részösszeg</td><td>407</td></tr>",
                            "<tr><td>NANDORF</td><td>GLS</td><td>147</td></tr>",
                            "<tr><td>NANDORF</td><td>Posta</td><td>139</td></tr>",
                            "<tr><td>NANDORF</td><td>Személyes átvétel</td><td>134</td></tr>",
                            "<tr><td>NANDORF</td><td>Részösszeg</td><td>420</td></tr>",
                            "<tr><td>nikolett3</td><td>GLS</td><td>4</td></tr>",
                            "<tr><td>nikolett3</td><td>Posta</td><td>3</td></tr>",
                            "<tr><td>nikolett3</td><td>Személyes átvétel</td><td>10</td></tr>",
                            "<tr><td>nikolett3</td><td>Részösszeg</td><td>17</td></tr>",
                            "<tr><td>nikoletta4</td><td>GLS</td><td>137</td></tr>",
                            "<tr><td>nikoletta4</td><td>Posta</td><td>158</td></tr>",
                            "<tr><td>nikoletta4</td><td>Személyes átvétel</td><td>119</td></tr>",
                            "<tr><td>nikoletta4</td><td>Részösszeg</td><td>414</td></tr>",
                            "<tr><td>NIKOLETTAT</td><td>GLS</td><td>13</td></tr>",
                            "<tr><td>NIKOLETTAT</td><td>Posta</td><td>7</td></tr>",
                            "<tr><td>NIKOLETTAT</td><td>Személyes átvétel</td><td>5</td></tr>",
                            "<tr><td>NIKOLETTAT</td><td>Részösszeg</td><td>25</td></tr>",
                            "<tr><td>norbert2</td><td>GLS</td><td>7</td></tr>",
                            "<tr><td>norbert2</td><td>Posta</td><td>4</td></tr>",
                            "<tr><td>norbert2</td><td>Részösszeg</td><td>11</td></tr>",
                            "<tr><td>norbert4</td><td>GLS</td><td>1</td></tr>",
                            "<tr><td>norbert4</td><td>Posta</td><td>3</td></tr>",
                            "<tr><td>norbert4</td><td>Személyes átvétel</td><td>9</td></tr>",
                            "<tr><td>norbert4</td><td>Részösszeg</td><td>13</td></tr>",
                            "<tr><td>norbert5</td><td>GLS</td><td>1</td></tr>",
                            "<tr><td>norbert5</td><td>Posta</td><td>6</td></tr>",
                            "<tr><td>norbert5</td><td>Személyes átvétel</td><td>9</td></tr>",
                            "<tr><td>norbert5</td><td>Részösszeg</td><td>16</td></tr>",
                            "<tr><td>pal</td><td>GLS</td><td>152</td></tr>",
                            "<tr><td>pal</td><td>Posta</td><td>132</td></tr>",
                            "<tr><td>pal</td><td>Személyes átvétel</td><td>154</td></tr>",
                            "<tr><td>pal</td><td>Részösszeg</td><td>438</td></tr>",
                            "<tr><td>peter1</td><td>GLS</td><td>151</td></tr>",
                            "<tr><td>peter1</td><td>Posta</td><td>135</td></tr>",
                            "<tr><td>peter1</td><td>Személyes átvétel</td><td>126</td></tr>",
                            "<tr><td>peter1</td><td>Részösszeg</td><td>412</td></tr>",
                            "<tr><td>peter2</td><td>GLS</td><td>7</td></tr>",
                            "<tr><td>peter2</td><td>Posta</td><td>4</td></tr>",
                            "<tr><td>peter2</td><td>Személyes átvétel</td><td>7</td></tr>",
                            "<tr><td>peter2</td><td>Részösszeg</td><td>18</td></tr>",
                            "<tr><td>peter3</td><td>GLS</td><td>8</td></tr>",
                            "<tr><td>peter3</td><td>Posta</td><td>7</td></tr>",
                            "<tr><td>peter3</td><td>Személyes átvétel</td><td>10</td></tr>",
                            "<tr><td>peter3</td><td>Részösszeg</td><td>25</td></tr>",
                            "<tr><td>peter4</td><td>GLS</td><td>266</td></tr>",
                            "<tr><td>peter4</td><td>Posta</td><td>293</td></tr>",
                            "<tr><td>peter4</td><td>Személyes átvétel</td><td>293</td></tr>",
                            "<tr><td>peter4</td><td>Részösszeg</td><td>852</td></tr>",
                            "<tr><td>PETERB</td><td>GLS</td><td>2</td></tr>",
                            "<tr><td>PETERB</td><td>Posta</td><td>4</td></tr>",
                            "<tr><td>PETERB</td><td>Személyes átvétel</td><td>9</td></tr>",
                            "<tr><td>PETERB</td><td>Részösszeg</td><td>15</td></tr>",
                            "<tr><td>polla</td><td>GLS</td><td>9</td></tr>",
                            "<tr><td>polla</td><td>Posta</td><td>6</td></tr>",
                            "<tr><td>polla</td><td>Személyes átvétel</td><td>7</td></tr>",
                            "<tr><td>polla</td><td>Részösszeg</td><td>22</td></tr>",
                            "<tr><td>rajmond4</td><td>GLS</td><td>6</td></tr>",
                            "<tr><td>rajmond4</td><td>Posta</td><td>5</td></tr>",
                            "<tr><td>rajmond4</td><td>Személyes átvétel</td><td>6</td></tr>",
                            "<tr><td>rajmond4</td><td>Részösszeg</td><td>17</td></tr>",
                            "<tr><td>reka4</td><td>GLS</td><td>5</td></tr>",
                            "<tr><td>reka4</td><td>Posta</td><td>4</td></tr>",
                            "<tr><td>reka4</td><td>Személyes átvétel</td><td>11</td></tr>",
                            "<tr><td>reka4</td><td>Részösszeg</td><td>20</td></tr>",
                            "<tr><td>RENATAK</td><td>GLS</td><td>135</td></tr>",
                            "<tr><td>RENATAK</td><td>Posta</td><td>140</td></tr>",
                            "<tr><td>RENATAK</td><td>Személyes átvétel</td><td>147</td></tr>",
                            "<tr><td>RENATAK</td><td>Részösszeg</td><td>422</td></tr>",
                            "<tr><td>RENATAS</td><td>GLS</td><td>6</td></tr>",
                            "<tr><td>RENATAS</td><td>Posta</td><td>5</td></tr>",
                            "<tr><td>RENATAS</td><td>Személyes átvétel</td><td>5</td></tr>",
                            "<tr><td>RENATAS</td><td>Részösszeg</td><td>16</td></tr>",
                            "<tr><td>robert2</td><td>GLS</td><td>5</td></tr>",
                            "<tr><td>robert2</td><td>Posta</td><td>1</td></tr>",
                            "<tr><td>robert2</td><td>Személyes átvétel</td><td>7</td></tr>",
                            "<tr><td>robert2</td><td>Részösszeg</td><td>13</td></tr>",
                            "<tr><td>ROBERTI</td><td>GLS</td><td>5</td></tr>",
                            "<tr><td>ROBERTI</td><td>Posta</td><td>3</td></tr>",
                            "<tr><td>ROBERTI</td><td>Személyes átvétel</td><td>5</td></tr>",
                            "<tr><td>ROBERTI</td><td>Részösszeg</td><td>13</td></tr>",
                            "<tr><td>ROBERTP</td><td>GLS</td><td>8</td></tr>",
                            "<tr><td>ROBERTP</td><td>Posta</td><td>8</td></tr>",
                            "<tr><td>ROBERTP</td><td>Személyes átvétel</td><td>10</td></tr>",
                            "<tr><td>ROBERTP</td><td>Részösszeg</td><td>26</td></tr>",
                            "<tr><td>roland</td><td>GLS</td><td>132</td></tr>",
                            "<tr><td>roland</td><td>Posta</td><td>157</td></tr>",
                            "<tr><td>roland</td><td>Személyes átvétel</td><td>125</td></tr>",
                            "<tr><td>roland</td><td>Részösszeg</td><td>414</td></tr>",
                            "<tr><td>roland1</td><td>GLS</td><td>142</td></tr>",
                            "<tr><td>roland1</td><td>Posta</td><td>155</td></tr>",
                            "<tr><td>roland1</td><td>Személyes átvétel</td><td>135</td></tr>",
                            "<tr><td>roland1</td><td>Részösszeg</td><td>432</td></tr>",
                            "<tr><td>roza2</td><td>GLS</td><td>3</td></tr>",
                            "<tr><td>roza2</td><td>Posta</td><td>2</td></tr>",
                            "<tr><td>roza2</td><td>Személyes átvétel</td><td>3</td></tr>",
                            "<tr><td>roza2</td><td>Részösszeg</td><td>8</td></tr>",
                            "<tr><td>sandor</td><td>GLS</td><td>4</td></tr>",
                            "<tr><td>sandor</td><td>Posta</td><td>6</td></tr>",
                            "<tr><td>sandor</td><td>Személyes átvétel</td><td>7</td></tr>",
                            "<tr><td>sandor</td><td>Részösszeg</td><td>17</td></tr>",
                            "<tr><td>sandor3</td><td>GLS</td><td>4</td></tr>",
                            "<tr><td>sandor3</td><td>Posta</td><td>4</td></tr>",
                            "<tr><td>sandor3</td><td>Személyes átvétel</td><td>6</td></tr>",
                            "<tr><td>sandor3</td><td>Részösszeg</td><td>14</td></tr>",
                            "<tr><td>sandor4</td><td>GLS</td><td>4</td></tr>",
                            "<tr><td>sandor4</td><td>Posta</td><td>2</td></tr>",
                            "<tr><td>sandor4</td><td>Személyes átvétel</td><td>5</td></tr>",
                            "<tr><td>sandor4</td><td>Részösszeg</td><td>11</td></tr>",
                            "<tr><td>sara</td><td>GLS</td><td>4</td></tr>",
                            "<tr><td>sara</td><td>Posta</td><td>7</td></tr>",
                            "<tr><td>sara</td><td>Személyes átvétel</td><td>9</td></tr>",
                            "<tr><td>sara</td><td>Részösszeg</td><td>20</td></tr>",
                            "<tr><td>SEBASTIANF</td><td>GLS</td><td>6</td></tr>",
                            "<tr><td>SEBASTIANF</td><td>Posta</td><td>3</td></tr>",
                            "<tr><td>SEBASTIANF</td><td>Személyes átvétel</td><td>6</td></tr>",
                            "<tr><td>SEBASTIANF</td><td>Részösszeg</td><td>15</td></tr>",
                            "<tr><td>sebestyen</td><td>GLS</td><td>4</td></tr>",
                            "<tr><td>sebestyen</td><td>Posta</td><td>6</td></tr>",
                            "<tr><td>sebestyen</td><td>Személyes átvétel</td><td>6</td></tr>",
                            "<tr><td>sebestyen</td><td>Részösszeg</td><td>16</td></tr>",
                            "<tr><td>szabolcs</td><td>GLS</td><td>145</td></tr>",
                            "<tr><td>szabolcs</td><td>Posta</td><td>157</td></tr>",
                            "<tr><td>szabolcs</td><td>Személyes átvétel</td><td>169</td></tr>",
                            "<tr><td>szabolcs</td><td>Részösszeg</td><td>471</td></tr>",
                            "<tr><td>SZABOLCSM</td><td>GLS</td><td>126</td></tr>",
                            "<tr><td>SZABOLCSM</td><td>Posta</td><td>153</td></tr>",
                            "<tr><td>SZABOLCSM</td><td>Személyes átvétel</td><td>129</td></tr>",
                            "<tr><td>SZABOLCSM</td><td>Részösszeg</td><td>408</td></tr>",
                            "<tr><td>SZILARDS</td><td>GLS</td><td>144</td></tr>",
                            "<tr><td>SZILARDS</td><td>Posta</td><td>131</td></tr>",
                            "<tr><td>SZILARDS</td><td>Személyes átvétel</td><td>111</td></tr>",
                            "<tr><td>SZILARDS</td><td>Részösszeg</td><td>386</td></tr>",
                            "<tr><td>szilvia1</td><td>GLS</td><td>156</td></tr>",
                            "<tr><td>szilvia1</td><td>Posta</td><td>151</td></tr>",
                            "<tr><td>szilvia1</td><td>Személyes átvétel</td><td>138</td></tr>",
                            "<tr><td>szilvia1</td><td>Részösszeg</td><td>445</td></tr>",
                            "<tr><td>tamara2</td><td>GLS</td><td>6</td></tr>",
                            "<tr><td>tamara2</td><td>Posta</td><td>4</td></tr>",
                            "<tr><td>tamara2</td><td>Személyes átvétel</td><td>3</td></tr>",
                            "<tr><td>tamara2</td><td>Részösszeg</td><td>13</td></tr>",
                            "<tr><td>tamas</td><td>GLS</td><td>143</td></tr>",
                            "<tr><td>tamas</td><td>Posta</td><td>156</td></tr>",
                            "<tr><td>tamas</td><td>Személyes átvétel</td><td>122</td></tr>",
                            "<tr><td>tamas</td><td>Részösszeg</td><td>421</td></tr>",
                            "<tr><td>TAMASF</td><td>GLS</td><td>159</td></tr>",
                            "<tr><td>TAMASF</td><td>Posta</td><td>145</td></tr>",
                            "<tr><td>TAMASF</td><td>Személyes átvétel</td><td>129</td></tr>",
                            "<tr><td>TAMASF</td><td>Részösszeg</td><td>433</td></tr>",
                            "<tr><td>tibor</td><td>GLS</td><td>115</td></tr>",
                            "<tr><td>tibor</td><td>Posta</td><td>129</td></tr>",
                            "<tr><td>tibor</td><td>Személyes átvétel</td><td>130</td></tr>",
                            "<tr><td>tibor</td><td>Részösszeg</td><td>374</td></tr>",
                            "<tr><td>tibor2</td><td>GLS</td><td>7</td></tr>",
                            "<tr><td>tibor2</td><td>Posta</td><td>7</td></tr>",
                            "<tr><td>tibor2</td><td>Személyes átvétel</td><td>11</td></tr>",
                            "<tr><td>tibor2</td><td>Részösszeg</td><td>25</td></tr>",
                            "<tr><td>tihamer</td><td>GLS</td><td>9</td></tr>",
                            "<tr><td>tihamer</td><td>Posta</td><td>6</td></tr>",
                            "<tr><td>tihamer</td><td>Személyes átvétel</td><td>5</td></tr>",
                            "<tr><td>tihamer</td><td>Részösszeg</td><td>20</td></tr>",
                            "<tr><td>timea</td><td>GLS</td><td>14</td></tr>",
                            "<tr><td>timea</td><td>Posta</td><td>23</td></tr>",
                            "<tr><td>timea</td><td>Személyes átvétel</td><td>18</td></tr>",
                            "<tr><td>timea</td><td>Részösszeg</td><td>55</td></tr>",
                            "<tr><td>timea2</td><td>GLS</td><td>1</td></tr>",
                            "<tr><td>timea2</td><td>Posta</td><td>5</td></tr>",
                            "<tr><td>timea2</td><td>Személyes átvétel</td><td>10</td></tr>",
                            "<tr><td>timea2</td><td>Részösszeg</td><td>16</td></tr>",
                            "<tr><td>tunde</td><td>GLS</td><td>6</td></tr>",
                            "<tr><td>tunde</td><td>Posta</td><td>6</td></tr>",
                            "<tr><td>tunde</td><td>Személyes átvétel</td><td>4</td></tr>",
                            "<tr><td>tunde</td><td>Részösszeg</td><td>16</td></tr>",
                            "<tr><td>valentin</td><td>GLS</td><td>5</td></tr>",
                            "<tr><td>valentin</td><td>Posta</td><td>5</td></tr>",
                            "<tr><td>valentin</td><td>Személyes átvétel</td><td>3</td></tr>",
                            "<tr><td>valentin</td><td>Részösszeg</td><td>13</td></tr>",
                            "<tr><td>veronika4</td><td>GLS</td><td>5</td></tr>",
                            "<tr><td>veronika4</td><td>Posta</td><td>6</td></tr>",
                            "<tr><td>veronika4</td><td>Személyes átvétel</td><td>7</td></tr>",
                            "<tr><td>veronika4</td><td>Részösszeg</td><td>18</td></tr>",
                            "<tr><td>VIKTORIAU</td><td>GLS</td><td>5</td></tr>",
                            "<tr><td>VIKTORIAU</td><td>Posta</td><td>4</td></tr>",
                            "<tr><td>VIKTORIAU</td><td>Személyes átvétel</td><td>5</td></tr>",
                            "<tr><td>VIKTORIAU</td><td>Részösszeg</td><td>14</td></tr>",
                            "<tr><td>VIKTORK</td><td>GLS</td><td>8</td></tr>",
                            "<tr><td>VIKTORK</td><td>Posta</td><td>6</td></tr>",
                            "<tr><td>VIKTORK</td><td>Személyes átvétel</td><td>6</td></tr>",
                            "<tr><td>VIKTORK</td><td>Részösszeg</td><td>20</td></tr>",
                            "<tr><td>vivien3</td><td>GLS</td><td>9</td></tr>",
                            "<tr><td>vivien3</td><td>Posta</td><td>6</td></tr>",
                            "<tr><td>vivien3</td><td>Személyes átvétel</td><td>7</td></tr>",
                            "<tr><td>vivien3</td><td>Részösszeg</td><td>22</td></tr>",
                            "<tr><td>zoltan</td><td>GLS</td><td>5</td></tr>",
                            "<tr><td>zoltan</td><td>Posta</td><td>3</td></tr>",
                            "<tr><td>zoltan</td><td>Személyes átvétel</td><td>7</td></tr>",
                            "<tr><td>zoltan</td><td>Részösszeg</td><td>15</td></tr>",
                            "<tr><td>zoltan4</td><td>GLS</td><td>129</td></tr>",
                            "<tr><td>zoltan4</td><td>Posta</td><td>124</td></tr>",
                            "<tr><td>zoltan4</td><td>Személyes átvétel</td><td>171</td></tr>",
                            "<tr><td>zoltan4</td><td>Részösszeg</td><td>424</td></tr>",
                            "<tr><td>ZOLTANP</td><td>GLS</td><td>6</td></tr>",
                            "<tr><td>ZOLTANP</td><td>Posta</td><td>3</td></tr>",
                            "<tr><td>ZOLTANP</td><td>Személyes átvétel</td><td>4</td></tr>",
                            "<tr><td>ZOLTANP</td><td>Részösszeg</td><td>13</td></tr>",
                            "<tr><td>ZOLTANT</td><td>GLS</td><td>127</td></tr>",
                            "<tr><td>ZOLTANT</td><td>Posta</td><td>107</td></tr>",
                            "<tr><td>ZOLTANT</td><td>Személyes átvétel</td><td>123</td></tr>",
                            "<tr><td>ZOLTANT</td><td>Részösszeg</td><td>357</td></tr>",
                            "<tr><td>zsofi1</td><td>GLS</td><td>7</td></tr>",
                            "<tr><td>zsofi1</td><td>Posta</td><td>6</td></tr>",
                            "<tr><td>zsofi1</td><td>Személyes átvétel</td><td>6</td></tr>",
                            "<tr><td>zsofi1</td><td>Részösszeg</td><td>19</td></tr>",
                            "<tr><td>zsolt1</td><td>GLS</td><td>11</td></tr>",
                            "<tr><td>zsolt1</td><td>Posta</td><td>6</td></tr>",
                            "<tr><td>zsolt1</td><td>Személyes átvétel</td><td>3</td></tr>",
                            "<tr><td>zsolt1</td><td>Részösszeg</td><td>20</td></tr>",
                            "<tr><td>ZSOLTJ</td><td>GLS</td><td>1</td></tr>",
                            "<tr><td>ZSOLTJ</td><td>Posta</td><td>8</td></tr>",
                            "<tr><td>ZSOLTJ</td><td>Személyes átvétel</td><td>9</td></tr>",
                            "<tr><td>ZSOLTJ</td><td>Részösszeg</td><td>18</td></tr>",
                            "<tr><td>zsuzsa</td><td>GLS</td><td>8</td></tr>",
                            "<tr><td>zsuzsa</td><td>Posta</td><td>5</td></tr>",
                            "<tr><td>zsuzsa</td><td>Személyes átvétel</td><td>3</td></tr>",
                            "<tr><td>zsuzsa</td><td>Részösszeg</td><td>16</td></tr>",
                            "<tr><td>zsuzsa3</td><td>GLS</td><td>5</td></tr>",
                            "<tr><td>zsuzsa3</td><td>Posta</td><td>5</td></tr>",
                            "<tr><td>zsuzsa3</td><td>Személyes átvétel</td><td>6</td></tr>",
                            "<tr><td>zsuzsa3</td><td>Részösszeg</td><td>16</td></tr>",
                            "<tr><td>zsuzsanna</td><td>GLS</td><td>7</td></tr>",
                            "<tr><td>zsuzsanna</td><td>Posta</td><td>5</td></tr>",
                            "<tr><td>zsuzsanna</td><td>Személyes átvétel</td><td>3</td></tr>",
                            "<tr><td>zsuzsanna</td><td>Részösszeg</td><td>15</td></tr>",
                            "<tr><td>ZSUZSAV</td><td>GLS</td><td>139</td></tr>",
                            "<tr><td>ZSUZSAV</td><td>Posta</td><td>139</td></tr>",
                            "<tr><td>ZSUZSAV</td><td>Személyes átvétel</td><td>142</td></tr>",
                            "<tr><td>ZSUZSAV</td><td>Részösszeg</td><td>420</td></tr>",
                            "<tr><td>Végösszeg</td><td>Végösszeg</td><td>28085</td></tr>",
                            "</table>"
                        ]
                    }
                }
            ],
            "execution_count": 3
        },
        {
            "cell_type": "markdown",
            "source": [
                "2. <span style=\"background-color: rgb(255, 255, 255); color: rgb(0, 0, 0); font-family: &quot;Open Sans&quot;, sans-serif; font-size: 14.44px;\">Készítsünk listát a termékek számáról a következő csoportosítási szempontok szerint:<br>kategória azonosító, raktárkód, raktárkód+mennyiségi egység!</span>\n",
                "\n",
                "a. A listát szűrjük azokra a csoportokra, ahol a termékek száma legalább 6!"
            ],
            "metadata": {
                "azdata_cell_guid": "ea75c103-911f-41a3-a32c-3d40fb3e4e4a"
            },
            "attachments": {}
        },
        {
            "cell_type": "code",
            "source": [
                "SELECT \r\n",
                "    KAT_ID AS 'Kategória Azonosító', \r\n",
                "    RAKTAR_KOD AS 'Raktárkód', \r\n",
                "    MEGYS AS 'Mennyiségi Egység', \r\n",
                "    COUNT (*) AS 'Termékek száma'\r\n",
                "FROM \r\n",
                "    Termek\r\n",
                "GROUP BY \r\n",
                "    ROLLUP(KAT_ID, RAKTAR_KOD, MEGYS)\r\n",
                "HAVING \r\n",
                "    COUNT('Termékek száma') >= 6;\r\n",
                ""
            ],
            "metadata": {
                "azdata_cell_guid": "222b9618-a8e8-42b4-a8e8-d002257122b7",
                "language": "sql"
            },
            "outputs": [
                {
                    "output_type": "display_data",
                    "data": {
                        "text/html": "(41 rows affected)"
                    },
                    "metadata": {}
                },
                {
                    "output_type": "display_data",
                    "data": {
                        "text/html": "Total execution time: 00:00:00.039"
                    },
                    "metadata": {}
                },
                {
                    "output_type": "execute_result",
                    "metadata": {},
                    "execution_count": 7,
                    "data": {
                        "application/vnd.dataresource+json": {
                            "schema": {
                                "fields": [
                                    {
                                        "name": "Kategória Azonosító"
                                    },
                                    {
                                        "name": "Raktárkód"
                                    },
                                    {
                                        "name": "Mennyiségi Egység"
                                    },
                                    {
                                        "name": "Termékek száma"
                                    }
                                ]
                            },
                            "data": [
                                {
                                    "Kategória Azonosító": "4",
                                    "Raktárkód": "8",
                                    "Mennyiségi Egység": "db",
                                    "Termékek száma": "6"
                                },
                                {
                                    "Kategória Azonosító": "4",
                                    "Raktárkód": "8",
                                    "Mennyiségi Egység": "NULL",
                                    "Termékek száma": "6"
                                },
                                {
                                    "Kategória Azonosító": "4",
                                    "Raktárkód": "NULL",
                                    "Mennyiségi Egység": "NULL",
                                    "Termékek száma": "15"
                                },
                                {
                                    "Kategória Azonosító": "6",
                                    "Raktárkód": "8",
                                    "Mennyiségi Egység": "db",
                                    "Termékek száma": "8"
                                },
                                {
                                    "Kategória Azonosító": "6",
                                    "Raktárkód": "8",
                                    "Mennyiségi Egység": "NULL",
                                    "Termékek száma": "8"
                                },
                                {
                                    "Kategória Azonosító": "6",
                                    "Raktárkód": "NULL",
                                    "Mennyiségi Egység": "NULL",
                                    "Termékek száma": "20"
                                },
                                {
                                    "Kategória Azonosító": "16",
                                    "Raktárkód": "NULL",
                                    "Mennyiségi Egység": "NULL",
                                    "Termékek száma": "7"
                                },
                                {
                                    "Kategória Azonosító": "19",
                                    "Raktárkód": "NULL",
                                    "Mennyiségi Egység": "NULL",
                                    "Termékek száma": "19"
                                },
                                {
                                    "Kategória Azonosító": "24",
                                    "Raktárkód": "NULL",
                                    "Mennyiségi Egység": "NULL",
                                    "Termékek száma": "7"
                                },
                                {
                                    "Kategória Azonosító": "30",
                                    "Raktárkód": "NULL",
                                    "Mennyiségi Egység": "NULL",
                                    "Termékek száma": "7"
                                },
                                {
                                    "Kategória Azonosító": "35",
                                    "Raktárkód": "NULL",
                                    "Mennyiségi Egység": "NULL",
                                    "Termékek száma": "7"
                                },
                                {
                                    "Kategória Azonosító": "41",
                                    "Raktárkód": "NULL",
                                    "Mennyiségi Egység": "NULL",
                                    "Termékek száma": "13"
                                },
                                {
                                    "Kategória Azonosító": "45",
                                    "Raktárkód": "NULL",
                                    "Mennyiségi Egység": "NULL",
                                    "Termékek száma": "11"
                                },
                                {
                                    "Kategória Azonosító": "46",
                                    "Raktárkód": "NULL",
                                    "Mennyiségi Egység": "NULL",
                                    "Termékek száma": "7"
                                },
                                {
                                    "Kategória Azonosító": "52",
                                    "Raktárkód": "8",
                                    "Mennyiségi Egység": "db",
                                    "Termékek száma": "8"
                                },
                                {
                                    "Kategória Azonosító": "52",
                                    "Raktárkód": "8",
                                    "Mennyiségi Egység": "NULL",
                                    "Termékek száma": "8"
                                },
                                {
                                    "Kategória Azonosító": "52",
                                    "Raktárkód": "NULL",
                                    "Mennyiségi Egység": "NULL",
                                    "Termékek száma": "26"
                                },
                                {
                                    "Kategória Azonosító": "54",
                                    "Raktárkód": "NULL",
                                    "Mennyiségi Egység": "NULL",
                                    "Termékek száma": "6"
                                },
                                {
                                    "Kategória Azonosító": "66",
                                    "Raktárkód": "NULL",
                                    "Mennyiségi Egység": "NULL",
                                    "Termékek száma": "7"
                                },
                                {
                                    "Kategória Azonosító": "78",
                                    "Raktárkód": "6",
                                    "Mennyiségi Egység": "db",
                                    "Termékek száma": "6"
                                },
                                {
                                    "Kategória Azonosító": "78",
                                    "Raktárkód": "6",
                                    "Mennyiségi Egység": "NULL",
                                    "Termékek száma": "8"
                                },
                                {
                                    "Kategória Azonosító": "78",
                                    "Raktárkód": "7",
                                    "Mennyiségi Egység": "NULL",
                                    "Termékek száma": "6"
                                },
                                {
                                    "Kategória Azonosító": "78",
                                    "Raktárkód": "NULL",
                                    "Mennyiségi Egység": "NULL",
                                    "Termékek száma": "24"
                                },
                                {
                                    "Kategória Azonosító": "83",
                                    "Raktárkód": "NULL",
                                    "Mennyiségi Egység": "NULL",
                                    "Termékek száma": "6"
                                },
                                {
                                    "Kategória Azonosító": "85",
                                    "Raktárkód": "NULL",
                                    "Mennyiségi Egység": "NULL",
                                    "Termékek száma": "16"
                                },
                                {
                                    "Kategória Azonosító": "91",
                                    "Raktárkód": "NULL",
                                    "Mennyiségi Egység": "NULL",
                                    "Termékek száma": "7"
                                },
                                {
                                    "Kategória Azonosító": "93",
                                    "Raktárkód": "NULL",
                                    "Mennyiségi Egység": "NULL",
                                    "Termékek száma": "7"
                                },
                                {
                                    "Kategória Azonosító": "96",
                                    "Raktárkód": "NULL",
                                    "Mennyiségi Egység": "NULL",
                                    "Termékek száma": "9"
                                },
                                {
                                    "Kategória Azonosító": "97",
                                    "Raktárkód": "NULL",
                                    "Mennyiségi Egység": "NULL",
                                    "Termékek száma": "10"
                                },
                                {
                                    "Kategória Azonosító": "100",
                                    "Raktárkód": "NULL",
                                    "Mennyiségi Egység": "NULL",
                                    "Termékek száma": "9"
                                },
                                {
                                    "Kategória Azonosító": "118",
                                    "Raktárkód": "NULL",
                                    "Mennyiségi Egység": "NULL",
                                    "Termékek száma": "9"
                                },
                                {
                                    "Kategória Azonosító": "122",
                                    "Raktárkód": "NULL",
                                    "Mennyiségi Egység": "NULL",
                                    "Termékek száma": "7"
                                },
                                {
                                    "Kategória Azonosító": "124",
                                    "Raktárkód": "NULL",
                                    "Mennyiségi Egység": "NULL",
                                    "Termékek száma": "10"
                                },
                                {
                                    "Kategória Azonosító": "133",
                                    "Raktárkód": "NULL",
                                    "Mennyiségi Egység": "NULL",
                                    "Termékek száma": "6"
                                },
                                {
                                    "Kategória Azonosító": "145",
                                    "Raktárkód": "6",
                                    "Mennyiségi Egység": "db",
                                    "Termékek száma": "6"
                                },
                                {
                                    "Kategória Azonosító": "145",
                                    "Raktárkód": "6",
                                    "Mennyiségi Egység": "NULL",
                                    "Termékek száma": "6"
                                },
                                {
                                    "Kategória Azonosító": "145",
                                    "Raktárkód": "NULL",
                                    "Mennyiségi Egység": "NULL",
                                    "Termékek száma": "18"
                                },
                                {
                                    "Kategória Azonosító": "146",
                                    "Raktárkód": "NULL",
                                    "Mennyiségi Egység": "NULL",
                                    "Termékek száma": "7"
                                },
                                {
                                    "Kategória Azonosító": "149",
                                    "Raktárkód": "NULL",
                                    "Mennyiségi Egység": "NULL",
                                    "Termékek száma": "6"
                                },
                                {
                                    "Kategória Azonosító": "152",
                                    "Raktárkód": "NULL",
                                    "Mennyiségi Egység": "NULL",
                                    "Termékek száma": "6"
                                },
                                {
                                    "Kategória Azonosító": "NULL",
                                    "Raktárkód": "NULL",
                                    "Mennyiségi Egység": "NULL",
                                    "Termékek száma": "551"
                                }
                            ]
                        },
                        "text/html": [
                            "<table>",
                            "<tr><th>Kategória Azonosító</th><th>Raktárkód</th><th>Mennyiségi Egység</th><th>Termékek száma</th></tr>",
                            "<tr><td>4</td><td>8</td><td>db</td><td>6</td></tr>",
                            "<tr><td>4</td><td>8</td><td>NULL</td><td>6</td></tr>",
                            "<tr><td>4</td><td>NULL</td><td>NULL</td><td>15</td></tr>",
                            "<tr><td>6</td><td>8</td><td>db</td><td>8</td></tr>",
                            "<tr><td>6</td><td>8</td><td>NULL</td><td>8</td></tr>",
                            "<tr><td>6</td><td>NULL</td><td>NULL</td><td>20</td></tr>",
                            "<tr><td>16</td><td>NULL</td><td>NULL</td><td>7</td></tr>",
                            "<tr><td>19</td><td>NULL</td><td>NULL</td><td>19</td></tr>",
                            "<tr><td>24</td><td>NULL</td><td>NULL</td><td>7</td></tr>",
                            "<tr><td>30</td><td>NULL</td><td>NULL</td><td>7</td></tr>",
                            "<tr><td>35</td><td>NULL</td><td>NULL</td><td>7</td></tr>",
                            "<tr><td>41</td><td>NULL</td><td>NULL</td><td>13</td></tr>",
                            "<tr><td>45</td><td>NULL</td><td>NULL</td><td>11</td></tr>",
                            "<tr><td>46</td><td>NULL</td><td>NULL</td><td>7</td></tr>",
                            "<tr><td>52</td><td>8</td><td>db</td><td>8</td></tr>",
                            "<tr><td>52</td><td>8</td><td>NULL</td><td>8</td></tr>",
                            "<tr><td>52</td><td>NULL</td><td>NULL</td><td>26</td></tr>",
                            "<tr><td>54</td><td>NULL</td><td>NULL</td><td>6</td></tr>",
                            "<tr><td>66</td><td>NULL</td><td>NULL</td><td>7</td></tr>",
                            "<tr><td>78</td><td>6</td><td>db</td><td>6</td></tr>",
                            "<tr><td>78</td><td>6</td><td>NULL</td><td>8</td></tr>",
                            "<tr><td>78</td><td>7</td><td>NULL</td><td>6</td></tr>",
                            "<tr><td>78</td><td>NULL</td><td>NULL</td><td>24</td></tr>",
                            "<tr><td>83</td><td>NULL</td><td>NULL</td><td>6</td></tr>",
                            "<tr><td>85</td><td>NULL</td><td>NULL</td><td>16</td></tr>",
                            "<tr><td>91</td><td>NULL</td><td>NULL</td><td>7</td></tr>",
                            "<tr><td>93</td><td>NULL</td><td>NULL</td><td>7</td></tr>",
                            "<tr><td>96</td><td>NULL</td><td>NULL</td><td>9</td></tr>",
                            "<tr><td>97</td><td>NULL</td><td>NULL</td><td>10</td></tr>",
                            "<tr><td>100</td><td>NULL</td><td>NULL</td><td>9</td></tr>",
                            "<tr><td>118</td><td>NULL</td><td>NULL</td><td>9</td></tr>",
                            "<tr><td>122</td><td>NULL</td><td>NULL</td><td>7</td></tr>",
                            "<tr><td>124</td><td>NULL</td><td>NULL</td><td>10</td></tr>",
                            "<tr><td>133</td><td>NULL</td><td>NULL</td><td>6</td></tr>",
                            "<tr><td>145</td><td>6</td><td>db</td><td>6</td></tr>",
                            "<tr><td>145</td><td>6</td><td>NULL</td><td>6</td></tr>",
                            "<tr><td>145</td><td>NULL</td><td>NULL</td><td>18</td></tr>",
                            "<tr><td>146</td><td>NULL</td><td>NULL</td><td>7</td></tr>",
                            "<tr><td>149</td><td>NULL</td><td>NULL</td><td>6</td></tr>",
                            "<tr><td>152</td><td>NULL</td><td>NULL</td><td>6</td></tr>",
                            "<tr><td>NULL</td><td>NULL</td><td>NULL</td><td>551</td></tr>",
                            "</table>"
                        ]
                    }
                }
            ],
            "execution_count": 7
        },
        {
            "cell_type": "markdown",
            "source": [
                "```\n",
                "3. Készítsünk listát az egyes termékkategóriákban lévő termékek számáról! \n",
                "\n",
                "```\n",
                "\n",
                "a. Elég megjeleníteni a kategóriák azonosítóit és a darabszámokat!   \n",
                "<span style=\"color: var(--vscode-foreground);\">b. A lista megfelelően jelölve tartalmazza a végösszeget is!&nbsp;<br></span> <span style=\"color: var(--vscode-foreground);\">c. Az oszlopokat nevezzük el értelemszerűen!&nbsp;<br></span> <span style=\"color: var(--vscode-foreground);\">d. A listát rendezzük a darabszám szerint növekvő sorrendbe!</span>\n",
                "\n",
                "  \n",
                "\n",
                "![](https://moodle.uni-corvinus.hu/theme/image.php/adaptable/atto_h5p/1709548862/icon)"
            ],
            "metadata": {
                "azdata_cell_guid": "d7876bb9-76d0-4d07-baed-3cb17b2f96c3"
            },
            "attachments": {}
        },
        {
            "cell_type": "code",
            "source": [
                "SELECT \r\n",
                "    CASE WHEN GROUPING(kat_id) = 1 THEN 'Végösszeg' ELSE CAST(KAT_ID AS VARCHAR(10)) END AS 'Kategória Azonosító',\r\n",
                "    COUNT(*) AS 'Termékek Száma'\r\n",
                "FROM \r\n",
                "    Termek\r\n",
                "GROUP BY \r\n",
                "    KAT_ID WITH ROLLUP\r\n",
                "ORDER BY \r\n",
                "    CASE WHEN GROUPING(KAT_ID) = 1 THEN 1 ELSE 0 END, COUNT(*) ASC;\r\n",
                ""
            ],
            "metadata": {
                "azdata_cell_guid": "56ec19ce-e249-4551-b2a8-f17569765acc",
                "language": "sql"
            },
            "outputs": [
                {
                    "output_type": "display_data",
                    "data": {
                        "text/html": "(144 rows affected)"
                    },
                    "metadata": {}
                },
                {
                    "output_type": "display_data",
                    "data": {
                        "text/html": "Total execution time: 00:00:00.106"
                    },
                    "metadata": {}
                },
                {
                    "output_type": "execute_result",
                    "metadata": {},
                    "execution_count": 18,
                    "data": {
                        "application/vnd.dataresource+json": {
                            "schema": {
                                "fields": [
                                    {
                                        "name": "Kategória Azonosító"
                                    },
                                    {
                                        "name": "Termékek Száma"
                                    }
                                ]
                            },
                            "data": [
                                {
                                    "Kategória Azonosító": "10",
                                    "Termékek Száma": "1"
                                },
                                {
                                    "Kategória Azonosító": "11",
                                    "Termékek Száma": "1"
                                },
                                {
                                    "Kategória Azonosító": "12",
                                    "Termékek Száma": "1"
                                },
                                {
                                    "Kategória Azonosító": "15",
                                    "Termékek Száma": "1"
                                },
                                {
                                    "Kategória Azonosító": "17",
                                    "Termékek Száma": "1"
                                },
                                {
                                    "Kategória Azonosító": "26",
                                    "Termékek Száma": "1"
                                },
                                {
                                    "Kategória Azonosító": "29",
                                    "Termékek Száma": "1"
                                },
                                {
                                    "Kategória Azonosító": "31",
                                    "Termékek Száma": "1"
                                },
                                {
                                    "Kategória Azonosító": "33",
                                    "Termékek Száma": "1"
                                },
                                {
                                    "Kategória Azonosító": "34",
                                    "Termékek Száma": "1"
                                },
                                {
                                    "Kategória Azonosító": "37",
                                    "Termékek Száma": "1"
                                },
                                {
                                    "Kategória Azonosító": "38",
                                    "Termékek Száma": "1"
                                },
                                {
                                    "Kategória Azonosító": "40",
                                    "Termékek Száma": "1"
                                },
                                {
                                    "Kategória Azonosító": "42",
                                    "Termékek Száma": "1"
                                },
                                {
                                    "Kategória Azonosító": "44",
                                    "Termékek Száma": "1"
                                },
                                {
                                    "Kategória Azonosító": "50",
                                    "Termékek Száma": "1"
                                },
                                {
                                    "Kategória Azonosító": "53",
                                    "Termékek Száma": "1"
                                },
                                {
                                    "Kategória Azonosító": "61",
                                    "Termékek Száma": "1"
                                },
                                {
                                    "Kategória Azonosító": "74",
                                    "Termékek Száma": "1"
                                },
                                {
                                    "Kategória Azonosító": "80",
                                    "Termékek Száma": "1"
                                },
                                {
                                    "Kategória Azonosító": "82",
                                    "Termékek Száma": "1"
                                },
                                {
                                    "Kategória Azonosító": "84",
                                    "Termékek Száma": "1"
                                },
                                {
                                    "Kategória Azonosító": "86",
                                    "Termékek Száma": "1"
                                },
                                {
                                    "Kategória Azonosító": "99",
                                    "Termékek Száma": "1"
                                },
                                {
                                    "Kategória Azonosító": "101",
                                    "Termékek Száma": "1"
                                },
                                {
                                    "Kategória Azonosító": "103",
                                    "Termékek Száma": "1"
                                },
                                {
                                    "Kategória Azonosító": "105",
                                    "Termékek Száma": "1"
                                },
                                {
                                    "Kategória Azonosító": "107",
                                    "Termékek Száma": "1"
                                },
                                {
                                    "Kategória Azonosító": "108",
                                    "Termékek Száma": "1"
                                },
                                {
                                    "Kategória Azonosító": "109",
                                    "Termékek Száma": "1"
                                },
                                {
                                    "Kategória Azonosító": "114",
                                    "Termékek Száma": "1"
                                },
                                {
                                    "Kategória Azonosító": "115",
                                    "Termékek Száma": "1"
                                },
                                {
                                    "Kategória Azonosító": "126",
                                    "Termékek Száma": "1"
                                },
                                {
                                    "Kategória Azonosító": "130",
                                    "Termékek Száma": "1"
                                },
                                {
                                    "Kategória Azonosító": "131",
                                    "Termékek Száma": "1"
                                },
                                {
                                    "Kategória Azonosító": "132",
                                    "Termékek Száma": "1"
                                },
                                {
                                    "Kategória Azonosító": "135",
                                    "Termékek Száma": "1"
                                },
                                {
                                    "Kategória Azonosító": "139",
                                    "Termékek Száma": "1"
                                },
                                {
                                    "Kategória Azonosító": "140",
                                    "Termékek Száma": "1"
                                },
                                {
                                    "Kategória Azonosító": "142",
                                    "Termékek Száma": "1"
                                },
                                {
                                    "Kategória Azonosító": "147",
                                    "Termékek Száma": "1"
                                },
                                {
                                    "Kategória Azonosító": "148",
                                    "Termékek Száma": "1"
                                },
                                {
                                    "Kategória Azonosító": "153",
                                    "Termékek Száma": "1"
                                },
                                {
                                    "Kategória Azonosító": "155",
                                    "Termékek Száma": "1"
                                },
                                {
                                    "Kategória Azonosító": "150",
                                    "Termékek Száma": "2"
                                },
                                {
                                    "Kategória Azonosító": "144",
                                    "Termékek Száma": "2"
                                },
                                {
                                    "Kategória Azonosító": "141",
                                    "Termékek Száma": "2"
                                },
                                {
                                    "Kategória Azonosító": "136",
                                    "Termékek Száma": "2"
                                },
                                {
                                    "Kategória Azonosító": "123",
                                    "Termékek Száma": "2"
                                },
                                {
                                    "Kategória Azonosító": "134",
                                    "Termékek Száma": "2"
                                },
                                {
                                    "Kategória Azonosító": "127",
                                    "Termékek Száma": "2"
                                },
                                {
                                    "Kategória Azonosító": "128",
                                    "Termékek Száma": "2"
                                },
                                {
                                    "Kategória Azonosító": "129",
                                    "Termékek Száma": "2"
                                },
                                {
                                    "Kategória Azonosító": "116",
                                    "Termékek Száma": "2"
                                },
                                {
                                    "Kategória Azonosító": "117",
                                    "Termékek Száma": "2"
                                },
                                {
                                    "Kategória Azonosító": "112",
                                    "Termékek Száma": "2"
                                },
                                {
                                    "Kategória Azonosító": "121",
                                    "Termékek Száma": "2"
                                },
                                {
                                    "Kategória Azonosító": "110",
                                    "Termékek Száma": "2"
                                },
                                {
                                    "Kategória Azonosító": "104",
                                    "Termékek Száma": "2"
                                },
                                {
                                    "Kategória Azonosító": "94",
                                    "Termékek Száma": "2"
                                },
                                {
                                    "Kategória Azonosító": "95",
                                    "Termékek Száma": "2"
                                },
                                {
                                    "Kategória Azonosító": "88",
                                    "Termékek Száma": "2"
                                },
                                {
                                    "Kategória Azonosító": "90",
                                    "Termékek Száma": "2"
                                },
                                {
                                    "Kategória Azonosító": "92",
                                    "Termékek Száma": "2"
                                },
                                {
                                    "Kategória Azonosító": "71",
                                    "Termékek Száma": "2"
                                },
                                {
                                    "Kategória Azonosító": "72",
                                    "Termékek Száma": "2"
                                },
                                {
                                    "Kategória Azonosító": "73",
                                    "Termékek Száma": "2"
                                },
                                {
                                    "Kategória Azonosító": "75",
                                    "Termékek Száma": "2"
                                },
                                {
                                    "Kategória Azonosító": "62",
                                    "Termékek Száma": "2"
                                },
                                {
                                    "Kategória Azonosító": "55",
                                    "Termékek Száma": "2"
                                },
                                {
                                    "Kategória Azonosító": "65",
                                    "Termékek Száma": "2"
                                },
                                {
                                    "Kategória Azonosító": "67",
                                    "Termékek Száma": "2"
                                },
                                {
                                    "Kategória Azonosító": "68",
                                    "Termékek Száma": "2"
                                },
                                {
                                    "Kategória Azonosító": "57",
                                    "Termékek Száma": "2"
                                },
                                {
                                    "Kategória Azonosító": "48",
                                    "Termékek Száma": "2"
                                },
                                {
                                    "Kategória Azonosító": "49",
                                    "Termékek Száma": "2"
                                },
                                {
                                    "Kategória Azonosító": "39",
                                    "Termékek Száma": "2"
                                },
                                {
                                    "Kategória Azonosító": "22",
                                    "Termékek Száma": "2"
                                },
                                {
                                    "Kategória Azonosító": "18",
                                    "Termékek Száma": "2"
                                },
                                {
                                    "Kategória Azonosító": "9",
                                    "Termékek Száma": "2"
                                },
                                {
                                    "Kategória Azonosító": "13",
                                    "Termékek Száma": "2"
                                },
                                {
                                    "Kategória Azonosító": "5",
                                    "Termékek Száma": "3"
                                },
                                {
                                    "Kategória Azonosító": "7",
                                    "Termékek Száma": "3"
                                },
                                {
                                    "Kategória Azonosító": "8",
                                    "Termékek Száma": "3"
                                },
                                {
                                    "Kategória Azonosító": "20",
                                    "Termékek Száma": "3"
                                },
                                {
                                    "Kategória Azonosító": "27",
                                    "Termékek Száma": "3"
                                },
                                {
                                    "Kategória Azonosító": "32",
                                    "Termékek Száma": "3"
                                },
                                {
                                    "Kategória Azonosító": "43",
                                    "Termékek Száma": "3"
                                },
                                {
                                    "Kategória Azonosító": "58",
                                    "Termékek Száma": "3"
                                },
                                {
                                    "Kategória Azonosító": "51",
                                    "Termékek Száma": "3"
                                },
                                {
                                    "Kategória Azonosító": "70",
                                    "Termékek Száma": "3"
                                },
                                {
                                    "Kategória Azonosító": "89",
                                    "Termékek Száma": "3"
                                },
                                {
                                    "Kategória Azonosító": "111",
                                    "Termékek Száma": "3"
                                },
                                {
                                    "Kategória Azonosító": "119",
                                    "Termékek Száma": "3"
                                },
                                {
                                    "Kategória Azonosító": "137",
                                    "Termékek Száma": "3"
                                },
                                {
                                    "Kategória Azonosító": "143",
                                    "Termékek Száma": "3"
                                },
                                {
                                    "Kategória Azonosító": "151",
                                    "Termékek Száma": "4"
                                },
                                {
                                    "Kategória Azonosító": "154",
                                    "Termékek Száma": "4"
                                },
                                {
                                    "Kategória Azonosító": "125",
                                    "Termékek Száma": "4"
                                },
                                {
                                    "Kategória Azonosító": "79",
                                    "Termékek Száma": "4"
                                },
                                {
                                    "Kategória Azonosító": "98",
                                    "Termékek Száma": "4"
                                },
                                {
                                    "Kategória Azonosító": "56",
                                    "Termékek Száma": "4"
                                },
                                {
                                    "Kategória Azonosító": "64",
                                    "Termékek Száma": "4"
                                },
                                {
                                    "Kategória Azonosító": "59",
                                    "Termékek Száma": "4"
                                },
                                {
                                    "Kategória Azonosító": "47",
                                    "Termékek Száma": "4"
                                },
                                {
                                    "Kategória Azonosító": "25",
                                    "Termékek Száma": "4"
                                },
                                {
                                    "Kategória Azonosító": "14",
                                    "Termékek Száma": "4"
                                },
                                {
                                    "Kategória Azonosító": "21",
                                    "Termékek Száma": "5"
                                },
                                {
                                    "Kategória Azonosító": "36",
                                    "Termékek Száma": "5"
                                },
                                {
                                    "Kategória Azonosító": "28",
                                    "Termékek Száma": "5"
                                },
                                {
                                    "Kategória Azonosító": "60",
                                    "Termékek Száma": "5"
                                },
                                {
                                    "Kategória Azonosító": "76",
                                    "Termékek Száma": "5"
                                },
                                {
                                    "Kategória Azonosító": "106",
                                    "Termékek Száma": "5"
                                },
                                {
                                    "Kategória Azonosító": "138",
                                    "Termékek Száma": "5"
                                },
                                {
                                    "Kategória Azonosító": "133",
                                    "Termékek Száma": "6"
                                },
                                {
                                    "Kategória Azonosító": "152",
                                    "Termékek Száma": "6"
                                },
                                {
                                    "Kategória Azonosító": "149",
                                    "Termékek Száma": "6"
                                },
                                {
                                    "Kategória Azonosító": "83",
                                    "Termékek Száma": "6"
                                },
                                {
                                    "Kategória Azonosító": "54",
                                    "Termékek Száma": "6"
                                },
                                {
                                    "Kategória Azonosító": "46",
                                    "Termékek Száma": "7"
                                },
                                {
                                    "Kategória Azonosító": "66",
                                    "Termékek Száma": "7"
                                },
                                {
                                    "Kategória Azonosító": "24",
                                    "Termékek Száma": "7"
                                },
                                {
                                    "Kategória Azonosító": "30",
                                    "Termékek Száma": "7"
                                },
                                {
                                    "Kategória Azonosító": "35",
                                    "Termékek Száma": "7"
                                },
                                {
                                    "Kategória Azonosító": "16",
                                    "Termékek Száma": "7"
                                },
                                {
                                    "Kategória Azonosító": "146",
                                    "Termékek Száma": "7"
                                },
                                {
                                    "Kategória Azonosító": "122",
                                    "Termékek Száma": "7"
                                },
                                {
                                    "Kategória Azonosító": "93",
                                    "Termékek Száma": "7"
                                },
                                {
                                    "Kategória Azonosító": "91",
                                    "Termékek Száma": "7"
                                },
                                {
                                    "Kategória Azonosító": "100",
                                    "Termékek Száma": "9"
                                },
                                {
                                    "Kategória Azonosító": "96",
                                    "Termékek Száma": "9"
                                },
                                {
                                    "Kategória Azonosító": "118",
                                    "Termékek Száma": "9"
                                },
                                {
                                    "Kategória Azonosító": "97",
                                    "Termékek Száma": "10"
                                },
                                {
                                    "Kategória Azonosító": "124",
                                    "Termékek Száma": "10"
                                },
                                {
                                    "Kategória Azonosító": "45",
                                    "Termékek Száma": "11"
                                },
                                {
                                    "Kategória Azonosító": "41",
                                    "Termékek Száma": "13"
                                },
                                {
                                    "Kategória Azonosító": "4",
                                    "Termékek Száma": "15"
                                },
                                {
                                    "Kategória Azonosító": "85",
                                    "Termékek Száma": "16"
                                },
                                {
                                    "Kategória Azonosító": "145",
                                    "Termékek Száma": "18"
                                },
                                {
                                    "Kategória Azonosító": "19",
                                    "Termékek Száma": "19"
                                },
                                {
                                    "Kategória Azonosító": "6",
                                    "Termékek Száma": "20"
                                },
                                {
                                    "Kategória Azonosító": "78",
                                    "Termékek Száma": "24"
                                },
                                {
                                    "Kategória Azonosító": "52",
                                    "Termékek Száma": "26"
                                },
                                {
                                    "Kategória Azonosító": "Végösszeg",
                                    "Termékek Száma": "551"
                                }
                            ]
                        },
                        "text/html": [
                            "<table>",
                            "<tr><th>Kategória Azonosító</th><th>Termékek Száma</th></tr>",
                            "<tr><td>10</td><td>1</td></tr>",
                            "<tr><td>11</td><td>1</td></tr>",
                            "<tr><td>12</td><td>1</td></tr>",
                            "<tr><td>15</td><td>1</td></tr>",
                            "<tr><td>17</td><td>1</td></tr>",
                            "<tr><td>26</td><td>1</td></tr>",
                            "<tr><td>29</td><td>1</td></tr>",
                            "<tr><td>31</td><td>1</td></tr>",
                            "<tr><td>33</td><td>1</td></tr>",
                            "<tr><td>34</td><td>1</td></tr>",
                            "<tr><td>37</td><td>1</td></tr>",
                            "<tr><td>38</td><td>1</td></tr>",
                            "<tr><td>40</td><td>1</td></tr>",
                            "<tr><td>42</td><td>1</td></tr>",
                            "<tr><td>44</td><td>1</td></tr>",
                            "<tr><td>50</td><td>1</td></tr>",
                            "<tr><td>53</td><td>1</td></tr>",
                            "<tr><td>61</td><td>1</td></tr>",
                            "<tr><td>74</td><td>1</td></tr>",
                            "<tr><td>80</td><td>1</td></tr>",
                            "<tr><td>82</td><td>1</td></tr>",
                            "<tr><td>84</td><td>1</td></tr>",
                            "<tr><td>86</td><td>1</td></tr>",
                            "<tr><td>99</td><td>1</td></tr>",
                            "<tr><td>101</td><td>1</td></tr>",
                            "<tr><td>103</td><td>1</td></tr>",
                            "<tr><td>105</td><td>1</td></tr>",
                            "<tr><td>107</td><td>1</td></tr>",
                            "<tr><td>108</td><td>1</td></tr>",
                            "<tr><td>109</td><td>1</td></tr>",
                            "<tr><td>114</td><td>1</td></tr>",
                            "<tr><td>115</td><td>1</td></tr>",
                            "<tr><td>126</td><td>1</td></tr>",
                            "<tr><td>130</td><td>1</td></tr>",
                            "<tr><td>131</td><td>1</td></tr>",
                            "<tr><td>132</td><td>1</td></tr>",
                            "<tr><td>135</td><td>1</td></tr>",
                            "<tr><td>139</td><td>1</td></tr>",
                            "<tr><td>140</td><td>1</td></tr>",
                            "<tr><td>142</td><td>1</td></tr>",
                            "<tr><td>147</td><td>1</td></tr>",
                            "<tr><td>148</td><td>1</td></tr>",
                            "<tr><td>153</td><td>1</td></tr>",
                            "<tr><td>155</td><td>1</td></tr>",
                            "<tr><td>150</td><td>2</td></tr>",
                            "<tr><td>144</td><td>2</td></tr>",
                            "<tr><td>141</td><td>2</td></tr>",
                            "<tr><td>136</td><td>2</td></tr>",
                            "<tr><td>123</td><td>2</td></tr>",
                            "<tr><td>134</td><td>2</td></tr>",
                            "<tr><td>127</td><td>2</td></tr>",
                            "<tr><td>128</td><td>2</td></tr>",
                            "<tr><td>129</td><td>2</td></tr>",
                            "<tr><td>116</td><td>2</td></tr>",
                            "<tr><td>117</td><td>2</td></tr>",
                            "<tr><td>112</td><td>2</td></tr>",
                            "<tr><td>121</td><td>2</td></tr>",
                            "<tr><td>110</td><td>2</td></tr>",
                            "<tr><td>104</td><td>2</td></tr>",
                            "<tr><td>94</td><td>2</td></tr>",
                            "<tr><td>95</td><td>2</td></tr>",
                            "<tr><td>88</td><td>2</td></tr>",
                            "<tr><td>90</td><td>2</td></tr>",
                            "<tr><td>92</td><td>2</td></tr>",
                            "<tr><td>71</td><td>2</td></tr>",
                            "<tr><td>72</td><td>2</td></tr>",
                            "<tr><td>73</td><td>2</td></tr>",
                            "<tr><td>75</td><td>2</td></tr>",
                            "<tr><td>62</td><td>2</td></tr>",
                            "<tr><td>55</td><td>2</td></tr>",
                            "<tr><td>65</td><td>2</td></tr>",
                            "<tr><td>67</td><td>2</td></tr>",
                            "<tr><td>68</td><td>2</td></tr>",
                            "<tr><td>57</td><td>2</td></tr>",
                            "<tr><td>48</td><td>2</td></tr>",
                            "<tr><td>49</td><td>2</td></tr>",
                            "<tr><td>39</td><td>2</td></tr>",
                            "<tr><td>22</td><td>2</td></tr>",
                            "<tr><td>18</td><td>2</td></tr>",
                            "<tr><td>9</td><td>2</td></tr>",
                            "<tr><td>13</td><td>2</td></tr>",
                            "<tr><td>5</td><td>3</td></tr>",
                            "<tr><td>7</td><td>3</td></tr>",
                            "<tr><td>8</td><td>3</td></tr>",
                            "<tr><td>20</td><td>3</td></tr>",
                            "<tr><td>27</td><td>3</td></tr>",
                            "<tr><td>32</td><td>3</td></tr>",
                            "<tr><td>43</td><td>3</td></tr>",
                            "<tr><td>58</td><td>3</td></tr>",
                            "<tr><td>51</td><td>3</td></tr>",
                            "<tr><td>70</td><td>3</td></tr>",
                            "<tr><td>89</td><td>3</td></tr>",
                            "<tr><td>111</td><td>3</td></tr>",
                            "<tr><td>119</td><td>3</td></tr>",
                            "<tr><td>137</td><td>3</td></tr>",
                            "<tr><td>143</td><td>3</td></tr>",
                            "<tr><td>151</td><td>4</td></tr>",
                            "<tr><td>154</td><td>4</td></tr>",
                            "<tr><td>125</td><td>4</td></tr>",
                            "<tr><td>79</td><td>4</td></tr>",
                            "<tr><td>98</td><td>4</td></tr>",
                            "<tr><td>56</td><td>4</td></tr>",
                            "<tr><td>64</td><td>4</td></tr>",
                            "<tr><td>59</td><td>4</td></tr>",
                            "<tr><td>47</td><td>4</td></tr>",
                            "<tr><td>25</td><td>4</td></tr>",
                            "<tr><td>14</td><td>4</td></tr>",
                            "<tr><td>21</td><td>5</td></tr>",
                            "<tr><td>36</td><td>5</td></tr>",
                            "<tr><td>28</td><td>5</td></tr>",
                            "<tr><td>60</td><td>5</td></tr>",
                            "<tr><td>76</td><td>5</td></tr>",
                            "<tr><td>106</td><td>5</td></tr>",
                            "<tr><td>138</td><td>5</td></tr>",
                            "<tr><td>133</td><td>6</td></tr>",
                            "<tr><td>152</td><td>6</td></tr>",
                            "<tr><td>149</td><td>6</td></tr>",
                            "<tr><td>83</td><td>6</td></tr>",
                            "<tr><td>54</td><td>6</td></tr>",
                            "<tr><td>46</td><td>7</td></tr>",
                            "<tr><td>66</td><td>7</td></tr>",
                            "<tr><td>24</td><td>7</td></tr>",
                            "<tr><td>30</td><td>7</td></tr>",
                            "<tr><td>35</td><td>7</td></tr>",
                            "<tr><td>16</td><td>7</td></tr>",
                            "<tr><td>146</td><td>7</td></tr>",
                            "<tr><td>122</td><td>7</td></tr>",
                            "<tr><td>93</td><td>7</td></tr>",
                            "<tr><td>91</td><td>7</td></tr>",
                            "<tr><td>100</td><td>9</td></tr>",
                            "<tr><td>96</td><td>9</td></tr>",
                            "<tr><td>118</td><td>9</td></tr>",
                            "<tr><td>97</td><td>10</td></tr>",
                            "<tr><td>124</td><td>10</td></tr>",
                            "<tr><td>45</td><td>11</td></tr>",
                            "<tr><td>41</td><td>13</td></tr>",
                            "<tr><td>4</td><td>15</td></tr>",
                            "<tr><td>85</td><td>16</td></tr>",
                            "<tr><td>145</td><td>18</td></tr>",
                            "<tr><td>19</td><td>19</td></tr>",
                            "<tr><td>6</td><td>20</td></tr>",
                            "<tr><td>78</td><td>24</td></tr>",
                            "<tr><td>52</td><td>26</td></tr>",
                            "<tr><td>Végösszeg</td><td>551</td></tr>",
                            "</table>"
                        ]
                    }
                }
            ],
            "execution_count": 18
        },
        {
            "cell_type": "markdown",
            "source": [
                "4. <span style=\"background-color: rgb(255, 255, 255); color: rgb(0, 0, 0); font-family: &quot;Open Sans&quot;, sans-serif; font-size: 14.44px;\">Készítsünk listát az ügyfelek számáról születési év szerint, azon belül nem szerinti bontásban!&nbsp;</span> \n",
                "\n",
                "a. A lista megfelelően jelölve tartalmazza a részösszegeket és a végösszeget is!  \n",
                "b. Az oszlopoknak adjunk nevet értelemszerűen!"
            ],
            "metadata": {
                "azdata_cell_guid": "8e7fef82-8022-49a0-8255-fc2846c2134b"
            },
            "attachments": {}
        },
        {
            "cell_type": "code",
            "source": [
                "SELECT IIF(GROUPING_ID(szulev) = 1, 'Végösszeg', CAST(szulev as nvarchar(4))) AS 'Születési év',\r\n",
                "       CASE \r\n",
                "         WHEN GROUPING_ID(szulev, nem) = 1 THEN 'Részösszeg'\r\n",
                "         WHEN GROUPING_ID(szulev, nem) = 3 THEN 'Végösszeg'\r\n",
                "         ELSE nem \r\n",
                "         END AS 'Nem',\r\n",
                "       count(*) AS 'Ügyfelek száma'\r\n",
                "FROM ugyfel\r\n",
                "GROUP BY ROLLUP(szulev, nem)"
            ],
            "metadata": {
                "azdata_cell_guid": "36f7b396-4a1f-45e5-8720-2302537c91bc",
                "language": "sql"
            },
            "outputs": [
                {
                    "output_type": "display_data",
                    "data": {
                        "text/html": "(96 rows affected)"
                    },
                    "metadata": {}
                },
                {
                    "output_type": "display_data",
                    "data": {
                        "text/html": "Total execution time: 00:00:00.131"
                    },
                    "metadata": {}
                },
                {
                    "output_type": "execute_result",
                    "metadata": {},
                    "execution_count": 19,
                    "data": {
                        "application/vnd.dataresource+json": {
                            "schema": {
                                "fields": [
                                    {
                                        "name": "Születési év"
                                    },
                                    {
                                        "name": "Nem"
                                    },
                                    {
                                        "name": "Ügyfelek száma"
                                    }
                                ]
                            },
                            "data": [
                                {
                                    "Születési év": "1967",
                                    "Nem": "F",
                                    "Ügyfelek száma": "5"
                                },
                                {
                                    "Születési év": "1967",
                                    "Nem": "N",
                                    "Ügyfelek száma": "3"
                                },
                                {
                                    "Születési év": "1967",
                                    "Nem": "Részösszeg",
                                    "Ügyfelek száma": "8"
                                },
                                {
                                    "Születési év": "1968",
                                    "Nem": "F",
                                    "Ügyfelek száma": "5"
                                },
                                {
                                    "Születési év": "1968",
                                    "Nem": "N",
                                    "Ügyfelek száma": "3"
                                },
                                {
                                    "Születési év": "1968",
                                    "Nem": "Részösszeg",
                                    "Ügyfelek száma": "8"
                                },
                                {
                                    "Születési év": "1969",
                                    "Nem": "F",
                                    "Ügyfelek száma": "5"
                                },
                                {
                                    "Születési év": "1969",
                                    "Nem": "N",
                                    "Ügyfelek száma": "3"
                                },
                                {
                                    "Születési év": "1969",
                                    "Nem": "Részösszeg",
                                    "Ügyfelek száma": "8"
                                },
                                {
                                    "Születési év": "1970",
                                    "Nem": "F",
                                    "Ügyfelek száma": "4"
                                },
                                {
                                    "Születési év": "1970",
                                    "Nem": "Részösszeg",
                                    "Ügyfelek száma": "4"
                                },
                                {
                                    "Születési év": "1971",
                                    "Nem": "F",
                                    "Ügyfelek száma": "2"
                                },
                                {
                                    "Születési év": "1971",
                                    "Nem": "N",
                                    "Ügyfelek száma": "3"
                                },
                                {
                                    "Születési év": "1971",
                                    "Nem": "Részösszeg",
                                    "Ügyfelek száma": "5"
                                },
                                {
                                    "Születési év": "1972",
                                    "Nem": "F",
                                    "Ügyfelek száma": "2"
                                },
                                {
                                    "Születési év": "1972",
                                    "Nem": "N",
                                    "Ügyfelek száma": "2"
                                },
                                {
                                    "Születési év": "1972",
                                    "Nem": "Részösszeg",
                                    "Ügyfelek száma": "4"
                                },
                                {
                                    "Születési év": "1973",
                                    "Nem": "F",
                                    "Ügyfelek száma": "2"
                                },
                                {
                                    "Születési év": "1973",
                                    "Nem": "N",
                                    "Ügyfelek száma": "2"
                                },
                                {
                                    "Születési év": "1973",
                                    "Nem": "Részösszeg",
                                    "Ügyfelek száma": "4"
                                },
                                {
                                    "Születési év": "1974",
                                    "Nem": "F",
                                    "Ügyfelek száma": "1"
                                },
                                {
                                    "Születési év": "1974",
                                    "Nem": "N",
                                    "Ügyfelek száma": "3"
                                },
                                {
                                    "Születési év": "1974",
                                    "Nem": "Részösszeg",
                                    "Ügyfelek száma": "4"
                                },
                                {
                                    "Születési év": "1975",
                                    "Nem": "F",
                                    "Ügyfelek száma": "8"
                                },
                                {
                                    "Születési év": "1975",
                                    "Nem": "N",
                                    "Ügyfelek száma": "3"
                                },
                                {
                                    "Születési év": "1975",
                                    "Nem": "Részösszeg",
                                    "Ügyfelek száma": "11"
                                },
                                {
                                    "Születési év": "1976",
                                    "Nem": "F",
                                    "Ügyfelek száma": "5"
                                },
                                {
                                    "Születési év": "1976",
                                    "Nem": "N",
                                    "Ügyfelek száma": "2"
                                },
                                {
                                    "Születési év": "1976",
                                    "Nem": "Részösszeg",
                                    "Ügyfelek száma": "7"
                                },
                                {
                                    "Születési év": "1977",
                                    "Nem": "F",
                                    "Ügyfelek száma": "4"
                                },
                                {
                                    "Születési év": "1977",
                                    "Nem": "N",
                                    "Ügyfelek száma": "1"
                                },
                                {
                                    "Születési év": "1977",
                                    "Nem": "Részösszeg",
                                    "Ügyfelek száma": "5"
                                },
                                {
                                    "Születési év": "1978",
                                    "Nem": "F",
                                    "Ügyfelek száma": "3"
                                },
                                {
                                    "Születési év": "1978",
                                    "Nem": "N",
                                    "Ügyfelek száma": "4"
                                },
                                {
                                    "Születési év": "1978",
                                    "Nem": "Részösszeg",
                                    "Ügyfelek száma": "7"
                                },
                                {
                                    "Születési év": "1979",
                                    "Nem": "F",
                                    "Ügyfelek száma": "4"
                                },
                                {
                                    "Születési év": "1979",
                                    "Nem": "N",
                                    "Ügyfelek száma": "3"
                                },
                                {
                                    "Születési év": "1979",
                                    "Nem": "Részösszeg",
                                    "Ügyfelek száma": "7"
                                },
                                {
                                    "Születési év": "1980",
                                    "Nem": "F",
                                    "Ügyfelek száma": "4"
                                },
                                {
                                    "Születési év": "1980",
                                    "Nem": "N",
                                    "Ügyfelek száma": "3"
                                },
                                {
                                    "Születési év": "1980",
                                    "Nem": "Részösszeg",
                                    "Ügyfelek száma": "7"
                                },
                                {
                                    "Születési év": "1981",
                                    "Nem": "N",
                                    "Ügyfelek száma": "4"
                                },
                                {
                                    "Születési év": "1981",
                                    "Nem": "Részösszeg",
                                    "Ügyfelek száma": "4"
                                },
                                {
                                    "Születési év": "1982",
                                    "Nem": "F",
                                    "Ügyfelek száma": "2"
                                },
                                {
                                    "Születési év": "1982",
                                    "Nem": "N",
                                    "Ügyfelek száma": "2"
                                },
                                {
                                    "Születési év": "1982",
                                    "Nem": "Részösszeg",
                                    "Ügyfelek száma": "4"
                                },
                                {
                                    "Születési év": "1983",
                                    "Nem": "F",
                                    "Ügyfelek száma": "5"
                                },
                                {
                                    "Születési év": "1983",
                                    "Nem": "N",
                                    "Ügyfelek száma": "3"
                                },
                                {
                                    "Születési év": "1983",
                                    "Nem": "Részösszeg",
                                    "Ügyfelek száma": "8"
                                },
                                {
                                    "Születési év": "1984",
                                    "Nem": "F",
                                    "Ügyfelek száma": "6"
                                },
                                {
                                    "Születési év": "1984",
                                    "Nem": "N",
                                    "Ügyfelek száma": "2"
                                },
                                {
                                    "Születési év": "1984",
                                    "Nem": "Részösszeg",
                                    "Ügyfelek száma": "8"
                                },
                                {
                                    "Születési év": "1985",
                                    "Nem": "F",
                                    "Ügyfelek száma": "5"
                                },
                                {
                                    "Születési év": "1985",
                                    "Nem": "N",
                                    "Ügyfelek száma": "1"
                                },
                                {
                                    "Születési év": "1985",
                                    "Nem": "Részösszeg",
                                    "Ügyfelek száma": "6"
                                },
                                {
                                    "Születési év": "1986",
                                    "Nem": "F",
                                    "Ügyfelek száma": "7"
                                },
                                {
                                    "Születési év": "1986",
                                    "Nem": "N",
                                    "Ügyfelek száma": "2"
                                },
                                {
                                    "Születési év": "1986",
                                    "Nem": "Részösszeg",
                                    "Ügyfelek száma": "9"
                                },
                                {
                                    "Születési év": "1987",
                                    "Nem": "F",
                                    "Ügyfelek száma": "2"
                                },
                                {
                                    "Születési év": "1987",
                                    "Nem": "N",
                                    "Ügyfelek száma": "3"
                                },
                                {
                                    "Születési év": "1987",
                                    "Nem": "Részösszeg",
                                    "Ügyfelek száma": "5"
                                },
                                {
                                    "Születési év": "1988",
                                    "Nem": "F",
                                    "Ügyfelek száma": "2"
                                },
                                {
                                    "Születési év": "1988",
                                    "Nem": "N",
                                    "Ügyfelek száma": "4"
                                },
                                {
                                    "Születési év": "1988",
                                    "Nem": "Részösszeg",
                                    "Ügyfelek száma": "6"
                                },
                                {
                                    "Születési év": "1989",
                                    "Nem": "F",
                                    "Ügyfelek száma": "6"
                                },
                                {
                                    "Születési év": "1989",
                                    "Nem": "N",
                                    "Ügyfelek száma": "1"
                                },
                                {
                                    "Születési év": "1989",
                                    "Nem": "Részösszeg",
                                    "Ügyfelek száma": "7"
                                },
                                {
                                    "Születési év": "1990",
                                    "Nem": "F",
                                    "Ügyfelek száma": "5"
                                },
                                {
                                    "Születési év": "1990",
                                    "Nem": "N",
                                    "Ügyfelek száma": "3"
                                },
                                {
                                    "Születési év": "1990",
                                    "Nem": "Részösszeg",
                                    "Ügyfelek száma": "8"
                                },
                                {
                                    "Születési év": "1991",
                                    "Nem": "F",
                                    "Ügyfelek száma": "3"
                                },
                                {
                                    "Születési év": "1991",
                                    "Nem": "N",
                                    "Ügyfelek száma": "3"
                                },
                                {
                                    "Születési év": "1991",
                                    "Nem": "Részösszeg",
                                    "Ügyfelek száma": "6"
                                },
                                {
                                    "Születési év": "1992",
                                    "Nem": "F",
                                    "Ügyfelek száma": "3"
                                },
                                {
                                    "Születési év": "1992",
                                    "Nem": "N",
                                    "Ügyfelek száma": "1"
                                },
                                {
                                    "Születési év": "1992",
                                    "Nem": "Részösszeg",
                                    "Ügyfelek száma": "4"
                                },
                                {
                                    "Születési év": "1993",
                                    "Nem": "F",
                                    "Ügyfelek száma": "2"
                                },
                                {
                                    "Születési év": "1993",
                                    "Nem": "N",
                                    "Ügyfelek száma": "3"
                                },
                                {
                                    "Születési év": "1993",
                                    "Nem": "Részösszeg",
                                    "Ügyfelek száma": "5"
                                },
                                {
                                    "Születési év": "1994",
                                    "Nem": "N",
                                    "Ügyfelek száma": "3"
                                },
                                {
                                    "Születési év": "1994",
                                    "Nem": "Részösszeg",
                                    "Ügyfelek száma": "3"
                                },
                                {
                                    "Születési év": "1995",
                                    "Nem": "F",
                                    "Ügyfelek száma": "3"
                                },
                                {
                                    "Születési év": "1995",
                                    "Nem": "N",
                                    "Ügyfelek száma": "3"
                                },
                                {
                                    "Születési év": "1995",
                                    "Nem": "Részösszeg",
                                    "Ügyfelek száma": "6"
                                },
                                {
                                    "Születési év": "1996",
                                    "Nem": "F",
                                    "Ügyfelek száma": "2"
                                },
                                {
                                    "Születési év": "1996",
                                    "Nem": "N",
                                    "Ügyfelek száma": "5"
                                },
                                {
                                    "Születési év": "1996",
                                    "Nem": "Részösszeg",
                                    "Ügyfelek száma": "7"
                                },
                                {
                                    "Születési év": "1997",
                                    "Nem": "F",
                                    "Ügyfelek száma": "10"
                                },
                                {
                                    "Születési év": "1997",
                                    "Nem": "N",
                                    "Ügyfelek száma": "2"
                                },
                                {
                                    "Születési év": "1997",
                                    "Nem": "Részösszeg",
                                    "Ügyfelek száma": "12"
                                },
                                {
                                    "Születési év": "1998",
                                    "Nem": "F",
                                    "Ügyfelek száma": "1"
                                },
                                {
                                    "Születési év": "1998",
                                    "Nem": "N",
                                    "Ügyfelek száma": "1"
                                },
                                {
                                    "Születési év": "1998",
                                    "Nem": "Részösszeg",
                                    "Ügyfelek száma": "2"
                                },
                                {
                                    "Születési év": "2000",
                                    "Nem": "F",
                                    "Ügyfelek száma": "1"
                                },
                                {
                                    "Születési év": "2000",
                                    "Nem": "Részösszeg",
                                    "Ügyfelek száma": "1"
                                },
                                {
                                    "Születési év": "Végösszeg",
                                    "Nem": "Végösszeg",
                                    "Ügyfelek száma": "200"
                                }
                            ]
                        },
                        "text/html": [
                            "<table>",
                            "<tr><th>Születési év</th><th>Nem</th><th>Ügyfelek száma</th></tr>",
                            "<tr><td>1967</td><td>F</td><td>5</td></tr>",
                            "<tr><td>1967</td><td>N</td><td>3</td></tr>",
                            "<tr><td>1967</td><td>Részösszeg</td><td>8</td></tr>",
                            "<tr><td>1968</td><td>F</td><td>5</td></tr>",
                            "<tr><td>1968</td><td>N</td><td>3</td></tr>",
                            "<tr><td>1968</td><td>Részösszeg</td><td>8</td></tr>",
                            "<tr><td>1969</td><td>F</td><td>5</td></tr>",
                            "<tr><td>1969</td><td>N</td><td>3</td></tr>",
                            "<tr><td>1969</td><td>Részösszeg</td><td>8</td></tr>",
                            "<tr><td>1970</td><td>F</td><td>4</td></tr>",
                            "<tr><td>1970</td><td>Részösszeg</td><td>4</td></tr>",
                            "<tr><td>1971</td><td>F</td><td>2</td></tr>",
                            "<tr><td>1971</td><td>N</td><td>3</td></tr>",
                            "<tr><td>1971</td><td>Részösszeg</td><td>5</td></tr>",
                            "<tr><td>1972</td><td>F</td><td>2</td></tr>",
                            "<tr><td>1972</td><td>N</td><td>2</td></tr>",
                            "<tr><td>1972</td><td>Részösszeg</td><td>4</td></tr>",
                            "<tr><td>1973</td><td>F</td><td>2</td></tr>",
                            "<tr><td>1973</td><td>N</td><td>2</td></tr>",
                            "<tr><td>1973</td><td>Részösszeg</td><td>4</td></tr>",
                            "<tr><td>1974</td><td>F</td><td>1</td></tr>",
                            "<tr><td>1974</td><td>N</td><td>3</td></tr>",
                            "<tr><td>1974</td><td>Részösszeg</td><td>4</td></tr>",
                            "<tr><td>1975</td><td>F</td><td>8</td></tr>",
                            "<tr><td>1975</td><td>N</td><td>3</td></tr>",
                            "<tr><td>1975</td><td>Részösszeg</td><td>11</td></tr>",
                            "<tr><td>1976</td><td>F</td><td>5</td></tr>",
                            "<tr><td>1976</td><td>N</td><td>2</td></tr>",
                            "<tr><td>1976</td><td>Részösszeg</td><td>7</td></tr>",
                            "<tr><td>1977</td><td>F</td><td>4</td></tr>",
                            "<tr><td>1977</td><td>N</td><td>1</td></tr>",
                            "<tr><td>1977</td><td>Részösszeg</td><td>5</td></tr>",
                            "<tr><td>1978</td><td>F</td><td>3</td></tr>",
                            "<tr><td>1978</td><td>N</td><td>4</td></tr>",
                            "<tr><td>1978</td><td>Részösszeg</td><td>7</td></tr>",
                            "<tr><td>1979</td><td>F</td><td>4</td></tr>",
                            "<tr><td>1979</td><td>N</td><td>3</td></tr>",
                            "<tr><td>1979</td><td>Részösszeg</td><td>7</td></tr>",
                            "<tr><td>1980</td><td>F</td><td>4</td></tr>",
                            "<tr><td>1980</td><td>N</td><td>3</td></tr>",
                            "<tr><td>1980</td><td>Részösszeg</td><td>7</td></tr>",
                            "<tr><td>1981</td><td>N</td><td>4</td></tr>",
                            "<tr><td>1981</td><td>Részösszeg</td><td>4</td></tr>",
                            "<tr><td>1982</td><td>F</td><td>2</td></tr>",
                            "<tr><td>1982</td><td>N</td><td>2</td></tr>",
                            "<tr><td>1982</td><td>Részösszeg</td><td>4</td></tr>",
                            "<tr><td>1983</td><td>F</td><td>5</td></tr>",
                            "<tr><td>1983</td><td>N</td><td>3</td></tr>",
                            "<tr><td>1983</td><td>Részösszeg</td><td>8</td></tr>",
                            "<tr><td>1984</td><td>F</td><td>6</td></tr>",
                            "<tr><td>1984</td><td>N</td><td>2</td></tr>",
                            "<tr><td>1984</td><td>Részösszeg</td><td>8</td></tr>",
                            "<tr><td>1985</td><td>F</td><td>5</td></tr>",
                            "<tr><td>1985</td><td>N</td><td>1</td></tr>",
                            "<tr><td>1985</td><td>Részösszeg</td><td>6</td></tr>",
                            "<tr><td>1986</td><td>F</td><td>7</td></tr>",
                            "<tr><td>1986</td><td>N</td><td>2</td></tr>",
                            "<tr><td>1986</td><td>Részösszeg</td><td>9</td></tr>",
                            "<tr><td>1987</td><td>F</td><td>2</td></tr>",
                            "<tr><td>1987</td><td>N</td><td>3</td></tr>",
                            "<tr><td>1987</td><td>Részösszeg</td><td>5</td></tr>",
                            "<tr><td>1988</td><td>F</td><td>2</td></tr>",
                            "<tr><td>1988</td><td>N</td><td>4</td></tr>",
                            "<tr><td>1988</td><td>Részösszeg</td><td>6</td></tr>",
                            "<tr><td>1989</td><td>F</td><td>6</td></tr>",
                            "<tr><td>1989</td><td>N</td><td>1</td></tr>",
                            "<tr><td>1989</td><td>Részösszeg</td><td>7</td></tr>",
                            "<tr><td>1990</td><td>F</td><td>5</td></tr>",
                            "<tr><td>1990</td><td>N</td><td>3</td></tr>",
                            "<tr><td>1990</td><td>Részösszeg</td><td>8</td></tr>",
                            "<tr><td>1991</td><td>F</td><td>3</td></tr>",
                            "<tr><td>1991</td><td>N</td><td>3</td></tr>",
                            "<tr><td>1991</td><td>Részösszeg</td><td>6</td></tr>",
                            "<tr><td>1992</td><td>F</td><td>3</td></tr>",
                            "<tr><td>1992</td><td>N</td><td>1</td></tr>",
                            "<tr><td>1992</td><td>Részösszeg</td><td>4</td></tr>",
                            "<tr><td>1993</td><td>F</td><td>2</td></tr>",
                            "<tr><td>1993</td><td>N</td><td>3</td></tr>",
                            "<tr><td>1993</td><td>Részösszeg</td><td>5</td></tr>",
                            "<tr><td>1994</td><td>N</td><td>3</td></tr>",
                            "<tr><td>1994</td><td>Részösszeg</td><td>3</td></tr>",
                            "<tr><td>1995</td><td>F</td><td>3</td></tr>",
                            "<tr><td>1995</td><td>N</td><td>3</td></tr>",
                            "<tr><td>1995</td><td>Részösszeg</td><td>6</td></tr>",
                            "<tr><td>1996</td><td>F</td><td>2</td></tr>",
                            "<tr><td>1996</td><td>N</td><td>5</td></tr>",
                            "<tr><td>1996</td><td>Részösszeg</td><td>7</td></tr>",
                            "<tr><td>1997</td><td>F</td><td>10</td></tr>",
                            "<tr><td>1997</td><td>N</td><td>2</td></tr>",
                            "<tr><td>1997</td><td>Részösszeg</td><td>12</td></tr>",
                            "<tr><td>1998</td><td>F</td><td>1</td></tr>",
                            "<tr><td>1998</td><td>N</td><td>1</td></tr>",
                            "<tr><td>1998</td><td>Részösszeg</td><td>2</td></tr>",
                            "<tr><td>2000</td><td>F</td><td>1</td></tr>",
                            "<tr><td>2000</td><td>Részösszeg</td><td>1</td></tr>",
                            "<tr><td>Végösszeg</td><td>Végösszeg</td><td>200</td></tr>",
                            "</table>"
                        ]
                    }
                }
            ],
            "execution_count": 19
        },
        {
            "cell_type": "markdown",
            "source": [
                "5. <span style=\"background-color: rgb(255, 255, 255); color: rgb(0, 0, 0); font-family: &quot;Open Sans&quot;, sans-serif; font-size: 14.44px;\">Készítsünk listát a termékek számáról a felvitel hónapja, azon belül napja szerint csoportosítva.&nbsp;</span> \n",
                "\n",
                "a. A lista csak a részösszegeket és a végösszeget tartalmazza!  \n",
                "b. Az oszlopoknak adjunk megfelelő nevet!  \n",
                "c. Ötlet: HAVING + GROUPING\\_ID fv együttes használata"
            ],
            "metadata": {
                "azdata_cell_guid": "84239ca2-6b5e-49f5-9860-d44c11d6de32"
            },
            "attachments": {}
        },
        {
            "cell_type": "code",
            "source": [
                "select MONTH(FELVITEL) AS 'Hónap',\r\n",
                "        DAY(FELVITEL) AS 'Nap',\r\n",
                "        count(*) AS 'Termékek száma'\r\n",
                "from termek\r\n",
                "GROUP BY ROLLUP(MONTH(FELVITEL), DAY(FELVITEL))\r\n",
                "HAVING GROUPING_ID(MONTH(felvitel), DAY(felvitel)) > 0"
            ],
            "metadata": {
                "azdata_cell_guid": "06d9a62b-9430-424b-a135-d80e675f0eb3",
                "language": "sql"
            },
            "outputs": [
                {
                    "output_type": "display_data",
                    "data": {
                        "text/html": "(5 rows affected)"
                    },
                    "metadata": {}
                },
                {
                    "output_type": "display_data",
                    "data": {
                        "text/html": "Total execution time: 00:00:00.081"
                    },
                    "metadata": {}
                },
                {
                    "output_type": "execute_result",
                    "metadata": {},
                    "execution_count": 25,
                    "data": {
                        "application/vnd.dataresource+json": {
                            "schema": {
                                "fields": [
                                    {
                                        "name": "Hónap"
                                    },
                                    {
                                        "name": "Nap"
                                    },
                                    {
                                        "name": "Termékek száma"
                                    }
                                ]
                            },
                            "data": [
                                {
                                    "Hónap": "7",
                                    "Nap": "NULL",
                                    "Termékek száma": "355"
                                },
                                {
                                    "Hónap": "8",
                                    "Nap": "NULL",
                                    "Termékek száma": "194"
                                },
                                {
                                    "Hónap": "9",
                                    "Nap": "NULL",
                                    "Termékek száma": "1"
                                },
                                {
                                    "Hónap": "12",
                                    "Nap": "NULL",
                                    "Termékek száma": "1"
                                },
                                {
                                    "Hónap": "NULL",
                                    "Nap": "NULL",
                                    "Termékek száma": "551"
                                }
                            ]
                        },
                        "text/html": [
                            "<table>",
                            "<tr><th>Hónap</th><th>Nap</th><th>Termékek száma</th></tr>",
                            "<tr><td>7</td><td>NULL</td><td>355</td></tr>",
                            "<tr><td>8</td><td>NULL</td><td>194</td></tr>",
                            "<tr><td>9</td><td>NULL</td><td>1</td></tr>",
                            "<tr><td>12</td><td>NULL</td><td>1</td></tr>",
                            "<tr><td>NULL</td><td>NULL</td><td>551</td></tr>",
                            "</table>"
                        ]
                    }
                }
            ],
            "execution_count": 25
        }
    ]
}