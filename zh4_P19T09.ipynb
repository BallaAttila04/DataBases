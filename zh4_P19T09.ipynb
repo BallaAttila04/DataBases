{
 "cells": [
  {
   "cell_type": "code",
   "execution_count": null,
   "metadata": {},
   "outputs": [
    {
     "ename": "",
     "evalue": "",
     "output_type": "error",
     "traceback": [
      "\u001b[1;31mRunning cells with 'Python 3.11.5' requires the ipykernel package.\n",
      "\u001b[1;31mRun the following command to install 'ipykernel' into the Python environment. \n",
      "\u001b[1;31mCommand: 'c:/Users/Hp/AppData/Local/Programs/Python/Python311/python.exe -m pip install ipykernel -U --user --force-reinstall'"
     ]
    }
   ],
   "source": [
    "SELECT \n",
    "    s.SZOBA_ID,\n",
    "    COUNT(f.FOGLALAS_PK) AS foglalasok_szama\n",
    "FROM \n",
    "    SZOBA s\n",
    "LEFT JOIN \n",
    "    FOGLALAS f ON s.SZOBA_ID = f.SZOBA_FK\n",
    "GROUP BY \n",
    "    s.SZOBA_ID\n",
    "ORDER BY \n",
    "    s.SZOBA_ID;"
   ]
  },
  {
   "cell_type": "code",
   "execution_count": null,
   "metadata": {},
   "outputs": [
    {
     "ename": "",
     "evalue": "",
     "output_type": "error",
     "traceback": [
      "\u001b[1;31mRunning cells with 'Python 3.11.5' requires the ipykernel package.\n",
      "\u001b[1;31mRun the following command to install 'ipykernel' into the Python environment. \n",
      "\u001b[1;31mCommand: 'c:/Users/Hp/AppData/Local/Programs/Python/Python311/python.exe -m pip install ipykernel -U --user --force-reinstall'"
     ]
    }
   ],
   "source": [
    "SELECT TOP 1\n",
    "    v.USERNEV,\n",
    "    v.NEV,\n",
    "    v.EMAIL,\n",
    "    v.SZAML_CIM,\n",
    "    v.SZUL_DAT\n",
    "FROM \n",
    "    VENDEG v\n",
    "JOIN \n",
    "    FOGLALAS f ON v.USERNEV = f.UGYFEL_FK\n",
    "JOIN \n",
    "    SZOBA s ON s.SZOBA_ID = f.SZOBA_FK\n",
    "WHERE \n",
    "    s.FEROHELY = (SELECT MAX(FEROHELY) FROM SZOBA WHERE KLIMAS = 'i')\n",
    "    AND s.KLIMAS = 'i'\n",
    "ORDER BY \n",
    "    s.FEROHELY DESC;"
   ]
  },
  {
   "cell_type": "code",
   "execution_count": null,
   "metadata": {},
   "outputs": [
    {
     "ename": "",
     "evalue": "",
     "output_type": "error",
     "traceback": [
      "\u001b[1;31mRunning cells with 'Python 3.11.5' requires the ipykernel package.\n",
      "\u001b[1;31mRun the following command to install 'ipykernel' into the Python environment. \n",
      "\u001b[1;31mCommand: 'c:/Users/Hp/AppData/Local/Programs/Python/Python311/python.exe -m pip install ipykernel -U --user --force-reinstall'"
     ]
    }
   ],
   "source": [
    "SELECT \n",
    "    V.USERNEV as Vendeg_Azonosito,\n",
    "    V.NEV as Vendeg_Nev,\n",
    "    V.SZUL_DAT as Szuletesi_Datum,\n",
    "    MIN(F.METTOL) as Elso_Foglalas_Datuma,\n",
    "    MAX(F.METTOL) as Utolso_Foglalas_Datuma\n",
    "FROM \n",
    "    VENDEG V\n",
    "JOIN \n",
    "    FOGLALAS F ON V.USERNEV = F.UGYFEL_FK\n",
    "GROUP BY \n",
    "    V.USERNEV, V.NEV, V.SZUL_DAT\n"
   ]
  },
  {
   "cell_type": "code",
   "execution_count": null,
   "metadata": {},
   "outputs": [],
   "source": [
    "SELECT \n",
    "    SZOBA_FK,\n",
    "    METTOL,\n",
    "    COUNT(*) AS foglalasok_szama\n",
    "FROM \n",
    "    Foglalas\n",
    "GROUP BY \n",
    "    SZOBA_FK, METTOL\n",
    "HAVING \n",
    "    COUNT(*) >= 2\n",
    "ORDER BY \n",
    "    SZOBA_FK, METTOL;"
   ]
  },
  {
   "cell_type": "code",
   "execution_count": null,
   "metadata": {},
   "outputs": [
    {
     "ename": "",
     "evalue": "",
     "output_type": "error",
     "traceback": [
      "\u001b[1;31mRunning cells with 'Python 3.11.5' requires the ipykernel package.\n",
      "\u001b[1;31mRun the following command to install 'ipykernel' into the Python environment. \n",
      "\u001b[1;31mCommand: 'c:/Users/Hp/AppData/Local/Programs/Python/Python311/python.exe -m pip install ipykernel -U --user --force-reinstall'"
     ]
    }
   ],
   "source": [
    "SELECT \n",
    "    COUNT(DISTINCT FEROHELY) AS KulonbozoErtekekSzama,\n",
    "    MIN(FEROHELY) AS MinimumFerohely,\n",
    "    MAX(FEROHELY) AS MaximumFerohely,\n",
    "    AVG(FEROHELY) AS AtlagFerohely,\n",
    "    (COUNT(FEROHELY) * 100.0 / COUNT(*)) AS SzazalekNemNull,\n",
    "    (100.0 * SUM(CASE WHEN FEROHELY IS NULL THEN 1 ELSE 0 END) / COUNT(*)) AS SzazalekNull\n",
    "FROM \n",
    "    SZOBA;"
   ]
  },
  {
   "cell_type": "code",
   "execution_count": null,
   "metadata": {},
   "outputs": [],
   "source": [
    "HSET IRO:1 ID 1 nev \"Jókai Mór\" nemzetiseg \"Magyar\"\n",
    "HSET IRO:2 ID 2 nev \"Jane Austen\" nemzetiseg \"Angol\"\n",
    "\n",
    "HSET KONYV:1 ID 1 cim \"Az arany ember\" mufaj \"Regény\" IRO_ID 1\n",
    "HSET KONYV:2 ID 2 cim \"Büszkeség és balítélet\" mufaj \"Regény\" IRO_ID 2\n",
    "\n",
    "\n",
    "# Összes író lekérdezése\n",
    "\n",
    "HGETALL IRO:1 HGETALL IRO:2 \n",
    "\n",
    "# Összes könyv lekérdezése\n",
    "\n",
    "HGETALL KONYV:1 HGETALL KONYV:2"
   ]
  },
  {
   "cell_type": "code",
   "execution_count": null,
   "metadata": {},
   "outputs": [],
   "source": [
    "CREATE TABLE STUDENT (\n",
    "    ID int PRIMARY KEY,\n",
    "    Nev text,\n",
    "    Teljesitett_felevek list<int>,\n",
    "    Eredmenyek map<int, float>,\n",
    "    Nyelvtudas set<text>\n",
    ");\n",
    "\n",
    "INSERT INTO STUDENT (ID, Nev, Teljesitett_felevek, Eredmenyek, Nyelvtudas) VALUES (\n",
    "    1,\n",
    "    'Kovács Béla',\n",
    "    [1, 2, 3],\n",
    "    {1: 3.00, 2: 4.55, 3: 4.10},\n",
    "    {'angol', 'német'}\n",
    ");\n",
    "\n",
    "INSERT INTO STUDENT (ID, Nev, Teljesitett_felevek, Eredmenyek, Nyelvtudas) VALUES (\n",
    "    2,\n",
    "    'Nagy Eszter',\n",
    "    [1, 2, 3],\n",
    "    {1: 3.50, 2: 4.20, 3: 4.80},\n",
    "    {'angol', 'francia', 'spanyol'}\n",
    ");\n",
    "\n",
    "SELECT * FROM STUDENT;\n"
   ]
  },
  {
   "cell_type": "code",
   "execution_count": null,
   "metadata": {},
   "outputs": [],
   "source": [
    "MATCH (tom:Person)-[:ACTED_IN]->(m:Movie)<-[:ACTED_IN]-(coSzinesz:Person)\n",
    "WHERE tom.name = 'Tom Hanks' AND coSzinesz.name <> 'Tom Hanks'\n",
    "RETURN DISTINCT coSzinesz.name"
   ]
  }
 ],
 "metadata": {
  "kernelspec": {
   "display_name": "Python 3",
   "language": "python",
   "name": "python3"
  },
  "language_info": {
   "name": "python",
   "version": "3.11.5"
  }
 },
 "nbformat": 4,
 "nbformat_minor": 2
}
